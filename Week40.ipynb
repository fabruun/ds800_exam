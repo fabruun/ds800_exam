{
 "cells": [
  {
   "cell_type": "markdown",
   "metadata": {},
   "source": [
    "# Exercise 1\n",
    "Write a function `palindrome(s)` that checks if the given strings is a palindrome or not."
   ]
  },
  {
   "cell_type": "code",
   "execution_count": 6,
   "metadata": {},
   "outputs": [
    {
     "name": "stdout",
     "output_type": "stream",
     "text": [
      "True\n"
     ]
    }
   ],
   "source": [
    "def palindrome(s):\n",
    "    return s == s[::-1]\n",
    "\n",
    "print(palindrome(\"aibofobia\"))"
   ]
  },
  {
   "cell_type": "markdown",
   "metadata": {},
   "source": [
    "# Exercise 2\n",
    "Write  a  function `bubblesort(l)` that  sorts  a  given  list  of  numbers L using Bubble sort. The sorting is done in-place, which means that only L is used and no copies or new lists. For Bubble sort, you need to implement the following procedure:\n",
    "```\n",
    "INIT variable change as True \n",
    "WHILE change is True DO:\n",
    "    SET change to False \n",
    "    FOR each item in L at position i except the last item DO:\n",
    "        IF item at position i is larger than item at position i+1:\n",
    "            exchange items SET change to True\n",
    "```"
   ]
  },
  {
   "cell_type": "code",
   "execution_count": 10,
   "metadata": {
    "scrolled": true
   },
   "outputs": [
    {
     "name": "stdout",
     "output_type": "stream",
     "text": [
      "[1, 2, 3, 4, 4, 4, 5, 5, 6, 7, 8, 9]\n"
     ]
    }
   ],
   "source": [
    "def bubblesort(l):\n",
    "    length = len(l)\n",
    "    for i in range(length):\n",
    "        for j in range(length - i):\n",
    "            item = l[j]\n",
    "            if item != l[-1]:\n",
    "                next_item = l[j+1]\n",
    "                if item > next_item:\n",
    "                    l[j] = next_item\n",
    "                    l[j+1] = item\n",
    "    \n",
    "    return l\n",
    "    \n",
    "print(bubblesort([5, 5, 4, 8, 9, 6 ,3, 2, 1, 4, 4, 7]))"
   ]
  },
  {
   "cell_type": "markdown",
   "metadata": {},
   "source": [
    "# Exercise 3\n",
    "Extend  the  module quiz with  the  following  functionality  to  allow  for  user-generated questions:\n",
    "- `userQuestion():`  When  calling  the  function,  input  dialogs  are  used  to type in (1) the quiz question, (2) four possible answers, and (3) the correct answer  (1 to 4).  Make  sure  that  the  user  inputs  a  valid  number.   All information is stored to a local CSV file by calling the store function.\n",
    "- `store(question,answers,correct):`  The function takes the question as a string, the four answers as a list of strings and the correct answer as an integer value in the range [1,4].  It opens the local file myquestions.csv, and adds the following line: \\\n",
    "`question \\t answer1 \\t answer2 \\t answer3 \\t answer4 \\t correct`\n",
    "\n",
    "Finally, the question is added to the global list of quiz questions questions by calling the add function."
   ]
  },
  {
   "cell_type": "code",
   "execution_count": 7,
   "metadata": {},
   "outputs": [
    {
     "name": "stdout",
     "output_type": "stream",
     "text": [
      "What question do you wanna ask? asd\n",
      "Please input a possible answer. asd\n",
      "Please input a possible answer. asd\n",
      "Please input a possible answer. asd\n",
      "Please input a possible answer. asd\n",
      "Please input a number that corresponds to the correct answer. 1\n"
     ]
    }
   ],
   "source": [
    "import random\n",
    "import csv\n",
    "\n",
    "questions = [{\n",
    "    \"question\": \"Which of these is not one of the three branches of the US government?\",\n",
    "    \"answers\": [\"Judicial\",\"Executive\",\"Parliamentary\",\"Legislative\"],\n",
    "    \"correct\": 3\n",
    "}]\n",
    "\n",
    "def userQuestion():\n",
    "    question = input(\"What question do you wanna ask? \")\n",
    "    answers = []\n",
    "    for i in range(4):\n",
    "        answers.append(input(\"Please input a possible answer. \"))\n",
    "        \n",
    "    correct = int(input(\"Please input a number that corresponds to the correct answer. \"))\n",
    "    \n",
    "    store(question, answers, correct)\n",
    "        \n",
    "\n",
    "    \n",
    "def addQuestion(question, answers, correct):\n",
    "    pass\n",
    "    \n",
    "def store(question, answers, correct):\n",
    "    q = {}\n",
    "    q[\"question\"] = question\n",
    "    q[\"answers\"] = answers\n",
    "    q[\"correct\"] = correct\n",
    "    \n",
    "    questions.append(q)\n",
    "    \n",
    "    with open(\"myquestions.csv\", \"w\") as csv_file:\n",
    "        writer = csv.writer(csv_file)\n",
    "        writer.writerow([\"question\", \"answers\", \"correct\"])\n",
    "        for q in questions:\n",
    "            w = csv.DictWriter(csv_file, q.keys(), delimiter=\"\\t\")\n",
    "            w.writerow(q)\n",
    "    \n",
    "    \n",
    "def loadQuestions(file):\n",
    "    pass\n",
    "    \n",
    "def printQuestion(q):\n",
    "    pass\n",
    "    \n",
    "def getRandomQuestions(n):\n",
    "    pass\n",
    "    \n",
    "def printMessage(score,n):\n",
    "    pass\n",
    "    \n",
    "def play(n):\n",
    "    pass\n",
    "\n",
    "userQuestion()"
   ]
  },
  {
   "cell_type": "code",
   "execution_count": null,
   "metadata": {},
   "outputs": [],
   "source": []
  },
  {
   "cell_type": "code",
   "execution_count": null,
   "metadata": {},
   "outputs": [],
   "source": []
  }
 ],
 "metadata": {
  "kernelspec": {
   "display_name": "Python 3",
   "language": "python",
   "name": "python3"
  },
  "language_info": {
   "codemirror_mode": {
    "name": "ipython",
    "version": 3
   },
   "file_extension": ".py",
   "mimetype": "text/x-python",
   "name": "python",
   "nbconvert_exporter": "python",
   "pygments_lexer": "ipython3",
   "version": "3.7.6"
  }
 },
 "nbformat": 4,
 "nbformat_minor": 4
}
