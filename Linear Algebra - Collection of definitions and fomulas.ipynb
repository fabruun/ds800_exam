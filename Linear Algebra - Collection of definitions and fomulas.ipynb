{
 "cells": [
  {
   "cell_type": "markdown",
   "metadata": {},
   "source": [
    "# Linear Algebra - Collection of definitions and formulas\n",
    "\n",
    "## Matrices and vectors\n",
    "\n",
    "Matrices and vectors will be the central objects in our study of linear algebra. In this chapter, we introduce matrices, study their properties and learn how to manipulate them. This will lead us to a study of vectors, which can be thought of as a certain type of matrix, but which can more usefully be viewed geometrically and applied with great effect to the study of lines and planes.\n",
    "\n",
    "### 1.1  What is a matrix?\n",
    "\n",
    "**Definition 1.1 (Matrix)** A matrix is a rectangular array of numbers or symbols. It can be written as\n",
    "\n",
    "$$\\begin{bmatrix}a_{11} & a_{12} & \\cdots & a_{1n} \\\\ a_{21} & a_{22} & \\cdots & a_{2n} \\\\ \\vdots & \\vdots & \\ddots & \\vdots \\\\ a_{m1} & a_{m2} & \\cdots & a_{mn} \\end{bmatrix}$$\n",
    "\n",
    "**Definition 1.5 (Equality)** Two matrices are *equal* if they are the same size and if corresponding entries are equal. That is, is $A=(a_{ij})$ and $B=(b{_ij})$ are both $m \\times n$ matrices, then\n",
    "\n",
    "$$A=B \\Leftrightarrow (a_{ij}) = (b_{ij}) \\space \\space \\space \\space \\space \\space 1 \\leq i \\leq m, \\space 1 \\leq j \\leq n.$$"
   ]
  },
  {
   "cell_type": "markdown",
   "metadata": {},
   "source": [
    "### 1.2 Matrix addition and scalar multiplication\n",
    "\n",
    "If $A$ and $B$ are two matrices, then provided they are the same size we can add them together to form a new matrix $A+B$. We define $A+B$ to be the matrix whose entries are the sums of the corresponding entries in $A$ and $B$.\n",
    "\n",
    "\n",
    "**Definition 1.6 (Addition)** If $A = (a_{ij})$ and $B=(b_{ij})$ are both $m \\times n$ matrices, then\n",
    "\n",
    "$$A+B=(a_{ij}+b_{ij}) \\space \\space \\space \\space \\space 1 \\leq i \\leq m, \\space 1 \\leq j \\leq n.$$\n",
    "\n",
    "\n",
    "We can also multiply any matrix by a real number, referred to as a *scalar* in this context. If $\\lambda$ is a scalar and $A$ is a matrix, then $\\lambda A$ is the matrix whose entries are $\\lambda$ times each of the entries of $A$.\n",
    "\n",
    "**Definition 1.7 (Scalar multiplication)** If $A=(a_{ij})$ is an $m \\times n$ matrix and $\\lambda \\in \\mathbb{R}$, then\n",
    "\n",
    "$$\\lambda A=(\\lambda a_{ij}) \\space \\space \\space \\space \\space 1 \\leq i \\leq m, \\space 1 \\leq j \\leq n.$$"
   ]
  },
  {
   "cell_type": "markdown",
   "metadata": {},
   "source": [
    "## 1.3 Matrix multiplication\n",
    "\n",
    "Is there a way to multiply two matrices together? The answer is sometimes, depending on the sizes of the matrices. If $A$ and $B$ are matrices such that the number of columns of $A$ is equal to the number of rows of $B$, then we can define a matrix $C$ which is the product of $A$ and $B$. We do this by saying what the entry $c_{ij}$ of the product matrix $AB$ should be.\n",
    "\n",
    "**Definition 1.9 (Matrix multiplication)** If $A$ is an $m \\times n$ matrix and $B$ is an $n \\times p$ matrix, then the product is the matrix $AB=C=(c_{ij})$ with\n",
    "\n",
    "$$c_{ij}=a_{i1}b_{1j}+a_{i2}b_{12}+\\cdots+a_{in}b_{1n}.$$\n",
    "\n",
    "Although this formula looks daunting, it is quite easy to use in practice. What is says is that the element in row $i$ and column $j$ of the product is obtained by taking each entry of row $i$ of $A$ and multiplying it by the correponding entry of column $j$ of $B$, then adding these $n$ products together.\n",
    "\n",
    "$$\\text{row } i \\text{ of } A \\rightarrow \\begin{bmatrix} \\\\ a_{i1} & a_{i2} & \\cdots & a_{in} \\\\ & & & \\end{bmatrix} \\begin{bmatrix} b_{1j} \\\\ b_{2j} \\\\ \\vdots \\\\ b_{nj} \\end{bmatrix}$$\n",
    "\n",
    "What size is $C=AB$? The matrix $C$ must be $m \\times p$ since it will have the one entry for each of the rows of $A$ and each of the $p$ columns of $B$."
   ]
  },
  {
   "cell_type": "markdown",
   "metadata": {},
   "source": [
    "## 1.4 Matrix algebra\n",
    "\n",
    "**Definition 1.14 (Zero matrix)** A *zero matrix*, denoted $0$, is an $m \\times n$ matrix with all entries zero:\n",
    "\n",
    "$$\\begin{bmatrix} 0 & 0 & \\cdots & 0 & 0 \\\\ 0 & 0 & \\cdots & 0 & 0 \\\\ \\vdots & \\vdots & \\cdots & \\vdots & \\vdots \\\\ 0 & 0 & \\cdots & 0 & 0 \\end{bmatrix}$$ \n",
    "\n",
    "Then:\n",
    "\n",
    "- $A+0=A$,\n",
    "- $A-A=0$,\n",
    "- $0A=0, A0=0$,\n",
    "\n",
    "where the sizes of the zero matrices above must be compatible with the size of the matrix $A$.\n",
    "\n",
    "We also have a 'multiplicative identity', which acts like the number $1$ does for multiplication of numbers.\n",
    "\n",
    "**Definition 1.15 (Identity matrix)** The $n \\times n$ *identity matrix*, denoted $I_n$ or simply $I$, is the diagonal matrix with $a_{ii} = 1$.\n",
    "\n",
    "$$\\begin{bmatrix} 1 & 0 & \\cdots & 0 \\\\ 0 & 1 & \\dots & 0 \\\\ \\vdots & \\vdots & \\ddots & \\vdots \\\\ 0 & 0 & \\cdots & 1 \\end{bmatrix}$$\n",
    "\n",
    "If $A$ is any $m \\times n$ matrix, then:\n",
    "\n",
    "- $AI=A$ and $IA=A$,\n",
    "\n",
    "where it is understood that the identity matrix are the appropriate size for the products to be defined."
   ]
  },
  {
   "cell_type": "markdown",
   "metadata": {},
   "source": [
    "## 1.5 Matrix inverses\n",
    "\n",
    "**Definition 1.20 (Inverse matrix)** The $n \\times n$ matrix $A$ is *invertible* if there is a matrix $B$ such that\n",
    "\n",
    "$$AB=BA=I$$,\n",
    "\n",
    "where $I$ is the $n \\times n$ identity matrix. The matrix $B$ is caled the  inverse of $A$ and is denoted by $A^{-1}$.\n",
    "\n",
    "Notice that the matrix $A$ must be square, and that both $I$ and $B=A^{-1}$ must also be square $n \\times n$ matrices, for the products to be defined.\n",
    "\n",
    "**Theorem 1.23** *If $A$ is an $n \\times n$ invertible matrix, then the matrix $A^{-1}$ is unique.*\n",
    "\n",
    "*Proof:* Assume the matrix $A$ has two inverses, $B$ and $C$, so that $AB=BA=I$ and $AC=CA=I$. We will show that $B$ and $C$ must actually be the same matrix; that is, that they are equal. Consider the product $CAB$. Since matrix multiplication is associative and $AB=I$, we have\n",
    "\n",
    "$$CAB=C(AB)=CI=C.$$\n",
    "\n",
    "On the other hand, again by associativity,\n",
    "\n",
    "$$CAB=(CA)B=IB=B$$\n",
    "\n",
    "since $CA=I$. We conclude that $C=B$, so there is only one inverse matrix of $A$."
   ]
  },
  {
   "cell_type": "markdown",
   "metadata": {},
   "source": [
    "## 1.7 The transpose and symmetric matrices\n",
    "\n",
    "**Transpose** The *transpose* of an $m \\times n$ matrix\n",
    "\n",
    "$$A=(a_{ij})=\\begin{bmatrix} a_{11} & a_{12} & \\cdots & a_{1n} \\\\ a_{21} & a_{22} & \\cdots & a_{2n} \\\\ \\vdots & \\vdots & \\ddots & \\vdots \\\\ a_{m1} & a_{m2} & \\cdots & a_{mn} \\end{bmatrix}$$\n",
    "\n",
    "is the $n \\times m$ matrix\n",
    "\n",
    "$$A^T=(a_{ij})=\\begin{bmatrix} a_{11} & a_{21} & \\cdots & a_{m1} \\\\ a_{12} & a_{22} & \\cdots & a_{m2} \\\\ \\vdots & \\vdots & \\ddots & \\vdots \\\\ a_{1n} & a_{2n} & \\cdots & a_{mn} \\end{bmatrix}.$$\n",
    "\n",
    "So, on forming the transpose of a matrix, row $i$ of $A$ becomes column $i$ of $A^T$."
   ]
  },
  {
   "cell_type": "code",
   "execution_count": null,
   "metadata": {},
   "outputs": [],
   "source": []
  }
 ],
 "metadata": {
  "kernelspec": {
   "display_name": "Python 3",
   "language": "python",
   "name": "python3"
  },
  "language_info": {
   "codemirror_mode": {
    "name": "ipython",
    "version": 3
   },
   "file_extension": ".py",
   "mimetype": "text/x-python",
   "name": "python",
   "nbconvert_exporter": "python",
   "pygments_lexer": "ipython3",
   "version": "3.8.5"
  }
 },
 "nbformat": 4,
 "nbformat_minor": 4
}
