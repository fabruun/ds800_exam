{
 "cells": [
  {
   "cell_type": "markdown",
   "metadata": {},
   "source": [
    "# Linear Algebra - Collection of definitions and formulas\n",
    "\n",
    "## Matrices and vectors\n",
    "\n",
    "Matrices and vectors will be the central objects in our study of linear algebra. In this chapter, we introduce matrices, study their properties and learn how to manipulate them. This will lead us to a study of vectors, which can be thought of as a certain type of matrix, but which can more usefully be viewed geometrically and applied with great effect to the study of lines and planes.\n",
    "\n",
    "### 1.1  What is a matrix?\n",
    "\n",
    "**Definition 1.1 (Matrix)** A matrix is a rectangular array of numbers or symbols. It can be written as\n",
    "\n",
    "$$\\begin{bmatrix}a_{11} & a_{12} & \\cdots & a_{1n} \\\\ a_{21} & a_{22} & \\cdots & a_{2n} \\\\ \\vdots & \\vdots & \\ddots & \\vdots \\\\ a_{m1} & a_{m2} & \\cdots & a_{mn} \\end{bmatrix}$$\n",
    "\n",
    "**Definition 1.5 (Equality)** Two matrices are *equal* if they are the same size and if corresponding entries are equal. That is, is $A=(a_{ij})$ and $B=(b{_ij})$ are both $m \\times n$ matrices, then\n",
    "\n",
    "$$A=B \\Leftrightarrow (a_{ij}) = (b_{ij}) \\space \\space \\space \\space \\space \\space 1 \\leq i \\leq m, \\space 1 \\leq j \\leq n.$$"
   ]
  },
  {
   "cell_type": "markdown",
   "metadata": {},
   "source": [
    "### 1.2 Matrix addition and scalar multiplication\n",
    "\n",
    "If $A$ and $B$ are two matrices, then provided they are the same size we can add them together to form a new matrix $A+B$. We define $A+B$ to be the matrix whose entries are the sums of the corresponding entries in $A$ and $B$.\n",
    "\n",
    "\n",
    "**Definition 1.6 (Addition)** If $A = (a_{ij})$ and $B=(b_{ij})$ are both $m \\times n$ matrices, then\n",
    "\n",
    "$$A+B=(a_{ij}+b_{ij}) \\space \\space \\space \\space \\space 1 \\leq i \\leq m, \\space 1 \\leq j \\leq n.$$\n",
    "\n",
    "\n",
    "We can also multiply any matrix by a real number, referred to as a *scalar* in this context. If $\\lambda$ is a scalar and $A$ is a matrix, then $\\lambda A$ is the matrix whose entries are $\\lambda$ times each of the entries of $A$.\n",
    "\n",
    "**Definition 1.7 (Scalar multiplication)** If $A=(a_{ij})$ is an $m \\times n$ matrix and $\\lambda \\in \\mathbb{R}$, then\n",
    "\n",
    "$$\\lambda A=(\\lambda a_{ij}) \\space \\space \\space \\space \\space 1 \\leq i \\leq m, \\space 1 \\leq j \\leq n.$$"
   ]
  },
  {
   "cell_type": "markdown",
   "metadata": {},
   "source": [
    "## 1.3 Matrix multiplication\n",
    "\n",
    "Is there a way to multiply two matrices together? The answer i sometimes, depending on the sizes of the matrices. If $A$ and $B$ are matrices such that "
   ]
  },
  {
   "cell_type": "code",
   "execution_count": null,
   "metadata": {},
   "outputs": [],
   "source": []
  }
 ],
 "metadata": {
  "kernelspec": {
   "display_name": "Python 3",
   "language": "python",
   "name": "python3"
  },
  "language_info": {
   "codemirror_mode": {
    "name": "ipython",
    "version": 3
   },
   "file_extension": ".py",
   "mimetype": "text/x-python",
   "name": "python",
   "nbconvert_exporter": "python",
   "pygments_lexer": "ipython3",
   "version": "3.7.6"
  }
 },
 "nbformat": 4,
 "nbformat_minor": 4
}
