{
 "cells": [
  {
   "cell_type": "markdown",
   "metadata": {},
   "source": [
    "$AB=A*B=\\begin{bmatrix} 2 & 1 & 3 \\\\ 1 & 2 & 1 \\end{bmatrix}\\begin{bmatrix} 3 & 1 \\\\ 1 & 0 \\\\ 1 & 1 \\end{bmatrix}=\\begin{bmatrix} 10 & 5 \\\\ 6 & 2 \\end{bmatrix} $"
   ]
  },
  {
   "cell_type": "code",
   "execution_count": 6,
   "metadata": {},
   "outputs": [
    {
     "data": {
      "text/plain": [
       "matrix([[-0.10277778,  0.18888889, -0.01944444],\n",
       "        [ 0.10555556,  0.02222222, -0.06111111],\n",
       "        [ 0.06388889, -0.14444444,  0.14722222]])"
      ]
     },
     "execution_count": 6,
     "metadata": {},
     "output_type": "execute_result"
    }
   ],
   "source": [
    "import numpy as np\n",
    "\n",
    "A = np.matrix([[2, 9, 4], [7, 5, 3], [6, 1, 8]])\n",
    "B = np.matrix([[1, 0, 0], [0, 1, 0], [0, 0, 1]])\n",
    "np.linalg.solve(A,B)"
   ]
  },
  {
   "cell_type": "code",
   "execution_count": null,
   "metadata": {},
   "outputs": [],
   "source": []
  }
 ],
 "metadata": {
  "kernelspec": {
   "display_name": "Python 3",
   "language": "python",
   "name": "python3"
  },
  "language_info": {
   "codemirror_mode": {
    "name": "ipython",
    "version": 3
   },
   "file_extension": ".py",
   "mimetype": "text/x-python",
   "name": "python",
   "nbconvert_exporter": "python",
   "pygments_lexer": "ipython3",
   "version": "3.7.6"
  }
 },
 "nbformat": 4,
 "nbformat_minor": 4
}
