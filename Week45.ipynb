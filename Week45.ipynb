{
 "cells": [
  {
   "cell_type": "markdown",
   "metadata": {},
   "source": [
    "# Activities\n",
    "\n",
    "\n",
    "## Activity 2.8\n",
    "$\\begin{pmatrix} 1 & 1 & 1 & 3 \\\\ 0 & 1 & 1 & 2 \\\\ 0 & 0 & 1 & 2 \\end{pmatrix}$\n",
    "\n",
    "This last matrix is in *row echelon form*, or simply *echelon form*.\n",
    "\n",
    "**Definition (Row echelon form)** A matrix is said to be in *row echelon form* (or *echelon form*) if it has the following properties:\n",
    "\n",
    "1) Every non-zero row begins with a leading one. \n",
    "\n",
    "2) A leading one in a lower row is further to the right.\n",
    "\n",
    "3) Zero rows are at the bottom of the matrix.\n",
    "\n",
    "Check that the above matrix satisfies these properties.\n",
    "\n",
    "The above matrix satifies all the properties."
   ]
  },
  {
   "cell_type": "markdown",
   "metadata": {},
   "source": [
    "**Definition (Reduced row echelon form)** A matrix is said to be in *reduced row echelon form* (or *reduced echelon form*) if it has the following four properties:\n",
    "\n",
    "1) Every non-zero row begins with a leading one. \n",
    "\n",
    "2) A leading one in a lower row is further to the right.\n",
    "\n",
    "3) Zero rows are at the bottom of the matrix.\n",
    "\n",
    "4) Every column with a leading one has zeros elsewhere."
   ]
  },
  {
   "cell_type": "markdown",
   "metadata": {},
   "source": [
    "## Activity 2.10\n",
    "\n",
    "Do this: check that $\\begin{bmatrix} 1 & 1 & 1 \\\\ 2 & 1 & 1 \\\\ 1 & -1 & 2 \\end{bmatrix} \\begin{bmatrix} 1 \\\\ 0 \\\\ 2 \\end{bmatrix}=\\begin{bmatrix} 3 \\\\ 4 \\\\ 5 \\end{bmatrix}$.\n",
    "\n",
    "First we denote $Ax$ as an augmented matrix $A$:\n",
    "\n",
    "$\\left[\\begin{array}{ccc|c}1 & 1 & 1 & 1 \\\\2 & 1 & 1 & 0 \\\\ 1 & -1 & 2 & 2 \\\\\\end{array}\\right]$\n",
    "\n",
    "We now use Gauss Elimination to see if $Ax=b$."
   ]
  },
  {
   "cell_type": "markdown",
   "metadata": {},
   "source": [
    "$\\left[\\begin{array}{ccc|c}1 & 1 & 1 & 1 \\\\2 & 1 & 1 & 0 \\\\ 1 & -1 & 2 & 2 \\\\\\end{array}\\right]$\n",
    "\n",
    "$\\Updownarrow$\n",
    "\n",
    "Subtract $2R_1$ from $R_2$.\n",
    "\n",
    "$\\left[\\begin{array}{ccc|c}1 & 1 & 1 & 1 \\\\0 & -1 & -1 & -2 \\\\ 1 & -1 & 2 & 2 \\\\\\end{array}\\right]$\n",
    "\n",
    "$\\Updownarrow$\n",
    "\n",
    "Subtract $1R_1$ from $R_3$.\n",
    "\n",
    "$\\left[\\begin{array}{ccc|c}1 & 1 & 1 & 1 \\\\0 & -1 & -1 & -2 \\\\ 0 & -2 & 1 & 1 \\\\\\end{array}\\right]$\n",
    "\n",
    "$\\Updownarrow$\n",
    "\n",
    "Multiply $R_2$ with $-1$.\n",
    "\n",
    "$\\left[\\begin{array}{ccc|c}1 & 1 & 1 & 1 \\\\0 & 1 & 1 & 2 \\\\ 0 & -2 & 1 & 1 \\\\\\end{array}\\right]$\n",
    "\n",
    "$\\Updownarrow$\n",
    "\n",
    "Add $2R_2$ to $R_3$\n",
    "\n",
    "$\\left[\\begin{array}{ccc|c}1 & 1 & 1 & 1 \\\\0 & 1 & 1 & 2 \\\\ 0 & 0 & 3 & 5 \\\\\\end{array}\\right]$\n",
    "\n",
    "$\\Updownarrow$\n",
    "\n",
    "Multiply $R_3$ with $\\frac{1}{3}$\n",
    "\n",
    "$\\left[\\begin{array}{ccc|c}1 & 1 & 1 & 1 \\\\0 & 1 & 1 & 2 \\\\ 0 & 0 & 1 & \\frac{5}{3} \\\\\\end{array}\\right]$\n",
    "\n",
    "$\\Updownarrow$\n",
    "\n",
    "Subtract $1R_3$ from $R_2$\n",
    "\n",
    "$\\left[\\begin{array}{ccc|c}1 & 1 & 1 & 1 \\\\0 & 1 & 0 & \\frac{1}{3} \\\\ 0 & 0 & 1 & \\frac{5}{3} \\\\\\end{array}\\right]$\n",
    "\n",
    "$\\Updownarrow$\n",
    "\n",
    "Subtract $1R_3$ and $1R_2$ from $R_1$\n",
    "\n",
    "$\\left[\\begin{array}{ccc|c}1 & 0 & 0 & -1 \\\\0 & 1 & 0 & \\frac{1}{3} \\\\ 0 & 0 & 1 & \\frac{5}{3} \\\\\\end{array}\\right]$"
   ]
  },
  {
   "cell_type": "code",
   "execution_count": 1,
   "metadata": {},
   "outputs": [
    {
     "name": "stdout",
     "output_type": "stream",
     "text": [
      "[[3]\n",
      " [4]\n",
      " [5]]\n"
     ]
    }
   ],
   "source": [
    "import numpy as np\n",
    "\n",
    "A = np.matrix([[1, 1, 1], [2, 1, 1], [1, -1 ,2]])\n",
    "x = np.transpose(np.matrix([[1, 0, 2]]))\n",
    "\n",
    "print(A*x)"
   ]
  },
  {
   "cell_type": "markdown",
   "metadata": {},
   "source": [
    "No $Ax \\ne b$."
   ]
  },
  {
   "cell_type": "markdown",
   "metadata": {},
   "source": [
    "## Activity 2.13\n",
    "\n",
    "Use Gaussian elimination to solve the following syhstem of equations:\n",
    "\n",
    "$x_1+x_2+x_3=6$\n",
    "\n",
    "$2x_1+4x_2+x_3=5$\n",
    "\n",
    "$2x_1+3x_2+x_3=6$.\n",
    "\n",
    "Be sure to follow the algorithm to put the augmented matrix into reduced row echelon form using row operations."
   ]
  },
  {
   "cell_type": "markdown",
   "metadata": {},
   "source": [
    "From the given linear equations we can denote $Ax=b$ as follows:\n",
    "\n",
    "$\\begin{bmatrix} 1 & 1 & 1 \\\\ 2 & 4 & 1 \\\\ 2 & 3 & 1 \\end{bmatrix}\\begin{bmatrix} 6 \\\\ 5 \\\\ 6 \\end{bmatrix} = b$\n",
    "\n",
    "This is also denoted as the augmented matrix:\n",
    "\n",
    "$\\left[\\begin{array}{ccc|c}1 & 1 & 1 & 6 \\\\ 2 & 4 & 1 & 5 \\\\ 2 & 3 & 1 & 6 \\end{array}\\right]$\n",
    "\n",
    "$\\Updownarrow$\n",
    "\n",
    "Subtract $2R_1$ from $R_2$\n",
    "\n",
    "$\\left[\\begin{array}{ccc|c}1 & 1 & 1 & 6 \\\\ 0 & 2 & -1 & -7 \\\\ 2 & 3 & 1 & 6 \\end{array}\\right]$\n",
    "\n",
    "$\\Updownarrow$\n",
    "\n",
    "Subtract $2R_1$ from $R_3$\n",
    "\n",
    "$\\left[\\begin{array}{ccc|c}1 & 1 & 1 & 6 \\\\ 0 & 2 & -1 & -7 \\\\ 0 & 1 & -1 & -6 \\end{array}\\right]$\n",
    "\n",
    "$\\Updownarrow$\n",
    "\n",
    "Multiply $R_2$ with $\\frac{1}{2}$\n",
    "\n",
    "$\\left[\\begin{array}{ccc|c}1 & 1 & 1 & 6 \\\\ 0 & 1 & -\\frac{1}{2} & -\\frac{7}{2} \\\\ 0 & 1 & -1 & -6 \\end{array}\\right]$\n",
    "\n",
    "$\\Updownarrow$\n",
    "\n",
    "Subtract $1R_2$ from $R_3$\n",
    "\n",
    "$\\left[\\begin{array}{ccc|c}1 & 1 & 1 & 6 \\\\ 0 & 1 & -\\frac{1}{2} & -\\frac{7}{2} \\\\ 0 & 0 & \\frac{3}{2} & -\\frac{5}{2} \\end{array}\\right]$\n",
    "\n",
    "$\\Updownarrow$\n",
    "\n",
    "Add $\\frac{1}{2}$ to $R_3$\n",
    "\n",
    "$\\left[\\begin{array}{ccc|c}1 & 1 & 1 & 6 \\\\ 0 & 1 & -\\frac{1}{2} & -\\frac{7}{2} \\\\ 0 & 0 & 1 & -2 \\end{array}\\right]$\n",
    "\n",
    "$\\Updownarrow$\n",
    "\n",
    "Add $\\frac{1}{2}R_3$ to $R_2$\n",
    "\n",
    "$\\left[\\begin{array}{ccc|c}1 & 1 & 1 & 6 \\\\ 0 & 1 & 0 & -\\frac{11}{2} \\\\ 0 & 0 & 1 & -2 \\end{array}\\right]$\n",
    "\n",
    "$\\Updownarrow$\n",
    "\n",
    "Subtract $1R_3$ from $R_1$\n",
    "\n",
    "$\\left[\\begin{array}{ccc|c}1 & 1 & 0 & 8 \\\\ 0 & 1 & 0 & -\\frac{11}{2} \\\\ 0 & 0 & 1 & -2 \\end{array}\\right]$\n",
    "\n",
    "$\\Updownarrow$\n",
    "\n",
    "Subtract $1R_2$ from $R_1$\n",
    "\n",
    "$\\left[\\begin{array}{ccc|c}1 & 0 & 0 & 13.5 \\\\ 0 & 1 & 0 & -\\frac{11}{2} \\\\ 0 & 0 & 1 & -2 \\end{array}\\right]$"
   ]
  },
  {
   "cell_type": "code",
   "execution_count": 44,
   "metadata": {},
   "outputs": [
    {
     "data": {
      "text/plain": [
       "matrix([[ 2.],\n",
       "        [-1.],\n",
       "        [ 5.]])"
      ]
     },
     "execution_count": 44,
     "metadata": {},
     "output_type": "execute_result"
    }
   ],
   "source": [
    "import numpy as np\n",
    "\n",
    "A = np.matrix([[1, 1, 1], [2, 4 ,1],[2, 3, 1]])\n",
    "x = np.transpose(np.matrix([6,5,6]))\n",
    "\n",
    "np.linalg.solve(A,x)"
   ]
  },
  {
   "cell_type": "markdown",
   "metadata": {},
   "source": [
    "## Activity 2.15\n",
    "\n"
   ]
  },
  {
   "cell_type": "code",
   "execution_count": null,
   "metadata": {},
   "outputs": [],
   "source": []
  }
 ],
 "metadata": {
  "kernelspec": {
   "display_name": "Python 3",
   "language": "python",
   "name": "python3"
  },
  "language_info": {
   "codemirror_mode": {
    "name": "ipython",
    "version": 3
   },
   "file_extension": ".py",
   "mimetype": "text/x-python",
   "name": "python",
   "nbconvert_exporter": "python",
   "pygments_lexer": "ipython3",
   "version": "3.7.6"
  }
 },
 "nbformat": 4,
 "nbformat_minor": 4
}
