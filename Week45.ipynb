{
 "cells": [
  {
   "cell_type": "markdown",
   "metadata": {},
   "source": [
    "# Activities\n",
    "\n",
    "\n",
    "## Activity 2.8\n",
    "$\\begin{pmatrix} 1 & 1 & 1 & 3 \\\\ 0 & 1 & 1 & 2 \\\\ 0 & 0 & 1 & 2 \\end{pmatrix}$\n",
    "\n",
    "This last matrix is in *row echelon form*, or simply *echelon form*.\n",
    "\n",
    "**Definition (Row echelon form)** A matrix is said to be in *row echelon form* (or *echelon form*) if it has the following properties:\n",
    "\n",
    "1) Every non-zero row begins with a leading one. \n",
    "\n",
    "2) A leading one in a lower row is further to the right.\n",
    "\n",
    "3) Zero rows are at the bottom of the matrix.\n",
    "\n",
    "Check that the above matrix satisfies these properties.\n",
    "\n",
    "The above matrix satifies all the properties."
   ]
  },
  {
   "cell_type": "markdown",
   "metadata": {},
   "source": [
    "**Definition (Reduced row echelon form)** A matrix is said to be in *reduced row echelon form* (or *reduced echelon form*) if it has the following four properties:\n",
    "\n",
    "1) Every non-zero row begins with a leading one. \n",
    "\n",
    "2) A leading one in a lower row is further to the right.\n",
    "\n",
    "3) Zero rows are at the bottom of the matrix.\n",
    "\n",
    "4) Every column with a leading one has zeros elsewhere."
   ]
  },
  {
   "cell_type": "markdown",
   "metadata": {},
   "source": [
    "## Activity 2.10\n",
    "\n",
    "Do this: check that $\\begin{bmatrix} 1 & 1 & 1 \\\\ 2 & 1 & 1 \\\\ 1 & -1 & 2 \\end{bmatrix} \\begin{bmatrix} 1 \\\\ 0 \\\\ 2 \\end{bmatrix}=\\begin{bmatrix} 3 \\\\ 4 \\\\ 5 \\end{bmatrix}$.\n",
    "\n",
    "First we denote $Ax$ as an augmented matrix $A$:\n",
    "\n",
    "$\\left[\\begin{array}{ccc|c}1 & 1 & 1 & 1 \\\\2 & 1 & 1 & 0 \\\\ 1 & -1 & 2 & 2 \\\\\\end{array}\\right]$\n",
    "\n",
    "We now use Gauss Elimination to see if $Ax=b$."
   ]
  },
  {
   "cell_type": "markdown",
   "metadata": {},
   "source": [
    "$\\left[\\begin{array}{ccc|c}1 & 1 & 1 & 1 \\\\2 & 1 & 1 & 0 \\\\ 1 & -1 & 2 & 2 \\\\\\end{array}\\right]$\n",
    "\n",
    "$\\Updownarrow$\n",
    "\n",
    "Subtract $2R_1$ from $R_2$.\n",
    "\n",
    "$\\left[\\begin{array}{ccc|c}1 & 1 & 1 & 1 \\\\0 & -1 & -1 & -2 \\\\ 1 & -1 & 2 & 2 \\\\\\end{array}\\right]$\n",
    "\n",
    "$\\Updownarrow$\n",
    "\n",
    "Subtract $1R_1$ from $R_3$.\n",
    "\n",
    "$\\left[\\begin{array}{ccc|c}1 & 1 & 1 & 1 \\\\0 & -1 & -1 & -2 \\\\ 0 & -2 & 1 & 1 \\\\\\end{array}\\right]$\n",
    "\n",
    "$\\Updownarrow$\n",
    "\n",
    "Multiply $R_2$ with $-1$.\n",
    "\n",
    "$\\left[\\begin{array}{ccc|c}1 & 1 & 1 & 1 \\\\0 & 1 & 1 & 2 \\\\ 0 & -2 & 1 & 1 \\\\\\end{array}\\right]$\n",
    "\n",
    "$\\Updownarrow$\n",
    "\n",
    "Add $2R_2$ to $R_3$\n",
    "\n",
    "$\\left[\\begin{array}{ccc|c}1 & 1 & 1 & 1 \\\\0 & 1 & 1 & 2 \\\\ 0 & 0 & 3 & 5 \\\\\\end{array}\\right]$\n",
    "\n",
    "$\\Updownarrow$\n",
    "\n",
    "Multiply $R_3$ with $\\frac{1}{3}$\n",
    "\n",
    "$\\left[\\begin{array}{ccc|c}1 & 1 & 1 & 1 \\\\0 & 1 & 1 & 2 \\\\ 0 & 0 & 1 & \\frac{5}{3} \\\\\\end{array}\\right]$\n",
    "\n",
    "$\\Updownarrow$\n",
    "\n",
    "Subtract $1R_3$ from $R_2$\n",
    "\n",
    "$\\left[\\begin{array}{ccc|c}1 & 1 & 1 & 1 \\\\0 & 1 & 0 & \\frac{1}{3} \\\\ 0 & 0 & 1 & \\frac{5}{3} \\\\\\end{array}\\right]$\n",
    "\n",
    "$\\Updownarrow$\n",
    "\n",
    "Subtract $1R_3$ and $1R_2$ from $R_1$\n",
    "\n",
    "$\\left[\\begin{array}{ccc|c}1 & 0 & 0 & -1 \\\\0 & 1 & 0 & \\frac{1}{3} \\\\ 0 & 0 & 1 & \\frac{5}{3} \\\\\\end{array}\\right]$"
   ]
  },
  {
   "cell_type": "code",
   "execution_count": 1,
   "metadata": {},
   "outputs": [
    {
     "name": "stdout",
     "output_type": "stream",
     "text": [
      "[[3]\n",
      " [4]\n",
      " [5]]\n"
     ]
    }
   ],
   "source": [
    "import numpy as np\n",
    "\n",
    "A = np.matrix([[1, 1, 1], [2, 1, 1], [1, -1 ,2]])\n",
    "x = np.transpose(np.matrix([[1, 0, 2]]))\n",
    "\n",
    "print(A*x)"
   ]
  },
  {
   "cell_type": "markdown",
   "metadata": {},
   "source": [
    "No $Ax \\ne b$."
   ]
  },
  {
   "cell_type": "markdown",
   "metadata": {},
   "source": [
    "## Activity 2.13\n",
    "\n",
    "Use Gaussian elimination to solve the following syhstem of equations:\n",
    "\n",
    "$x_1+x_2+x_3=6$\n",
    "\n",
    "$2x_1+4x_2+x_3=5$\n",
    "\n",
    "$2x_1+3x_2+x_3=6$.\n",
    "\n",
    "Be sure to follow the algorithm to put the augmented matrix into reduced row echelon form using row operations."
   ]
  },
  {
   "cell_type": "markdown",
   "metadata": {},
   "source": [
    "From the given linear equations we can denote $Ax=b$ as follows:\n",
    "\n",
    "$\\begin{bmatrix} 1 & 1 & 1 \\\\ 2 & 4 & 1 \\\\ 2 & 3 & 1 \\end{bmatrix}\\begin{bmatrix} 6 \\\\ 5 \\\\ 6 \\end{bmatrix} = b$\n",
    "\n",
    "This is also denoted as the augmented matrix:\n",
    "\n",
    "$\\left[\\begin{array}{ccc|c}1 & 1 & 1 & 6 \\\\ 2 & 4 & 1 & 5 \\\\ 2 & 3 & 1 & 6 \\end{array}\\right]$\n",
    "\n",
    "$\\Updownarrow$\n",
    "\n",
    "Subtract $2R_1$ from $R_2$\n",
    "\n",
    "$\\left[\\begin{array}{ccc|c}1 & 1 & 1 & 6 \\\\ 0 & 2 & -1 & -7 \\\\ 2 & 3 & 1 & 6 \\end{array}\\right]$\n",
    "\n",
    "$\\Updownarrow$\n",
    "\n",
    "Subtract $2R_1$ from $R_3$\n",
    "\n",
    "$\\left[\\begin{array}{ccc|c}1 & 1 & 1 & 6 \\\\ 0 & 2 & -1 & -7 \\\\ 0 & 1 & -1 & -6 \\end{array}\\right]$\n",
    "\n",
    "$\\Updownarrow$\n",
    "\n",
    "Multiply $R_2$ with $\\frac{1}{2}$\n",
    "\n",
    "$\\left[\\begin{array}{ccc|c}1 & 1 & 1 & 6 \\\\ 0 & 1 & -\\frac{1}{2} & -\\frac{7}{2} \\\\ 0 & 1 & -1 & -6 \\end{array}\\right]$\n",
    "\n",
    "$\\Updownarrow$\n",
    "\n",
    "Subtract $1R_2$ from $R_3$\n",
    "\n",
    "$\\left[\\begin{array}{ccc|c}1 & 1 & 1 & 6 \\\\ 0 & 1 & -\\frac{1}{2} & -\\frac{7}{2} \\\\ 0 & 0 & \\frac{3}{2} & -\\frac{5}{2} \\end{array}\\right]$\n",
    "\n",
    "$\\Updownarrow$\n",
    "\n",
    "Add $\\frac{1}{2}$ to $R_3$\n",
    "\n",
    "$\\left[\\begin{array}{ccc|c}1 & 1 & 1 & 6 \\\\ 0 & 1 & -\\frac{1}{2} & -\\frac{7}{2} \\\\ 0 & 0 & 1 & -2 \\end{array}\\right]$\n",
    "\n",
    "$\\Updownarrow$\n",
    "\n",
    "Add $\\frac{1}{2}R_3$ to $R_2$\n",
    "\n",
    "$\\left[\\begin{array}{ccc|c}1 & 1 & 1 & 6 \\\\ 0 & 1 & 0 & -\\frac{11}{2} \\\\ 0 & 0 & 1 & -2 \\end{array}\\right]$\n",
    "\n",
    "$\\Updownarrow$\n",
    "\n",
    "Subtract $1R_3$ from $R_1$\n",
    "\n",
    "$\\left[\\begin{array}{ccc|c}1 & 1 & 0 & 8 \\\\ 0 & 1 & 0 & -\\frac{11}{2} \\\\ 0 & 0 & 1 & -2 \\end{array}\\right]$\n",
    "\n",
    "$\\Updownarrow$\n",
    "\n",
    "Subtract $1R_2$ from $R_1$\n",
    "\n",
    "$\\left[\\begin{array}{ccc|c}1 & 0 & 0 & 13.5 \\\\ 0 & 1 & 0 & -\\frac{11}{2} \\\\ 0 & 0 & 1 & -2 \\end{array}\\right]$"
   ]
  },
  {
   "cell_type": "code",
   "execution_count": 1,
   "metadata": {},
   "outputs": [
    {
     "data": {
      "text/plain": [
       "matrix([[ 2.],\n",
       "        [-1.],\n",
       "        [ 5.]])"
      ]
     },
     "execution_count": 1,
     "metadata": {},
     "output_type": "execute_result"
    }
   ],
   "source": [
    "import numpy as np\n",
    "\n",
    "A = np.matrix([[1, 1, 1], [2, 4 ,1],[2, 3, 1]])\n",
    "x = np.transpose(np.matrix([6,5,6]))\n",
    "\n",
    "np.linalg.solve(A,x)"
   ]
  },
  {
   "cell_type": "markdown",
   "metadata": {},
   "source": [
    "## Activity 2.15\n",
    "\n",
    "$x_4=3$\n",
    "\n",
    "$x_2=-1-s$\n",
    "\n",
    "$x_1=1-t$\n",
    "\n",
    "$$x = \\begin{bmatrix} x_1 \\\\ x_2 \\\\ x_3 \\\\ x_4 \\\\ x_5 \\end{bmatrix} = \\begin{bmatrix} 1-t \\\\ -1-s \\\\ s \\\\ 3 \\\\ t \\end{bmatrix} = \\begin{bmatrix} 1 \\\\ -1 \\\\ 0 \\\\ 3 \\\\ 0 \\end{bmatrix} + s \\begin{bmatrix} 0 \\\\ -1 \\\\ 1 \\\\ 0 \\\\ 0 \\end{bmatrix} + t \\begin{bmatrix} -1 \\\\ 0 \\\\ 0 \\\\ 0 \\\\ 1 \\end{bmatrix}$$\n",
    "\n",
    "Let $s = 0$ and $t = 0$ and show (by substituting it into the equation or multiplying $Ax_0$) that $x_0= \\begin{bmatrix}1 & -1 & 0 & 3 & 0 \\end{bmatrix}^T$ is a solution of $Ax=b$. Then let $s=1$ and $t=2$ and show that the new vector $x_1$ you obtain is also a solution.\n",
    "\n",
    "$s=0$ and $t=0$\n",
    "\n",
    "$$x_0=\\begin{bmatrix} 1 \\\\ -1 \\\\ 0 \\\\ 3 \\\\ 0 \\end{bmatrix} + s \\begin{bmatrix} 0 \\\\ -1 \\\\ 1 \\\\ 0 \\\\ 0 \\end{bmatrix} + t \\begin{bmatrix} -1 \\\\ 0 \\\\ 0 \\\\ 0 \\\\ 1 \\end{bmatrix}$$\n",
    "\n",
    "$$\\Updownarrow$$\n",
    "\n",
    "$$x_0=\\begin{bmatrix} 1 \\\\ -1 \\\\ 0 \\\\ 3 \\\\ 0 \\end{bmatrix} + 0 \\begin{bmatrix} 0 \\\\ -1 \\\\ 1 \\\\ 0 \\\\ 0 \\end{bmatrix} + 0 \\begin{bmatrix} -1 \\\\ 0 \\\\ 0 \\\\ 0 \\\\ 1 \\end{bmatrix}$$\n",
    "\n",
    "$$\\Updownarrow$$\n",
    "\n",
    "$$x_0=\\begin{bmatrix} 1 \\\\ -1 \\\\ 0 \\\\ 3 \\\\ 0 \\end{bmatrix} + \\begin{bmatrix} 0 \\\\ 0 \\\\ 0 \\\\ 0 \\\\ 0 \\end{bmatrix} + \\begin{bmatrix} 0 \\\\ 0 \\\\ 0 \\\\ 0 \\\\ 0 \\end{bmatrix} = \\begin{bmatrix} 1 \\\\ -1 \\\\ 0 \\\\ 3 \\\\ 0 \\end{bmatrix}$$\n",
    "\n",
    "\n",
    "$s=1$ and $t=2$\n",
    "\n",
    "$$x_1 = \\begin{bmatrix} 1 \\\\ -1 \\\\ 0 \\\\ 3 \\\\ 0 \\end{bmatrix} + 1 \\begin{bmatrix} 0 \\\\ -1 \\\\ 1 \\\\ 0 \\\\ 0 \\end{bmatrix} + 2 \\begin{bmatrix} -1 \\\\ 0 \\\\ 0 \\\\ 0 \\\\ 1 \\end{bmatrix}$$\n",
    "\n",
    "$$\\Updownarrow$$\n",
    "\n",
    "$$x_1 = \\begin{bmatrix} 1 \\\\ -1 \\\\ 0 \\\\ 3 \\\\ 0 \\end{bmatrix} +\\begin{bmatrix} 0 \\\\ -1 \\\\ 1 \\\\ 0 \\\\ 0 \\end{bmatrix} + \\begin{bmatrix} -2 \\\\ 0 \\\\ 0 \\\\ 0 \\\\ 2 \\end{bmatrix}$$\n",
    "\n",
    "$$\\Updownarrow$$\n",
    "\n",
    "$$x_1 = \\begin{bmatrix} 1 \\\\ -1 \\\\ 0 \\\\ 3 \\\\ 0 \\end{bmatrix} +\\begin{bmatrix} 0 \\\\ -1 \\\\ 1 \\\\ 0 \\\\ 0 \\end{bmatrix} + \\begin{bmatrix} -2 \\\\ 0 \\\\ 0 \\\\ 0 \\\\ 2 \\end{bmatrix} = \\begin{bmatrix} -1 \\\\ -2 \\\\ 1 \\\\ 3 \\\\ 2 \\end{bmatrix}$$"
   ]
  },
  {
   "cell_type": "markdown",
   "metadata": {},
   "source": [
    "# Exercises\n",
    "\n",
    "## Exercise 1.4\n",
    "\n",
    "Solve for the Matrix $A$:\n",
    "\n",
    "$$\\Big( 5A^T+\\begin{bmatrix}1 & 0 \\\\ 2 & 5 \\end{bmatrix} \\Big)^T = 3A + \\begin{bmatrix} 1 & -2 \\\\ -1 & 3 \\end{bmatrix}^{-1}$$\n",
    "\n",
    "$$\\Updownarrow$$\n",
    "\n",
    "$$5A + \\begin{bmatrix} 1 & 2 \\\\ 0 & 5 \\end{bmatrix} = 3A + \\begin{bmatrix} 1 & -2 \\\\ -1 & 3 \\end{bmatrix}^{-1}$$\n",
    "\n",
    "$$\\Updownarrow$$\n",
    "\n",
    "$$5A + \\begin{bmatrix} 1 & 2 \\\\ 0 & 5 \\end{bmatrix} = 3A + 1 \\begin{bmatrix} 1 & -2 \\\\ -1 & 3 \\end{bmatrix}^{-1}$$\n",
    "\n",
    "$$5A + \\begin{bmatrix} 1 & 2 \\\\ 0 & 5 \\end{bmatrix} = 3A + \\begin{bmatrix} 3 & 2 \\\\ 1 & 1 \\end{bmatrix}$$\n",
    "\n",
    "$$\\Updownarrow$$\n",
    "\n",
    "$$2A = \\begin{bmatrix} 3 & 2 \\\\ 1 & 1 \\end{bmatrix}-\\begin{bmatrix} 1 & 2 \\\\ 0 & 5 \\end{bmatrix}$$\n",
    "\n",
    "$$\\Updownarrow$$\n",
    "\n",
    "$$2A = \\begin{bmatrix} 2 & 0 \\\\ 1 & -4 \\end{bmatrix}$$\n",
    "\n",
    "$$\\Updownarrow$$\n",
    "\n",
    "$$A = \\begin{bmatrix} 1 & 0 \\\\ \\frac{1}{2} & -2 \\end{bmatrix}$$"
   ]
  },
  {
   "cell_type": "markdown",
   "metadata": {},
   "source": [
    "## Exercise 2.2\n",
    "\n",
    "Solve each of the following systems of equations.\n",
    "\n",
    "1. $\\Bigg\\{ \\begin{matrix} -x + y - 3z = 0 \\\\ 3x - 2y + 10z = 0 \\\\ -2x + 3y - 5z = 0 \\end{matrix} $\n",
    "\n",
    "$$\\begin{bmatrix}-1 & 1 & -3 \\\\ 3 & -2 & 10 \\\\ -2 & 3 & -5 \\end{bmatrix}$$\n",
    "\n",
    "$$\\xrightarrow{-1R_1}R_1$$\n",
    "\n",
    "$$\\begin{bmatrix} 1 & -1 & 3 \\\\ 3 & -2 & 10 \\\\ -2 & 3 & -5 \\end{bmatrix}$$\n",
    "\n",
    "$$\\xrightarrow{R_2-3R_1}R_2$$\n",
    "$$\\xrightarrow{R_3+2R_1}R_3$$\n",
    "\n",
    "$$\\begin{bmatrix} 1 & -1 & 3 \\\\ 0 & 1 & 1 \\\\ 0 & 1 & 1 \\end{bmatrix}$$\n",
    "\n",
    "$$\\xrightarrow{R_3-1R_2}$$\n",
    "\n",
    "$$\\begin{bmatrix} 1 & -1 & 3 \\\\ 0 & 1 & 1 \\\\ 0 & 0 & 0 \\end{bmatrix}$$\n",
    "\n",
    "$$\\xrightarrow{R_1+1R_2}$$\n",
    "\n",
    "$$\\begin{bmatrix} 1 & 0 & 4 \\\\ 0 & 1 & 1 \\\\ 0 & 0 & 0 \\end{bmatrix}$$\n",
    "\n",
    "$$x=t\\begin{bmatrix} -4 \\\\ -1 \\\\ 0 \\end{bmatrix}, \\space \\space t \\in \\mathbb{R}$$\n",
    "\n",
    "2. $\\Bigg\\{ \\begin{matrix} -x + y - 3z = 6 \\\\ 3x - 2y + 10z = -10 \\\\ -2x + 3y - 5z = 9 \\end{matrix} $\n",
    "\n",
    "$$\\left[\\begin{array}{ccc|c}-1 & 1 & -3 & 6 \\\\ 3 & -2 & 10 \\\\ -2 & 3 & -5 \\end{array}\\right]$$\n",
    "\n",
    "$$\\xrightarrow{-1R_1}R_1$$\n",
    "\n",
    "$$\\left[\\begin{array}{ccc|c}1 & -1 & 3 & -6 \\\\ 3 & -2 & 10 & -10 \\\\ -2 & 3 & -5 & 9 \\end{array}\\right]$$\n",
    "\n",
    "$$\\xrightarrow{R_2-3R_1}R_2$$\n",
    "$$\\xrightarrow{R_3+2R_1}R_3$$\n",
    "\n",
    "$$\\left[\\begin{array}{ccc|c}1 & -1 & 3 & -6 \\\\ 0 & 1 & 1 & 8 \\\\ 0 & 1 & 1 & -3 \\end{array}\\right]$$\n",
    "\n",
    "$$\\xrightarrow{R_3-1R_2}R_3$$\n",
    "\n",
    "$$\\left[\\begin{array}{ccc|c}1 & -1 & 3 & -6 \\\\ 0 & 1 & 1 & 8 \\\\ 0 & 0 & 0 & -11 \\end{array}\\right]$$\n",
    "\n",
    "b is inconsistent because $0+0+0 \\neq -11$"
   ]
  },
  {
   "cell_type": "markdown",
   "metadata": {},
   "source": [
    "# Problems\n",
    "\n",
    "## Problem 2.3\n",
    "\n",
    "Express the following system of equations in matrix form:\n",
    "\n",
    "$$-5x+y-3z-8w=3$$\n",
    "$$3x+2y+2z+5w=3$$\n",
    "$$x+z+2w=-1$$\n",
    "\n",
    "\n",
    "$$\\left[\\begin{array}{cccc|c} -5 & 1 & -3 & -8 & 3 \\\\ 3 & 2 & 2 & 5 & 3 \\\\ 1 & 0 & 1 & 2 & -1 \\end{array}\\right]$$\n",
    "\n",
    "Show that the system is consistent and find the general solution. Then write down the general solution of the associated homogenous system of equations.\n",
    "\n",
    "$$\\left[\\begin{array}{cccc|c} -5 & 1 & -3 & -8 & 3 \\\\ 3 & 2 & 2 & 5 & 3 \\\\ 1 & 0 & 1 & 2 & -1 \\end{array}\\right]$$\n",
    "\n",
    "$$\\xrightarrow{R_1 \\leftrightarrow R_3}$$\n",
    "\n",
    "$$\\left[\\begin{array}{cccc|c} 1 & 0 & 1 & 2 & -1 \\\\ 3 & 2 & 2 & 5 & 3 \\\\ -5 & 1 & -3 & -8 & 3 \\end{array}\\right]$$\n",
    "\n",
    "$$\\xrightarrow{R_2-3R_1}R_2$$\n",
    "\n",
    "$$\\left[\\begin{array}{cccc|c} 1 & 0 & 1 & 2 & -1 \\\\ 0 & 2 & -1 & -1 & 6 \\\\ -5 & 1 & -3 & -8 & 3 \\end{array}\\right]$$\n",
    "\n",
    "$$\\xrightarrow{R_3+5R_1}R_3$$\n",
    "\n",
    "$$\\left[\\begin{array}{cccc|c} 1 & 0 & 1 & 2 & -1 \\\\ 0 & 2 & -1 & -1 & 6 \\\\ 0 & 1 & 2 & 2 & -2 \\end{array}\\right]$$\n",
    "\n",
    "$$\\xrightarrow{\\frac{1}{2}R_2}$$\n",
    "\n",
    "$$\\left[\\begin{array}{cccc|c} 1 & 0 & 1 & 2 & -1 \\\\ 0 & 1 & -\\frac{1}{2} & -\\frac{1}{2} & 3 \\\\ 0 & 1 & 2 & 2 & -2 \\end{array}\\right]$$\n",
    "\n",
    "$$\\xrightarrow{R_3-1R_2}R_3$$\n",
    "\n",
    "$$\\left[\\begin{array}{cccc|c} 1 & 0 & 1 & 2 & -1 \\\\ 0 & 1 & -\\frac{1}{2} & -\\frac{1}{2} & 3 \\\\ 0 & 0 & \\frac{5}{2} & \\frac{5}{2} & -5 \\end{array}\\right]$$\n",
    "\n",
    "$$\\xrightarrow{\\frac{2}{5}R_3}R_3$$\n",
    "\n",
    "$$\\left[\\begin{array}{cccc|c} 1 & 0 & 1 & 2 & -1 \\\\ 0 & 1 & -\\frac{1}{2} & -\\frac{1}{2} & 3 \\\\ 0 & 0 & 1 & 1 & -2 \\end{array}\\right]$$\n",
    "\n",
    "$$\\xrightarrow{R_1-1R_3}R_1$$\n",
    "\n",
    "$$\\left[\\begin{array}{cccc|c} 1 & 0 & 0 & 1 & 1 \\\\ 0 & 1 & -\\frac{1}{2} & -\\frac{1}{2} & 3 \\\\ 0 & 0 & 1 & 1 & -2 \\end{array}\\right]$$\n",
    "\n",
    "$$\\xrightarrow{R_2-\\frac{1}{2}R_3}$$\n",
    "\n",
    "$$\\left[\\begin{array}{cccc|c} 1 & 0 & 0 & 1 & 1 \\\\ 0 & 1 & 0 & 0 & 4 \\\\ 0 & 0 & 1 & 1 & -2 \\end{array}\\right]$$\n",
    "\n",
    "$$x = t \\begin{bmatrix} -1 \\\\ 0 \\\\ -1 \\end{bmatrix}, \\space t \\in \\mathbb{R}$$"
   ]
  },
  {
   "cell_type": "markdown",
   "metadata": {},
   "source": [
    "## Problem 2.9\n",
    "\n",
    "$$R=\\begin{bmatrix} 1.05 & 0.95 & 1.0 \\\\ 1.05 & 1.05 & 1.05 \\\\ 1.20 & 1.26 & 1.23 \\end{bmatrix}$$\n",
    "\n",
    "1. $W=\\begin{bmatrix} 5000 & 2000 & 0 \\end{bmatrix}$\n",
    "\n",
    "$$WR = W=\\begin{bmatrix} 5000 & 2000 & 0 \\end{bmatrix}\\begin{bmatrix} 1.05 & 0.95 & 1.0 \\\\ 1.05 & 1.05 & 1.05 \\\\ 1.20 & 1.26 & 1.23 \\end{bmatrix}$$"
   ]
  },
  {
   "cell_type": "code",
   "execution_count": 29,
   "metadata": {},
   "outputs": [
    {
     "name": "stdout",
     "output_type": "stream",
     "text": [
      "[[7350. 6850. 7100.]]\n"
     ]
    }
   ],
   "source": [
    "import numpy as np\n",
    "\n",
    "W = np.matrix([5000, 2000, 0])\n",
    "R = np.matrix([[1.05, 0.95, 1.0], [1.05, 1.05, 1.05], [1.20, 1.26, 1.23]])\n",
    "\n",
    "print(W*R)"
   ]
  },
  {
   "cell_type": "markdown",
   "metadata": {},
   "source": [
    "$$WR = \\begin{bmatrix}7350 & 6850 & 7100 \\end{bmatrix}$$\n",
    "\n",
    "2. $U=\\begin{bmatrix} 600 & 8000 & 1000 \\end{bmatrix}$\n",
    "\n",
    "$$UR = U=\\begin{bmatrix} 600 & 8000 & 1000 \\end{bmatrix}\\begin{bmatrix} 1.05 & 0.95 & 1.0 \\\\ 1.05 & 1.05 & 1.05 \\\\ 1.20 & 1.26 & 1.23 \\end{bmatrix}$$"
   ]
  },
  {
   "cell_type": "code",
   "execution_count": 30,
   "metadata": {},
   "outputs": [
    {
     "name": "stdout",
     "output_type": "stream",
     "text": [
      "[[10230. 10230. 10230.]]\n"
     ]
    }
   ],
   "source": [
    "U = np.matrix([600, 8000, 1000])\n",
    "\n",
    "print(U*R)"
   ]
  },
  {
   "cell_type": "markdown",
   "metadata": {},
   "source": [
    "$$UR = \\begin{bmatrix} 10230 & 10230 & 10230 \\end{bmatrix}$$\n",
    "\n",
    "3. $Z=\\begin{bmatrix} 1000 & -2000 & 1000 \\end{bmatrix}$\n",
    "\n",
    "$$ZR = \\begin{bmatrix} 1000 & -2000 & 1000 \\end{bmatrix}\\begin{bmatrix} 1.05 & 0.95 & 1.0 \\\\ 1.05 & 1.05 & 1.05 \\\\ 1.20 & 1.26 & 1.23 \\end{bmatrix}$$"
   ]
  },
  {
   "cell_type": "code",
   "execution_count": 31,
   "metadata": {},
   "outputs": [
    {
     "name": "stdout",
     "output_type": "stream",
     "text": [
      "[[150. 110. 130.]]\n"
     ]
    }
   ],
   "source": [
    "Z = np.matrix([[1000, -2000, 1000]])\n",
    "\n",
    "print(Z*R)"
   ]
  },
  {
   "cell_type": "markdown",
   "metadata": {},
   "source": [
    "$$ZR = \\begin{bmatrix} 150 & 110 & 130 \\end{bmatrix}$$"
   ]
  },
  {
   "cell_type": "code",
   "execution_count": null,
   "metadata": {},
   "outputs": [],
   "source": []
  }
 ],
 "metadata": {
  "kernelspec": {
   "display_name": "Python 3",
   "language": "python",
   "name": "python3"
  },
  "language_info": {
   "codemirror_mode": {
    "name": "ipython",
    "version": 3
   },
   "file_extension": ".py",
   "mimetype": "text/x-python",
   "name": "python",
   "nbconvert_exporter": "python",
   "pygments_lexer": "ipython3",
   "version": "3.8.5"
  }
 },
 "nbformat": 4,
 "nbformat_minor": 4
}
