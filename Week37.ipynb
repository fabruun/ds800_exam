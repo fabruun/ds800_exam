{
 "cells": [
  {
   "cell_type": "markdown",
   "metadata": {},
   "source": [
    "# Exercise 1\n",
    "Write a program that converts temperature between Fahrenheit and Celsius. Ask the user to enter the temperature in a format like ”-2C” or ”75F”.  De-pending on the given unit of measurement, use one of the formulas below for conversion and print the result on the screen!\n",
    "\n",
    "$c = \\frac{(f-32)}{1.8}$ \\\n",
    "$f = c*1.8+32$"
   ]
  },
  {
   "cell_type": "code",
   "execution_count": 18,
   "metadata": {},
   "outputs": [
    {
     "name": "stdout",
     "output_type": "stream",
     "text": [
      "Please enter a temperature.12C\n",
      "53.6F\n"
     ]
    }
   ],
   "source": [
    "temp = input(\"Please enter a temperature.\")\n",
    "\n",
    "if temp[-1] == \"C\":\n",
    "    temp = int(temp[0:-1])\n",
    "    fahrenheit = (temp * 1.8) + 32\n",
    "    print(str(fahrenheit) + \"F\")  \n",
    "elif temp[-1] == \"F\":\n",
    "    temp = int(temp[0:-1])\n",
    "    celsius = (temp - 32)/1.8\n",
    "    print(str(celsius) + \"C\")"
   ]
  },
  {
   "cell_type": "markdown",
   "metadata": {},
   "source": [
    "# Exercise 2\n",
    "Write a program that asks a user to play a game. If the user enters y or yes, indicate that the user needs to find out a secret number between 1 and 1000. The user enters a guess and the program should inform if the guessed number is  correct,  larger  or  smaller  than  the  secret  number.  Your  program  should continue asking the user to guess the number until the guess is correct.  In that case, print a congratulatory message!"
   ]
  },
  {
   "cell_type": "code",
   "execution_count": null,
   "metadata": {},
   "outputs": [],
   "source": [
    "import random\n",
    "\n",
    "game = input(\"Do you want to play a game? \")\n",
    "secret_number = random.randint(1, 1000)\n",
    "\n",
    "# Flag to toggle while loop\n",
    "# Boolean value\n",
    "correct_guess = False\n",
    "if game == \"y\" or game == \"yes\":\n",
    "    while(not correct_guess):\n",
    "        print(\"Guess a number between 1 and 1000\")\n",
    "        answer = int(input(\"What is your guess?\"))\n",
    "        if answer == secret_number:\n",
    "            print(\"Correct you won!\")\n",
    "            # Toggles thew boolean value so the while loop stops\n",
    "            correct_guess = True\n",
    "        elif secret_number > answer:\n",
    "            print(\"The number is higher.\")\n",
    "        elif secret_number < answer:\n",
    "            print(\"The number is lower.\")\n",
    "else:\n",
    "    print(\"Bye bye.\")"
   ]
  },
  {
   "cell_type": "markdown",
   "metadata": {},
   "source": [
    "# Exercise 3\n",
    "Write a program that reads in two numbers from the user. The program should print the relation between the two numbers, which will be one of the following: numbers are equal, first number is less than the second number, first number is greater than the second number."
   ]
  },
  {
   "cell_type": "code",
   "execution_count": 1,
   "metadata": {},
   "outputs": [
    {
     "name": "stdout",
     "output_type": "stream",
     "text": [
      "Input a number12\n",
      "Input another number8\n",
      "The first number is larger than the second number.\n"
     ]
    }
   ],
   "source": [
    "first = float(input(\"Input a number: \"))\n",
    "second = float(input(\"Input another number: \"))\n",
    "\n",
    "if first == second:\n",
    "    print(\"Numbers are equal\")\n",
    "elif first < second:\n",
    "    print(\"The first number is smaller than the second number.\")\n",
    "elif first > second:\n",
    "    print(\"The first number is larger than the second number.\")"
   ]
  },
  {
   "cell_type": "markdown",
   "metadata": {},
   "source": [
    "# Exercise 4\n",
    "Write a program that reads in a string from the user. If the string contains at least one of every vowel (a, e, i, o, u), print ”You have all the vowels!” Also, print the number of vowels contained in the string. Finally, if the string starts with the letter a and ends with the letter z, print ”And its sort of alphabetical!”"
   ]
  },
  {
   "cell_type": "code",
   "execution_count": null,
   "metadata": {},
   "outputs": [],
   "source": [
    "vowels = [\"a\", \"e\", \"i\", \"o\", \"u\"]\n",
    "counter = 0\n",
    "\n",
    "sentence = input(\"Please input a sentence: \")\n",
    "\n",
    "# [val in string for val in list] - List comprehension\n",
    "if all([v in sentence for v in vowels]):\n",
    "    print(\"You have all the vowels!\")\n",
    "\n",
    "for v in vowels:\n",
    "    if v in sentence:\n",
    "        counter += 1\n",
    "        \n",
    "print(\"There are \" + str(counter) + \" vowels in the sentence.\")\n",
    "\n",
    "if sentence[0] == \"a\" and sentence[-1] == \"z\":\n",
    "    print(\"And its sort of alphabetical!\")"
   ]
  },
  {
   "cell_type": "markdown",
   "metadata": {},
   "source": [
    "# Exercise 5\n",
    "Write a program that iterates over all even numbers between 1 and 100. If the number is also divisible by 6, increment a counter. At the end of your program, print how many numbers are even and also divisible by 6."
   ]
  },
  {
   "cell_type": "code",
   "execution_count": 7,
   "metadata": {},
   "outputs": [
    {
     "name": "stdout",
     "output_type": "stream",
     "text": [
      "16\n"
     ]
    }
   ],
   "source": [
    "counter = 0\n",
    "\n",
    "for number in range(2, 100, 2):\n",
    "    if number % 6 == 0:\n",
    "        counter += 1\n",
    "        \n",
    "print(counter)"
   ]
  },
  {
   "cell_type": "markdown",
   "metadata": {},
   "source": [
    "# Exercise 6\n",
    "Write a program that asks the user for a number, n.  Then use loops to repeat-edly print a message. For example, if the user inputs 99, your program should print this:99 books on Python on the shelf. Take one down, pass it around, 98 books left. 98 books on Python on the shelf. Take one down, pass it around, 97 books left....1 book on Python on the shelf. Take one down, pass it around, no more books!"
   ]
  },
  {
   "cell_type": "code",
   "execution_count": 11,
   "metadata": {},
   "outputs": [
    {
     "name": "stdout",
     "output_type": "stream",
     "text": [
      "How many books on the shelf? 99\n",
      "99 books of Python on the shelf. Take one down, pass it around, 98 books left\n",
      "98 books of Python on the shelf. Take one down, pass it around, 97 books left\n",
      "97 books of Python on the shelf. Take one down, pass it around, 96 books left\n",
      "96 books of Python on the shelf. Take one down, pass it around, 95 books left\n",
      "95 books of Python on the shelf. Take one down, pass it around, 94 books left\n",
      "94 books of Python on the shelf. Take one down, pass it around, 93 books left\n",
      "93 books of Python on the shelf. Take one down, pass it around, 92 books left\n",
      "92 books of Python on the shelf. Take one down, pass it around, 91 books left\n",
      "91 books of Python on the shelf. Take one down, pass it around, 90 books left\n",
      "90 books of Python on the shelf. Take one down, pass it around, 89 books left\n",
      "89 books of Python on the shelf. Take one down, pass it around, 88 books left\n",
      "88 books of Python on the shelf. Take one down, pass it around, 87 books left\n",
      "87 books of Python on the shelf. Take one down, pass it around, 86 books left\n",
      "86 books of Python on the shelf. Take one down, pass it around, 85 books left\n",
      "85 books of Python on the shelf. Take one down, pass it around, 84 books left\n",
      "84 books of Python on the shelf. Take one down, pass it around, 83 books left\n",
      "83 books of Python on the shelf. Take one down, pass it around, 82 books left\n",
      "82 books of Python on the shelf. Take one down, pass it around, 81 books left\n",
      "81 books of Python on the shelf. Take one down, pass it around, 80 books left\n",
      "80 books of Python on the shelf. Take one down, pass it around, 79 books left\n",
      "79 books of Python on the shelf. Take one down, pass it around, 78 books left\n",
      "78 books of Python on the shelf. Take one down, pass it around, 77 books left\n",
      "77 books of Python on the shelf. Take one down, pass it around, 76 books left\n",
      "76 books of Python on the shelf. Take one down, pass it around, 75 books left\n",
      "75 books of Python on the shelf. Take one down, pass it around, 74 books left\n",
      "74 books of Python on the shelf. Take one down, pass it around, 73 books left\n",
      "73 books of Python on the shelf. Take one down, pass it around, 72 books left\n",
      "72 books of Python on the shelf. Take one down, pass it around, 71 books left\n",
      "71 books of Python on the shelf. Take one down, pass it around, 70 books left\n",
      "70 books of Python on the shelf. Take one down, pass it around, 69 books left\n",
      "69 books of Python on the shelf. Take one down, pass it around, 68 books left\n",
      "68 books of Python on the shelf. Take one down, pass it around, 67 books left\n",
      "67 books of Python on the shelf. Take one down, pass it around, 66 books left\n",
      "66 books of Python on the shelf. Take one down, pass it around, 65 books left\n",
      "65 books of Python on the shelf. Take one down, pass it around, 64 books left\n",
      "64 books of Python on the shelf. Take one down, pass it around, 63 books left\n",
      "63 books of Python on the shelf. Take one down, pass it around, 62 books left\n",
      "62 books of Python on the shelf. Take one down, pass it around, 61 books left\n",
      "61 books of Python on the shelf. Take one down, pass it around, 60 books left\n",
      "60 books of Python on the shelf. Take one down, pass it around, 59 books left\n",
      "59 books of Python on the shelf. Take one down, pass it around, 58 books left\n",
      "58 books of Python on the shelf. Take one down, pass it around, 57 books left\n",
      "57 books of Python on the shelf. Take one down, pass it around, 56 books left\n",
      "56 books of Python on the shelf. Take one down, pass it around, 55 books left\n",
      "55 books of Python on the shelf. Take one down, pass it around, 54 books left\n",
      "54 books of Python on the shelf. Take one down, pass it around, 53 books left\n",
      "53 books of Python on the shelf. Take one down, pass it around, 52 books left\n",
      "52 books of Python on the shelf. Take one down, pass it around, 51 books left\n",
      "51 books of Python on the shelf. Take one down, pass it around, 50 books left\n",
      "50 books of Python on the shelf. Take one down, pass it around, 49 books left\n",
      "49 books of Python on the shelf. Take one down, pass it around, 48 books left\n",
      "48 books of Python on the shelf. Take one down, pass it around, 47 books left\n",
      "47 books of Python on the shelf. Take one down, pass it around, 46 books left\n",
      "46 books of Python on the shelf. Take one down, pass it around, 45 books left\n",
      "45 books of Python on the shelf. Take one down, pass it around, 44 books left\n",
      "44 books of Python on the shelf. Take one down, pass it around, 43 books left\n",
      "43 books of Python on the shelf. Take one down, pass it around, 42 books left\n",
      "42 books of Python on the shelf. Take one down, pass it around, 41 books left\n",
      "41 books of Python on the shelf. Take one down, pass it around, 40 books left\n",
      "40 books of Python on the shelf. Take one down, pass it around, 39 books left\n",
      "39 books of Python on the shelf. Take one down, pass it around, 38 books left\n",
      "38 books of Python on the shelf. Take one down, pass it around, 37 books left\n",
      "37 books of Python on the shelf. Take one down, pass it around, 36 books left\n",
      "36 books of Python on the shelf. Take one down, pass it around, 35 books left\n",
      "35 books of Python on the shelf. Take one down, pass it around, 34 books left\n",
      "34 books of Python on the shelf. Take one down, pass it around, 33 books left\n",
      "33 books of Python on the shelf. Take one down, pass it around, 32 books left\n",
      "32 books of Python on the shelf. Take one down, pass it around, 31 books left\n",
      "31 books of Python on the shelf. Take one down, pass it around, 30 books left\n",
      "30 books of Python on the shelf. Take one down, pass it around, 29 books left\n",
      "29 books of Python on the shelf. Take one down, pass it around, 28 books left\n",
      "28 books of Python on the shelf. Take one down, pass it around, 27 books left\n",
      "27 books of Python on the shelf. Take one down, pass it around, 26 books left\n",
      "26 books of Python on the shelf. Take one down, pass it around, 25 books left\n",
      "25 books of Python on the shelf. Take one down, pass it around, 24 books left\n",
      "24 books of Python on the shelf. Take one down, pass it around, 23 books left\n",
      "23 books of Python on the shelf. Take one down, pass it around, 22 books left\n",
      "22 books of Python on the shelf. Take one down, pass it around, 21 books left\n",
      "21 books of Python on the shelf. Take one down, pass it around, 20 books left\n",
      "20 books of Python on the shelf. Take one down, pass it around, 19 books left\n",
      "19 books of Python on the shelf. Take one down, pass it around, 18 books left\n",
      "18 books of Python on the shelf. Take one down, pass it around, 17 books left\n",
      "17 books of Python on the shelf. Take one down, pass it around, 16 books left\n",
      "16 books of Python on the shelf. Take one down, pass it around, 15 books left\n",
      "15 books of Python on the shelf. Take one down, pass it around, 14 books left\n",
      "14 books of Python on the shelf. Take one down, pass it around, 13 books left\n",
      "13 books of Python on the shelf. Take one down, pass it around, 12 books left\n",
      "12 books of Python on the shelf. Take one down, pass it around, 11 books left\n",
      "11 books of Python on the shelf. Take one down, pass it around, 10 books left\n",
      "10 books of Python on the shelf. Take one down, pass it around, 9 books left\n",
      "9 books of Python on the shelf. Take one down, pass it around, 8 books left\n",
      "8 books of Python on the shelf. Take one down, pass it around, 7 books left\n",
      "7 books of Python on the shelf. Take one down, pass it around, 6 books left\n",
      "6 books of Python on the shelf. Take one down, pass it around, 5 books left\n",
      "5 books of Python on the shelf. Take one down, pass it around, 4 books left\n",
      "4 books of Python on the shelf. Take one down, pass it around, 3 books left\n",
      "3 books of Python on the shelf. Take one down, pass it around, 2 books left\n",
      "2 books of Python on the shelf. Take one down, pass it around, 1 books left\n",
      "1 books of Python on the shelf. Take one down, pass it around, 0 books left\n"
     ]
    }
   ],
   "source": [
    "number = int(input(\"How many books on the shelf? \"))\n",
    "\n",
    "while number > 0:\n",
    "    print(str(number) + \" books of Python on the shelf. Take one down, pass it around, \" + str(number - 1) + \" books left\")\n",
    "    number -= 1\n"
   ]
  },
  {
   "cell_type": "code",
   "execution_count": null,
   "metadata": {},
   "outputs": [],
   "source": []
  }
 ],
 "metadata": {
  "kernelspec": {
   "display_name": "Python 3",
   "language": "python",
   "name": "python3"
  },
  "language_info": {
   "codemirror_mode": {
    "name": "ipython",
    "version": 3
   },
   "file_extension": ".py",
   "mimetype": "text/x-python",
   "name": "python",
   "nbconvert_exporter": "python",
   "pygments_lexer": "ipython3",
   "version": "3.7.6"
  }
 },
 "nbformat": 4,
 "nbformat_minor": 4
}
