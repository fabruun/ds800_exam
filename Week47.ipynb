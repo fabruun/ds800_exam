{
 "cells": [
  {
   "cell_type": "markdown",
   "metadata": {},
   "source": [
    "# Week 47 \n",
    "\n",
    "## Activities\n",
    "\n",
    "### Activity 3.21\n",
    "\n",
    "Check your calculation of the determinant of the matrix\n",
    "\n",
    "$$M= \\begin{bmatrix} -1 & 2 & 1 \\\\ 0 & 2 & 3 \\\\ 1 & 1 & 4 \\end{bmatrix}$$"
   ]
  },
  {
   "cell_type": "markdown",
   "metadata": {},
   "source": [
    "$$det \\space M = -1 \\left| \\begin{matrix} 2 & 3 \\\\ 1 & 4 \\end{matrix} \\right| - 2 \\left| \\begin{matrix} 0 & 3 \\\\ 1 & 4 \\end{matrix} \\right| + 1 \\left| \\begin{matrix} 0 & 2 \\\\ 1 & 1 \\end{matrix} \\right| = -5 + 6 -2 = -1$$"
   ]
  },
  {
   "cell_type": "markdown",
   "metadata": {},
   "source": [
    "### Activity 6.4\n",
    "\n",
    "Show that the vectors\n",
    "\n",
    "$$p=\\begin{bmatrix} 1 \\\\ -2 \\end{bmatrix}, \\space \\space \\space q=\\begin{bmatrix} -2 \\\\ 4 \\end{bmatrix}$$\n",
    "\n",
    "$$2p + q = 0$$"
   ]
  },
  {
   "cell_type": "markdown",
   "metadata": {},
   "source": [
    "### Activity 6.14\n",
    "\n",
    "This is the method used to find the linear combination given in Example 6.5 for the vectors $v_1$, $v_2$, $v_3$.\n",
    "\n",
    "$$v_1 = \\begin{bmatrix} 1 \\\\ 2 \\\\ 3 \\end{bmatrix}, \\space \\space \\space v_2 = \\begin{bmatrix} 2 \\\\ 1 \\\\ 5 \\end{bmatrix}, \\space \\space \\space v_3 = \\begin{bmatrix} 4 \\\\ 5 \\\\ 11 \\end{bmatrix}. $$\n",
    "\n",
    "Find the solution of $a_1v_1+a_2v_2++a_3v_3=0$ to obtain a linear dependence relation."
   ]
  },
  {
   "cell_type": "markdown",
   "metadata": {},
   "source": [
    "$$\\left[ \\begin{array}{ccc|c} 1 & 2 & 4 & 0 \\\\ 2 & 1 & 5 & 0 \\\\ 3 & 5 & 11 & 0 \\end{array}\\right]$$"
   ]
  },
  {
   "cell_type": "markdown",
   "metadata": {},
   "source": [
    "$$\\xrightarrow{R_2-2R_1}R_2$$\n",
    "\n",
    "$$\\left[ \\begin{array}{ccc|c} 1 & 2 & 4 & 0 \\\\ 0 & -3 & -3 & 0 \\\\ 3 & 5 & 11 & 0 \\end{array}\\right]$$"
   ]
  },
  {
   "cell_type": "markdown",
   "metadata": {},
   "source": [
    "$$\\xrightarrow{R_3-3R_1}R_3$$\n",
    "\n",
    "$$\\left[ \\begin{array}{ccc|c} 1 & 2 & 4 & 0 \\\\ 0 & -3 & -3 & 0 \\\\ 0 & -1 & -1 & 0 \\end{array}\\right]$$"
   ]
  },
  {
   "cell_type": "markdown",
   "metadata": {},
   "source": [
    "$$\\xrightarrow{-1R_3}R_3$$\n",
    "\n",
    "$$\\left[ \\begin{array}{ccc|c} 1 & 2 & 4 & 0 \\\\ 0 & -3 & -3 & 0 \\\\ 0 & 1 & 1 & 0 \\end{array}\\right]$$"
   ]
  },
  {
   "cell_type": "markdown",
   "metadata": {},
   "source": [
    "$$\\xrightarrow{-\\frac{1}{3}R_2}R_2$$\n",
    "\n",
    "$$\\left[ \\begin{array}{ccc|c} 1 & 2 & 4 & 0 \\\\ 0 & 1 & 1 & 0 \\\\ 0 & 1 & 1 & 0 \\end{array}\\right]$$"
   ]
  },
  {
   "cell_type": "markdown",
   "metadata": {},
   "source": [
    "$$\\xrightarrow{R_3-1R_2}R_3$$\n",
    "\n",
    "$$\\left[ \\begin{array}{ccc|c} 1 & 2 & 4 & 0 \\\\ 0 & 1 & 1 & 0 \\\\ 0 & 0 & 0 & 0 \\end{array}\\right]$$"
   ]
  },
  {
   "cell_type": "markdown",
   "metadata": {},
   "source": [
    "$$\\xrightarrow{R_1-2R_2}R_1$$\n",
    "\n",
    "$$\\left[ \\begin{array}{ccc|c} 1 & 0 & 2 & 0 \\\\ 0 & 1 & 1 & 0 \\\\ 0 & 0 & 0 & 0 \\end{array}\\right]$$"
   ]
  },
  {
   "cell_type": "markdown",
   "metadata": {},
   "source": [
    "$$x= t\\begin{bmatrix}-2 \\\\ -1 \\\\ 1 \\end{bmatrix}, \\space \\space t \\in \\mathbb{R}$$"
   ]
  },
  {
   "cell_type": "markdown",
   "metadata": {},
   "source": [
    "### Activity 6.30\n",
    "\n",
    "Carry out the calculation of the determinant. Then verify that $7x+y-3z=0$ is the equation of the plane by checking that the vectors $v_1$, $v_2$, $v_3$ each satisfy this equation.\n",
    "\n",
    "$$A= \\begin{bmatrix} 1 & 2 & 4 \\\\ 2 & 1 & 5 \\\\ 3 & 5 & 11 \\end{bmatrix}$$"
   ]
  },
  {
   "cell_type": "markdown",
   "metadata": {},
   "source": [
    "$$det \\space A = 1 \\left| \\begin{matrix} 1 & 5 \\\\ 5 & 11 \\end{matrix} \\right| - 2 \\left| \\begin{matrix} 2 & 5 \\\\ 3 & 11 \\end{matrix} \\right| + 4 \\left| \\begin{matrix} 2 & 1 \\\\ 3 & 5 \\end{matrix} \\right| = -14 - 14 + 28 = 0 $$"
   ]
  },
  {
   "cell_type": "markdown",
   "metadata": {},
   "source": [
    "### Activity 6.59\n",
    "\n",
    "Let $B$ be the matrix\n",
    "$$B=\\begin{bmatrix} 1 & 1 & 2 & 1 \\\\ 2 & 0 & 1 & 1 \\\\ 9 & -1 & 3 & 4 \\end{bmatrix}$$\n",
    "\n",
    "Find a basis of the null space of the matrix $B$ and verify that the rank-nullity theorem:"
   ]
  },
  {
   "cell_type": "markdown",
   "metadata": {},
   "source": [
    "$$\\begin{bmatrix} 1 & 1 & 2 & 1 \\\\ 2 & 0 & 1 & 1 \\\\ 9 & -1 & 3 & 4 \\end{bmatrix}$$"
   ]
  },
  {
   "cell_type": "markdown",
   "metadata": {},
   "source": [
    "$$\\xrightarrow{R_2-2R_1}R_2$$\n",
    "\n",
    "$$\\begin{bmatrix} 1 & 1 & 2 & 1 \\\\ 0 & -2 & -3 & -2 \\\\ 9 & -1 & 3 & 4 \\end{bmatrix}$$"
   ]
  },
  {
   "cell_type": "markdown",
   "metadata": {},
   "source": [
    "$$\\xrightarrow{R_2-9R_1}R_2$$\n",
    "\n",
    "$$\\begin{bmatrix} 1 & 1 & 2 & 1 \\\\ 0 & -2 & -3 & -2 \\\\ 0 & -10 & -15 & -5 \\end{bmatrix}$$"
   ]
  },
  {
   "cell_type": "markdown",
   "metadata": {},
   "source": [
    "$$\\xrightarrow{-\\frac{1}{2}R_2}R_2$$\n",
    "\n",
    "$$\\begin{bmatrix} 1 & 1 & 2 & 1 \\\\ 0 & 1 & \\frac{3}{2} & \\frac{1}{2} \\\\ 0 & -10 & -15 & -5 \\end{bmatrix}$$"
   ]
  },
  {
   "cell_type": "markdown",
   "metadata": {},
   "source": [
    "$$\\xrightarrow{-\\frac{1}{2}R_2}R_2$$\n",
    "\n",
    "$$\\begin{bmatrix} 1 & 1 & 2 & 1 \\\\ 0 & 1 & \\frac{3}{2} & \\frac{1}{2} \\\\ 0 & 0 & 0 & 0 \\end{bmatrix}$$"
   ]
  },
  {
   "cell_type": "markdown",
   "metadata": {},
   "source": [
    "$$\\xrightarrow{R_1-1R_2}R_1$$\n",
    "\n",
    "$$\\begin{bmatrix} 1 & 0 & \\frac{1}{2} & \\frac{1}{2} \\\\ 0 & 1 & \\frac{3}{2} & \\frac{1}{2} \\\\ 0 & 0 & 0 & 0 \\end{bmatrix}$$"
   ]
  },
  {
   "cell_type": "markdown",
   "metadata": {},
   "source": [
    "$$x=t_1\\begin{bmatrix} -\\frac{1}{2} \\\\ -\\frac{1}{2} \\\\ 1 \\\\ 0 \\end{bmatrix} + t_2 \\begin{bmatrix} -\\frac{1}{2} \\\\ -\\frac{1}{2} \\\\ 0 \\\\ 1 \\end{bmatrix}, \\space t \\in \\mathbb{R}$$"
   ]
  },
  {
   "cell_type": "markdown",
   "metadata": {},
   "source": [
    "$$rank(B)+nullity(B) = 2 + 2 = 4$$"
   ]
  },
  {
   "cell_type": "markdown",
   "metadata": {},
   "source": [
    "### Activity 7.30\n",
    "\n",
    "$$B = \\Bigg\\{ \\begin{pmatrix} 1 \\\\ 2 \\\\ -1 \\end{pmatrix}, \\begin{pmatrix} 2 \\\\ -1 \\\\ 4 \\end{pmatrix}, \\begin{pmatrix} 3 \\\\ 2 \\\\ 1 \\end{pmatrix} \\Bigg\\}$$\n",
    "\n",
    "$$P=\\begin{bmatrix} 1 & 2 & 3 \\\\ 2 & -1 & 2 \\\\ -1 & 4 & 1 \\end{bmatrix}$$\n",
    "\n",
    "What are $B$ the coordinates of the basis bectors\n",
    "\n",
    "$$v_1 =\\begin{bmatrix} 1 \\\\ 2 \\\\ -1 \\end{bmatrix}, \\space \\space \\space v_2 = \\begin{bmatrix} 2 \\\\ -1 \\\\ 4 \\end{bmatrix}, \\space \\space \\space v_3 = \\begin{bmatrix} 3 \\\\ 2 \\\\ 1 \\end{bmatrix}, \\space \\space \\space$$"
   ]
  },
  {
   "cell_type": "code",
   "execution_count": 8,
   "metadata": {},
   "outputs": [
    {
     "name": "stdout",
     "output_type": "stream",
     "text": [
      "[[-2.25  2.5   1.75]\n",
      " [-1.    1.    1.  ]\n",
      " [ 1.75 -1.5  -1.25]]\n"
     ]
    }
   ],
   "source": [
    "import numpy as np\n",
    "P = np.matrix([[1, 2, 3], [2, -1, 2], [-1, 4, 1]])\n",
    "P_inv = np.linalg.inv(P)\n",
    "print(P_inv)"
   ]
  },
  {
   "cell_type": "markdown",
   "metadata": {},
   "source": [
    "$$P^{-1} =  \\begin{bmatrix} \\frac{9}{4} & \\frac{5}{2} & \\frac{7}{4} \\\\ -1 & 1 & 1 \\\\ \\frac{7}{4} & -\\frac{3}{2} & -\\frac{5}{4} \\end{bmatrix}$$"
   ]
  },
  {
   "cell_type": "code",
   "execution_count": 16,
   "metadata": {},
   "outputs": [
    {
     "name": "stdout",
     "output_type": "stream",
     "text": [
      "[[1.]\n",
      " [0.]\n",
      " [0.]]\n",
      "[[-8.8817842e-16]\n",
      " [ 1.0000000e+00]\n",
      " [ 8.8817842e-16]]\n",
      "[[0.]\n",
      " [0.]\n",
      " [1.]]\n"
     ]
    }
   ],
   "source": [
    "v1 = np.transpose(np.matrix([[1, 2, -1]]))\n",
    "v2 = np.transpose(np.matrix([[2, -1, 4]]))\n",
    "v3 = np.transpose(np.matrix([[3, 2, 1]]))\n",
    "print(P_inv*v1)\n",
    "print(P_inv*v2)\n",
    "print(P_inv*v3)"
   ]
  },
  {
   "cell_type": "markdown",
   "metadata": {},
   "source": [
    "$$[v_1]_B = \\begin{bmatrix} \\frac{9}{4} & \\frac{5}{2} & \\frac{7}{4} \\\\ -1 & 1 & 1 \\\\ \\frac{7}{4} & -\\frac{3}{2} & -\\frac{5}{4} \\end{bmatrix} \\begin{bmatrix} 1 \\\\ 2 \\\\ -1 \\end{bmatrix} = \\begin{bmatrix} 1 \\\\ 0 \\\\ 0 \\end{bmatrix}$$\n",
    "\n",
    "$$[v_2]_B = \\begin{bmatrix} \\frac{9}{4} & \\frac{5}{2} & \\frac{7}{4} \\\\ -1 & 1 & 1 \\\\ \\frac{7}{4} & -\\frac{3}{2} & -\\frac{5}{4} \\end{bmatrix} \\begin{bmatrix} 2 \\\\ -1 \\\\ 4 \\end{bmatrix} = \\begin{bmatrix} 0 \\\\ 1 \\\\ 0 \\end{bmatrix}$$\n",
    "\n",
    "$$[v_3]_B = \\begin{bmatrix} \\frac{9}{4} & \\frac{5}{2} & \\frac{7}{4} \\\\ -1 & 1 & 1 \\\\ \\frac{7}{4} & -\\frac{3}{2} & -\\frac{5}{4} \\end{bmatrix} \\begin{bmatrix} 3 \\\\ 2 \\\\ 1 \\end{bmatrix} = \\begin{bmatrix} 0 \\\\ 0 \\\\ 1 \\end{bmatrix}$$"
   ]
  },
  {
   "cell_type": "markdown",
   "metadata": {},
   "source": [
    "### Activity 7.43 "
   ]
  },
  {
   "cell_type": "code",
   "execution_count": 29,
   "metadata": {},
   "outputs": [
    {
     "name": "stdout",
     "output_type": "stream",
     "text": [
      "[[-0.5  1.5]\n",
      " [ 0.5 -0.5]]\n",
      "[[4. 0.]\n",
      " [0. 2.]]\n"
     ]
    }
   ],
   "source": [
    "A = np.matrix([[1, 3], [-1 ,5]])\n",
    "P = np.matrix([[1, 3], [1, 1]])\n",
    "P_inv = np.linalg.inv(P)\n",
    "print(P_inv)\n",
    "\n",
    "C = P_inv*(A*P)\n",
    "\n",
    "print(C)"
   ]
  },
  {
   "cell_type": "markdown",
   "metadata": {},
   "source": [
    "$$C = \\begin{bmatrix} -\\frac{1}{2} & \\frac{3}{2} \\\\ \\frac{1}{2} & -\\frac{1}{2} \\end{bmatrix} \\begin{bmatrix} 1 & 3 \\\\ -1 & 5 \\end{bmatrix} \\begin{bmatrix} 1 & 3 \\\\ 1 & 1 \\end{bmatrix} = \\begin{bmatrix} 4 & 0 \\\\ 0 & 2 \\end{bmatrix}$$"
   ]
  },
  {
   "cell_type": "markdown",
   "metadata": {},
   "source": [
    "### Activity 7.44\n",
    "\n",
    "Show that $Av_1 = 4v_1$ and $Av_2 = 2v_2$."
   ]
  },
  {
   "cell_type": "code",
   "execution_count": 31,
   "metadata": {},
   "outputs": [
    {
     "name": "stdout",
     "output_type": "stream",
     "text": [
      "[[4]\n",
      " [4]]\n",
      "[[6]\n",
      " [2]]\n"
     ]
    }
   ],
   "source": [
    "std_basis_vector1 = np.transpose(np.matrix([[1, 1]]))\n",
    "std_basis_vector2 = np.transpose(np.matrix([[3, 1]]))\n",
    "\n",
    "print(A*std_basis_vector1)\n",
    "print(A*std_basis_vector2)"
   ]
  },
  {
   "cell_type": "markdown",
   "metadata": {},
   "source": [
    "$$Av_1 = \\begin{bmatrix} 1 & 3 \\\\ -1 & 5 \\end{bmatrix} \\begin{bmatrix} 1 \\\\ 1 \\end{bmatrix} = \\begin{bmatrix} 4 \\\\ 4 \\end{bmatrix}$$\n",
    "\n",
    "$$Av_2 = \\begin{bmatrix} 1 & 3 \\\\ -1 & 5 \\end{bmatrix} \\begin{bmatrix} 3 \\\\ 1 \\end{bmatrix} = \\begin{bmatrix} 6 \\\\ 2 \\end{bmatrix}$$"
   ]
  },
  {
   "cell_type": "markdown",
   "metadata": {},
   "source": [
    "## Problems \n",
    "\n",
    "### Problem 6.1"
   ]
  },
  {
   "cell_type": "code",
   "execution_count": 40,
   "metadata": {},
   "outputs": [
    {
     "name": "stdout",
     "output_type": "stream",
     "text": [
      "L1: False\n",
      "L3: True\n",
      "L4: True\n",
      "L5: False\n"
     ]
    }
   ],
   "source": [
    "L1 = np.matrix([[1, 1], [2, 3]])\n",
    "L2 = np.matrix([[1, 1, 4], [2, 3, 5]])\n",
    "L3 = np.matrix([[0, 1], [0, 2]])\n",
    "L4 = np.matrix([[1, 2, 3], [2, 7, 0], [0, 0, 0]])\n",
    "L5 = np.matrix([[1, 3, 4], [2, 0, 1], [0, -1 , 2]])\n",
    "\n",
    "print(\"L1: \" + str(np.linalg.det(L1) == 0))\n",
    "# print(\"L2: \" + str(np.linalg.det(L2) == 0))\n",
    "print(\"L3: \" + str(np.linalg.det(L3) == 0))\n",
    "print(\"L4: \" + str(np.linalg.det(L4) == 0))\n",
    "print(\"L5: \" + str(np.linalg.det(L5) == 0))"
   ]
  },
  {
   "cell_type": "markdown",
   "metadata": {},
   "source": [
    "### Problem 6.7\n",
    "\n",
    "Find the coordinates of the vector $\\begin{bmatrix} 1 \\\\ 2 \\\\ 1 \\end{bmatrix}$ with respect to each of the following bases for $\\mathbb{R}^3$.\n",
    "\n",
    "$$B_1=\\Bigg\\{ \\begin{pmatrix} 1 \\\\ 0 \\\\ 0 \\end{pmatrix}, \\begin{pmatrix} 0 \\\\ 1 \\\\ 0 \\end{pmatrix}, \\begin{pmatrix} 0 \\\\ 0 \\\\ 1 \\end{pmatrix} \\Bigg\\}, \\space \\space \\space B_2=\\Bigg\\{ \\begin{pmatrix} 1 \\\\ 1 \\\\ 1 \\end{pmatrix}, \\begin{pmatrix} 1 \\\\ -1 \\\\ 0 \\end{pmatrix}, \\begin{pmatrix} 2 \\\\ -3 \\\\ -3 \\end{pmatrix} \\Bigg\\}$$"
   ]
  },
  {
   "cell_type": "markdown",
   "metadata": {},
   "source": [
    "$$P_1 = \\begin{bmatrix} 1 & 0 & 0 \\\\ 0 & 1 & 0 \\\\ 0 & 0 & 1 \\end{bmatrix}, \\space \\space \\space P_2 = \\begin{bmatrix} 1 & 1 & 2 \\\\ 1 & -1 & -3 \\\\ 1 & 0 & -3 \\end{bmatrix}$$"
   ]
  },
  {
   "cell_type": "code",
   "execution_count": 47,
   "metadata": {},
   "outputs": [
    {
     "name": "stdout",
     "output_type": "stream",
     "text": [
      "[[ 0.6  0.6 -0.2]\n",
      " [-0.  -1.   1. ]\n",
      " [ 0.2  0.2 -0.4]]\n",
      "[[1.]\n",
      " [2.]\n",
      " [1.]]\n",
      "[[ 1.6]\n",
      " [-1. ]\n",
      " [ 0.2]]\n"
     ]
    }
   ],
   "source": [
    "P1 = np.matrix([[1, 0, 0], [0, 1, 0], [0, 0, 1]])\n",
    "P2 = np.matrix([[1, 1, 2], [1, -1, -3], [1, 0, -3]])\n",
    "\n",
    "P1_inv = np.linalg.inv(P1)\n",
    "P2_inv = np.linalg.inv(P2)\n",
    "\n",
    "print(P2_inv)\n",
    "\n",
    "v = np.transpose(np.matrix([[1, 2, 1]]))\n",
    "\n",
    "print(P1_inv*v)\n",
    "print(P2_inv*v)"
   ]
  },
  {
   "cell_type": "markdown",
   "metadata": {},
   "source": [
    "$$[v]_{B_1} = P_{1}^{-1}v$$\n",
    "\n",
    "$$P_1 = \\begin{bmatrix} 1 & 0 & 0 \\\\ 0 & 1 & 0 \\\\ 0 & 0 & 1 \\end{bmatrix} \\begin{bmatrix} 1 \\\\ 2 \\\\ 1 \\end{bmatrix} = \\begin{bmatrix} 1 \\\\ 2 \\\\ 1 \\end{bmatrix}$$\n",
    "\n",
    "$$[v]_{B_2} = P_{2}^{-1}v$$\n",
    "\n",
    "$$\\begin{bmatrix} 1 & 1 & 2 \\\\ 1 & -1 & -3 \\\\ 1 & 0 & -3 \\end{bmatrix} \\begin{bmatrix} 1 \\\\ 2 \\\\ 1 \\end{bmatrix} = \\begin{bmatrix} 1.6 \\\\ -1 \\\\ 0.2 \\end{bmatrix}$$"
   ]
  },
  {
   "cell_type": "markdown",
   "metadata": {},
   "source": [
    "### Problem 7.5\n",
    "\n",
    "If any of the linear transformations $T_i$ given below can be defined, write down a matrix $A_{T_i}$ such that $T_i(x) = A_{T_i}x$. Otherwise, state why $T_i$ is not defined.\n",
    "\n",
    "$T_1$ : $\\mathbb{R^3} \\rightarrow \\mathbb{R^2}$, where the null space of $T_1$ is the $x$ axis and the range of $T_1$ is the line $y = x$.\n",
    "\n",
    "$T_2$ : $\\mathbb{R^2} \\rightarrow \\mathbb{R^3}$, such that $N(T_2) = {0}$ and\n",
    "\n",
    "$$R(T_2) = Lin \\Bigg\\{ \\begin{pmatrix} 1 \\\\ 0 \\\\ 1 \\end{pmatrix}, \\begin{pmatrix} 1 \\\\ 2 \\\\ 1 \\end{pmatrix}, \\begin{pmatrix} 2 \\\\ 1 \\\\ 2 \\end{pmatrix} \\Bigg\\}.$$\n",
    "\n",
    "$T_3$ : $\\mathbb{R^2} \\rightarrow \\mathbb{R^3}$, where null space of $T_3$ is the line $y=2x$ and the range of $T_3$ is the line\n",
    "\n",
    "$$-\\frac{x}{4}=\\frac{y}{5}=z$$"
   ]
  },
  {
   "cell_type": "code",
   "execution_count": null,
   "metadata": {},
   "outputs": [],
   "source": []
  }
 ],
 "metadata": {
  "kernelspec": {
   "display_name": "Python 3",
   "language": "python",
   "name": "python3"
  },
  "language_info": {
   "codemirror_mode": {
    "name": "ipython",
    "version": 3
   },
   "file_extension": ".py",
   "mimetype": "text/x-python",
   "name": "python",
   "nbconvert_exporter": "python",
   "pygments_lexer": "ipython3",
   "version": "3.8.5"
  }
 },
 "nbformat": 4,
 "nbformat_minor": 4
}
