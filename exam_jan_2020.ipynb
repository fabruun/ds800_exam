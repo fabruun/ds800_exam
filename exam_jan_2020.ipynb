{
 "cells": [
  {
   "cell_type": "markdown",
   "metadata": {},
   "source": [
    "# 1 Linear Algebra: Problem 1\n",
    "\n",
    "Consider a set of three linear equations in three unknowns that can be written in matrix form as\n",
    "\n",
    "$$\\begin{bmatrix} 1 & 2 & 6 \\\\ 1 & 4 & 2b \\\\ 1 & 4 & 2a \\end{bmatrix}  \\begin{bmatrix} x_1 \\\\ x_2 \\\\ x_3 \\end{bmatrix} = \\begin{bmatrix} 2\\\\2\\\\2 \\end{bmatrix}$$\n",
    "\n",
    "where the coefficient matrix (shown above) is denoted $K$ and the augmented matrix is denoted $T$.\n",
    "\n",
    "**a)** Show that the augmented matrix $T$ may be reduced using elementary row operations to the following matrix:\n",
    "\n",
    "$$\\left[\\begin{array}{ccc|c} 1 & 2 & 6 & 2 \\\\ 0 & 1 & b-3 & 0 \\\\ 0 & 0 & a-b & 0 \\end{array}\\right]$$\n",
    "\n",
    "\n",
    "$$\\left[\\begin{array}{ccc|c} 1 & 2 & 6 & 2 \\\\ 1 & 4 & 2b & 2\\\\ 1 & 4 & 2a & 2 \\end{array}\\right]$$"
   ]
  },
  {
   "cell_type": "markdown",
   "metadata": {},
   "source": [
    "$$\\xrightarrow{R_2-R_1}R_2$$\n",
    "\n",
    "$$\\left[\\begin{array}{ccc|c} 1 & 2 & 6 & 2 \\\\ 0 & 2 & 2b-6 & 0\\\\ 1 & 4 & 2a & 2 \\end{array}\\right]$$"
   ]
  },
  {
   "cell_type": "markdown",
   "metadata": {},
   "source": [
    "$$\\xrightarrow{R_3-R_1}R_3$$\n",
    "\n",
    "$$\\left[\\begin{array}{ccc|c} 1 & 2 & 6 & 2 \\\\ 0 & 2 & 2b-6 & 0\\\\ 0 & 2 & 2a-6 & 0 \\end{array}\\right]$$"
   ]
  },
  {
   "cell_type": "markdown",
   "metadata": {},
   "source": [
    "$$\\xrightarrow{\\frac{1}{2}R_2}R_2$$\n",
    "\n",
    "$$\\left[\\begin{array}{ccc|c} 1 & 2 & 6 & 2 \\\\ 0 & 1 & b-3 & 0\\\\ 0 & 2 & 2a-6 & 0 \\end{array}\\right]$$"
   ]
  },
  {
   "cell_type": "markdown",
   "metadata": {},
   "source": [
    "$$\\xrightarrow{R_3-2R_2}R_3$$\n",
    "\n",
    "$$\\left[\\begin{array}{ccc|c} 1 & 2 & 6 & 2 \\\\ 0 & 1 & b-3 & 0\\\\ 0 & 0 & 2a-2b & 0 \\end{array}\\right]$$"
   ]
  },
  {
   "cell_type": "markdown",
   "metadata": {},
   "source": [
    "$$\\xrightarrow{\\frac{1}{2}R_3}R_3$$\n",
    "\n",
    "$$\\left[\\begin{array}{ccc|c} 1 & 2 & 6 & 2 \\\\ 0 & 1 & b-3 & 0\\\\ 0 & 0 & a-b & 0 \\end{array}\\right]$$"
   ]
  },
  {
   "cell_type": "markdown",
   "metadata": {},
   "source": [
    "If $a=b$ then then $rank(K) = 2$ else the $rank(K) = 3$. This also applies for the augmented matrix $T$.\n",
    "\n",
    "**b)** For which values of $a$ and $b$ (if any) are there\n",
    "\n",
    "- no solutions to the system?\n",
    "- infinitely many solutions to the system?\n",
    "- exactly one solution to the system?"
   ]
  },
  {
   "cell_type": "markdown",
   "metadata": {},
   "source": [
    "If $a=b$ then there will be infinitely many solutions to the system if not there will not be any solutions."
   ]
  },
  {
   "cell_type": "markdown",
   "metadata": {},
   "source": [
    "**c)** Give the full solution if $a=b=1$.\n",
    "\n",
    "$$\\left[\\begin{array}{ccc|c} 1 & 2 & 6 & 2 \\\\ 0 & 1 & 1-3 & 0\\\\ 0 & 0 & 1-1 & 0 \\end{array}\\right]$$\n",
    "\n",
    "$$\\Updownarrow$$\n",
    "\n",
    "$$\\left[\\begin{array}{ccc|c} 1 & 2 & 6 & 2 \\\\ 0 & 1 & -2 & 0\\\\ 0 & 0 & 0 & 0 \\end{array}\\right]$$\n",
    "\n",
    "$$x=\\begin{bmatrix} 2 \\\\ 0 \\\\ 0 \\end{bmatrix} + t \\begin{bmatrix} -6 \\\\ 2 \\\\ 1 \\end{bmatrix}, \\space t \\in \\mathbb{R}$$"
   ]
  },
  {
   "cell_type": "markdown",
   "metadata": {},
   "source": [
    "**d)** Give the full solution of $a=1, \\space b = 0$\n",
    "\n",
    "$$\\left[\\begin{array}{ccc|c} 1 & 2 & 6 & 2 \\\\ 0 & 1 & 0-3 & 0\\\\ 0 & 0 & 1-0 & 0 \\end{array}\\right]$$\n",
    "\n",
    "$$\\Updownarrow$$\n",
    "\n",
    "$$\\left[\\begin{array}{ccc|c} 1 & 2 & 6 & 2 \\\\ 0 & 1 & -3 & 0\\\\ 0 & 0 & 1 & 0 \\end{array}\\right]$$\n",
    "\n",
    "$$\\xrightarrow{R_2+3R_3}R_2$$\n",
    "\n",
    "$$\\left[\\begin{array}{ccc|c} 1 & 2 & 6 & 2 \\\\ 0 & 1 & 0 & 0\\\\ 0 & 0 & 1 & 0 \\end{array}\\right]$$\n",
    "\n",
    "$$\\xrightarrow{R_1-6R_3}R_1$$\n",
    "\n",
    "$$\\left[\\begin{array}{ccc|c} 1 & 2 & 0 & 2 \\\\ 0 & 1 & 0 & 0\\\\ 0 & 0 & 1 & 0 \\end{array}\\right]$$\n",
    "\n",
    "$$\\xrightarrow{R_1-2R_2}R_1$$\n",
    "\n",
    "$$\\left[\\begin{array}{ccc|c} 1 & 0 & 0 & 2 \\\\ 0 & 1 & 0 & 0\\\\ 0 & 0 & 1 & 0 \\end{array}\\right]$$\n",
    "\n",
    "$$x = \\begin{bmatrix} 2 \\\\ 0 \\\\ 0 \\end{bmatrix}$$"
   ]
  },
  {
   "cell_type": "markdown",
   "metadata": {},
   "source": [
    "# 2 Linear Algebra: Problem 2\n",
    "\n",
    "Consider the matrix\n",
    "\n",
    "$$A = \\begin{bmatrix} 0.60 & 0.20 \\\\ 0.40 & 0.80 \\end{bmatrix}$$\n",
    "\n",
    "**a)** Compute  the  characteristic  polynomial $p(λ)=det(A−\\lambda I)$. Find the eigenvalues of $A$,  and  verify  that $1$ is an eigenvalue. How are the eigenvalues  related  to  the characteristic polynomial?\n",
    "\n",
    "$$|A-\\lambda I| = \\left| \\begin{matrix} 0.60 - \\lambda  & 0.20 \\\\ 0.40 & 0.80 - \\lambda  \\end{matrix} \\right| = (0.60 - \\lambda)( 0.80 - \\lambda)-(0.20 \\times 0.40) = 0.48 - 0.60 \\lambda - 0.80 \\lambda + \\lambda^2 - 0.08 = \\lambda^2 - 1.40 \\lambda + 0.40$$"
   ]
  },
  {
   "cell_type": "markdown",
   "metadata": {},
   "source": [
    "$$\\frac{-b \\pm \\sqrt{b^2-4ac}}{2a}$$"
   ]
  },
  {
   "cell_type": "markdown",
   "metadata": {},
   "source": [
    "$$\\frac{1.40 \\pm \\sqrt{-1.40^2-4 \\times 1 \\times 0.40}}{2 \\times 1}$$\n",
    "\n",
    "$$\\lambda_1 = \\frac{1.40 + \\sqrt{-1.40^2-4 \\times 1 \\times 0.40}}{2 \\times 1} = 1$$\n",
    "\n",
    "$$\\lambda_2 = \\frac{1.40 - \\sqrt{-1.40^2-4 \\times 1 \\times 0.40}}{2 \\times 1} = 0.40$$\n",
    "\n",
    "Given that the charecteristic polynomial is of seconds degree we can use the formula of finding it's roots which gives us the eigenvalues."
   ]
  },
  {
   "cell_type": "code",
   "execution_count": 14,
   "metadata": {},
   "outputs": [
    {
     "name": "stdout",
     "output_type": "stream",
     "text": [
      "0.9999999999999998\n",
      "0.4000000000000001\n"
     ]
    }
   ],
   "source": [
    "import math \n",
    "\n",
    "print((1.40+(math.sqrt((-1.40)**2 - (4 * 0.40))))/(2*1))\n",
    "print((1.40-(math.sqrt((-1.40)**2 - (4 * 0.40))))/(2*1))"
   ]
  },
  {
   "cell_type": "markdown",
   "metadata": {},
   "source": [
    "**b)** Find the two eigenvectors $v_1$ and $v_2$ of $A$. Are these two eigenvectors linearly independent? Explain you would show that two vectors are linearly independent.\n",
    "\n",
    "$$A-I = \\begin{bmatrix} -0.40  & 0.20 \\\\ 0.40 & -0.20 \\end{bmatrix}$$"
   ]
  },
  {
   "cell_type": "markdown",
   "metadata": {},
   "source": [
    "$$\\xrightarrow{R_1+3.5R_2}R_1$$\n",
    "\n",
    "$$\\begin{bmatrix} 1  & -0.50 \\\\ 0.40 & -0.20 \\end{bmatrix}$$"
   ]
  },
  {
   "cell_type": "markdown",
   "metadata": {},
   "source": [
    "$$\\xrightarrow{R_2-0.40R_1}R_2$$\n",
    "\n",
    "$$\\begin{bmatrix} 1  & -0.50 \\\\ 0 & 0 \\end{bmatrix}$$"
   ]
  },
  {
   "cell_type": "markdown",
   "metadata": {},
   "source": [
    "$$v_1 = t \\begin{bmatrix} 0.50 \\\\ 1 \\end{bmatrix}, \\space t \\in \\mathbb{R}$$"
   ]
  },
  {
   "cell_type": "markdown",
   "metadata": {},
   "source": [
    "$$A-0.40I = \\begin{bmatrix} 0.20  & 0.20 \\\\ 0.40 & 0.40 \\end{bmatrix}$$"
   ]
  },
  {
   "cell_type": "markdown",
   "metadata": {},
   "source": [
    "$$\\xrightarrow{R_1+2R_2}R_1$$\n",
    "\n",
    "$$\\begin{bmatrix} 1  & 1 \\\\ 0.40 & 0.40 \\end{bmatrix}$$"
   ]
  },
  {
   "cell_type": "markdown",
   "metadata": {},
   "source": [
    "$$\\xrightarrow{R_2-0.40R_1}R_2$$\n",
    "\n",
    "$$\\begin{bmatrix} 1  & 1 \\\\ 0 & 0 \\end{bmatrix}$$"
   ]
  },
  {
   "cell_type": "markdown",
   "metadata": {},
   "source": [
    "$$v_2 = t \\begin{bmatrix} -1 \\\\ 1 \\end{bmatrix}, \\space t \\in \\mathbb{R}$$"
   ]
  },
  {
   "cell_type": "markdown",
   "metadata": {},
   "source": [
    "$$P = \\begin{bmatrix} 0.50  & -1 \\\\ 1 & 1 \\end{bmatrix}$$\n",
    "\n",
    "$$|P| = 0.50 \\times 1 + 1 \\times - 1 = 0.50 - 1 = -0.50$$\n",
    "\n",
    "By calculating the determinant of the matrix P containing the eigenvectors as column vectors we see that the determinant $\\neq 0 $ and therefore they are linearly independent."
   ]
  },
  {
   "cell_type": "code",
   "execution_count": null,
   "metadata": {},
   "outputs": [],
   "source": []
  }
 ],
 "metadata": {
  "kernelspec": {
   "display_name": "Python 3",
   "language": "python",
   "name": "python3"
  },
  "language_info": {
   "codemirror_mode": {
    "name": "ipython",
    "version": 3
   },
   "file_extension": ".py",
   "mimetype": "text/x-python",
   "name": "python",
   "nbconvert_exporter": "python",
   "pygments_lexer": "ipython3",
   "version": "3.8.5"
  }
 },
 "nbformat": 4,
 "nbformat_minor": 4
}
