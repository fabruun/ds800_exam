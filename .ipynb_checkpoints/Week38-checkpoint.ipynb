{
 "cells": [
  {
   "cell_type": "markdown",
   "metadata": {},
   "source": [
    "# Exercise 1\n",
    "Write a function named common.  It takes in two parameters, lists named L1 and L2. The function does not mutate L1 or L2. It returns True if every unique element in L1 is in L2 and if every unique element in L2 is in L1. It returns False otherwise. For example:\n",
    "- `common([1, 2, 3], [3, 1, 2])` returns `True`\n",
    "- `common([1, 1, 1], [1])` returns `True`\n",
    "- `common([1], [1, 2])` returns `False`"
   ]
  },
  {
   "cell_type": "code",
   "execution_count": 55,
   "metadata": {},
   "outputs": [
    {
     "name": "stdout",
     "output_type": "stream",
     "text": [
      "True\n",
      "True\n",
      "False\n"
     ]
    }
   ],
   "source": [
    "def common(l1, l2):\n",
    "    return set(l1) == set(l2)\n",
    "    \n",
    "print(common([1, 2, 3], [3, 1, 2]))\n",
    "print(common([1, 1, 1], [1]))\n",
    "print(common([1], [1, 2]))"
   ]
  },
  {
   "cell_type": "markdown",
   "metadata": {},
   "source": [
    "# Exercise 2\n",
    "Write a function named isPermutation. It takes in two lists, L1 and L2. The function returns True if L1 and L2 are permutations of each other. It returns False otherwise. Every element in L1 is in L2, and vice versa, only arranged in a different order. For example:\n",
    "- `isPermutation([1,2,3], [3,1,2])` returns `True`\n",
    "- `isPermutation([1,1,1,2], [1,2,1,1])` returns `True`\n",
    "- `isPermutation([1,2,3,1], [1,2,3])` returns `False`"
   ]
  },
  {
   "cell_type": "code",
   "execution_count": 66,
   "metadata": {},
   "outputs": [
    {
     "name": "stdout",
     "output_type": "stream",
     "text": [
      "True\n",
      "True\n",
      "False\n"
     ]
    }
   ],
   "source": [
    "def isPermutation(l1, l2):\n",
    "    return len(l1) == len(l2) and sorted(l1) == sorted(l2)\n",
    "\n",
    "print(isPermutation([1,2,3], [3,1,2]))\n",
    "print(isPermutation([1,1,1,2], [1,2,1,1]))\n",
    "print(isPermutation([1,2,3,1], [1,2,3]))"
   ]
  },
  {
   "cell_type": "markdown",
   "metadata": {},
   "source": [
    "# Exercise 3\n",
    "Write a program that uses dictionaries to accomplish the following task. Givena  dictionary  of  song  names (strings)  mapped  to  ratings  (integers),  print  these song names of all songs that are better rated than 5."
   ]
  },
  {
   "cell_type": "code",
   "execution_count": 2,
   "metadata": {},
   "outputs": [
    {
     "name": "stdout",
     "output_type": "stream",
     "text": [
      "Name: Shallow\n",
      "Rating: 10\n",
      "Name: Let it be\n",
      "Rating: 8\n"
     ]
    }
   ],
   "source": [
    "songs = [\n",
    "    {\n",
    "        \"name\": \"Shallow\",\n",
    "        \"rating\": 10\n",
    "    },\n",
    "    {\n",
    "        \"name\": \"Let it be\",\n",
    "        \"rating\": 8\n",
    "    }\n",
    "]\n",
    "\n",
    "for song in songs:\n",
    "    if song[\"rating\"] >= 5:\n",
    "        print(\"Name: \" + song[\"name\"])\n",
    "        print(\"Rating: \" + str(song[\"rating\"]))\n"
   ]
  },
  {
   "cell_type": "markdown",
   "metadata": {},
   "source": [
    "# Exercise 4\n",
    "Write  a  function named invertDict that  takes  as  input  a  dictionary. The function returns a new dictionary; the values are now the original keys,  and the  keys  are  now  the  original  values. Assume  that  the  values  of  the  input dictionary are immutable and unique."
   ]
  },
  {
   "cell_type": "code",
   "execution_count": 25,
   "metadata": {},
   "outputs": [
    {
     "name": "stdout",
     "output_type": "stream",
     "text": [
      "{'Fred': 'name', 26: 'age', 'Coding': 'hobby'}\n"
     ]
    }
   ],
   "source": [
    "def invertDict(d1):\n",
    "    d2 = {}\n",
    "    for key in d1:\n",
    "        d2[d1.get(key)] = key\n",
    "    return d2\n",
    "\n",
    "user = {\n",
    "    \"name\": \"Fred\",\n",
    "    \"age\": 26,\n",
    "    \"hobby\": \"Coding\"\n",
    "}\n",
    "\n",
    "print(invertDict(user))"
   ]
  },
  {
   "cell_type": "markdown",
   "metadata": {},
   "source": [
    "# Exercise 5\n",
    "Write a program that determines all prime numbers using the sieve of Eratosthenes. Turn the following pseudocode to Python code:\n",
    "- Create a list of consecutive integers from $2$ through $n$ (2, 3, 4, ..., $n$).\n",
    "- Initially, let $p$ equal 2, the smallest prime number.\n",
    "- Enumerate the multiples of $p$ by counting in increments of $p$ from $2p$ to $n$,and mark them in the list (these will be $2p$,$3p$,$4p$, ...; the $p$ itself should not be marked).\n",
    "- Find the smallest number in the list greater than $p$ that is not marked. If there was no such number, stop.  Otherwise, let $p$ now equal this new number (which is the next prime), and repeat from step 3.\n",
    "- When the algorithm terminates, the numbers remaining not marked in the list are all the primes below $n$."
   ]
  },
  {
   "cell_type": "code",
   "execution_count": 35,
   "metadata": {},
   "outputs": [
    {
     "ename": "IndexError",
     "evalue": "list assignment index out of range",
     "output_type": "error",
     "traceback": [
      "\u001b[1;31m---------------------------------------------------------------------------\u001b[0m",
      "\u001b[1;31mIndexError\u001b[0m                                Traceback (most recent call last)",
      "\u001b[1;32m<ipython-input-35-5261133198cf>\u001b[0m in \u001b[0;36m<module>\u001b[1;34m\u001b[0m\n\u001b[0;32m     18\u001b[0m     \u001b[1;32mreturn\u001b[0m \u001b[0mprimes\u001b[0m\u001b[1;33m\u001b[0m\u001b[1;33m\u001b[0m\u001b[0m\n\u001b[0;32m     19\u001b[0m \u001b[1;33m\u001b[0m\u001b[0m\n\u001b[1;32m---> 20\u001b[1;33m \u001b[0mprint\u001b[0m\u001b[1;33m(\u001b[0m\u001b[0merastothenes\u001b[0m\u001b[1;33m(\u001b[0m\u001b[1;36m70\u001b[0m\u001b[1;33m)\u001b[0m\u001b[1;33m)\u001b[0m\u001b[1;33m\u001b[0m\u001b[1;33m\u001b[0m\u001b[0m\n\u001b[0m",
      "\u001b[1;32m<ipython-input-35-5261133198cf>\u001b[0m in \u001b[0;36merastothenes\u001b[1;34m(n)\u001b[0m\n\u001b[0;32m     10\u001b[0m         \u001b[1;32mfor\u001b[0m \u001b[0mi\u001b[0m \u001b[1;32min\u001b[0m \u001b[0mrange\u001b[0m\u001b[1;33m(\u001b[0m\u001b[0mp\u001b[0m\u001b[1;33m,\u001b[0m \u001b[1;36m100\u001b[0m\u001b[1;33m)\u001b[0m\u001b[1;33m:\u001b[0m\u001b[1;33m\u001b[0m\u001b[1;33m\u001b[0m\u001b[0m\n\u001b[0;32m     11\u001b[0m             \u001b[1;32mif\u001b[0m \u001b[0mi\u001b[0m \u001b[1;33m%\u001b[0m \u001b[0mp\u001b[0m \u001b[1;33m==\u001b[0m \u001b[1;36m0\u001b[0m\u001b[1;33m:\u001b[0m\u001b[1;33m\u001b[0m\u001b[1;33m\u001b[0m\u001b[0m\n\u001b[1;32m---> 12\u001b[1;33m                 \u001b[0mprimes\u001b[0m\u001b[1;33m[\u001b[0m\u001b[0mcount\u001b[0m\u001b[1;33m]\u001b[0m \u001b[1;33m=\u001b[0m \u001b[0mi\u001b[0m\u001b[1;33m\u001b[0m\u001b[1;33m\u001b[0m\u001b[0m\n\u001b[0m\u001b[0;32m     13\u001b[0m                 \u001b[0mcount\u001b[0m \u001b[1;33m+=\u001b[0m \u001b[1;36m1\u001b[0m\u001b[1;33m\u001b[0m\u001b[1;33m\u001b[0m\u001b[0m\n\u001b[0;32m     14\u001b[0m \u001b[1;33m\u001b[0m\u001b[0m\n",
      "\u001b[1;31mIndexError\u001b[0m: list assignment index out of range"
     ]
    }
   ],
   "source": [
    "def erastothenes(n):\n",
    "    p = 2\n",
    "    numbers = []\n",
    "    primes = []\n",
    "    for i in range(p, n+1):\n",
    "        numbers.append(i)\n",
    "    count = 0\n",
    "    for number in numbers:\n",
    "        p = number\n",
    "        for i in range(p, 100):\n",
    "            if i % p == 0:\n",
    "                primes[count] = i\n",
    "                count += 1\n",
    "            \n",
    "        \n",
    "    \n",
    "    \n",
    "    return primes\n",
    "            \n",
    "print(erastothenes(70))"
   ]
  },
  {
   "cell_type": "code",
   "execution_count": null,
   "metadata": {},
   "outputs": [],
   "source": []
  },
  {
   "cell_type": "code",
   "execution_count": null,
   "metadata": {},
   "outputs": [],
   "source": []
  }
 ],
 "metadata": {
  "kernelspec": {
   "display_name": "Python 3",
   "language": "python",
   "name": "python3"
  },
  "language_info": {
   "codemirror_mode": {
    "name": "ipython",
    "version": 3
   },
   "file_extension": ".py",
   "mimetype": "text/x-python",
   "name": "python",
   "nbconvert_exporter": "python",
   "pygments_lexer": "ipython3",
   "version": "3.7.6"
  }
 },
 "nbformat": 4,
 "nbformat_minor": 4
}
