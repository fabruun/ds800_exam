{
 "cells": [
  {
   "cell_type": "markdown",
   "metadata": {},
   "source": [
    "# Exercise 1\n",
    "Write a program that converts temperature between Fahrenheit and Celsius. Ask the user to enter the temperature in a format like ”-2C” or ”75F”.  De-pending on the given unit of measurement, use one of the formulas below for conversion and print the result on the screen!\n",
    "\n",
    "$c = \\frac{(f-32)}{1.8}$ \\\n",
    "$f = c*1.8+32$"
   ]
  },
  {
   "cell_type": "code",
   "execution_count": 12,
   "metadata": {},
   "outputs": [
    {
     "name": "stdout",
     "output_type": "stream",
     "text": [
      "Please enter a temperature.12C\n",
      "12C\n",
      "53.6F\n",
      "89.6\n"
     ]
    }
   ],
   "source": [
    "temp = input(\"Please enter a temperature.\")\n",
    "print(temp)\n",
    "\"\"\"\n",
    "if temp[-1] == \"C\":\n",
    "    temp = int(temp[0:-1])\n",
    "    fahrenheit = (temp * 1.8) + 32\n",
    "    print(str(fahrenheit) + \"F\")  \n",
    "elif temp[-1] == \"F\":\n",
    "    temp = int(temp[0:-1])\n",
    "    celsius = (temp - 32)/1.8\n",
    "    print(str(celsius) + \"C\")\n",
    "\"\"\"\n",
    "\n",
    "# Alternative solution\n",
    "def convert_temp(temp, unit):\n",
    "    if unit == \"C\":\n",
    "        return (temp * 1.8) + 32\n",
    "    elif unit == \"F\":\n",
    "        return (temp - 32)/1.8\n",
    "\n",
    "print(convert_temp(temp, \"C\"))"
   ]
  },
  {
   "cell_type": "code",
   "execution_count": null,
   "metadata": {},
   "outputs": [],
   "source": []
  },
  {
   "cell_type": "code",
   "execution_count": null,
   "metadata": {},
   "outputs": [],
   "source": []
  }
 ],
 "metadata": {
  "kernelspec": {
   "display_name": "Python 3",
   "language": "python",
   "name": "python3"
  },
  "language_info": {
   "codemirror_mode": {
    "name": "ipython",
    "version": 3
   },
   "file_extension": ".py",
   "mimetype": "text/x-python",
   "name": "python",
   "nbconvert_exporter": "python",
   "pygments_lexer": "ipython3",
   "version": "3.7.6"
  }
 },
 "nbformat": 4,
 "nbformat_minor": 4
}
