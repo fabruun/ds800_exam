{
 "cells": [
  {
   "cell_type": "markdown",
   "metadata": {},
   "source": [
    "# Week 49\n",
    "\n",
    "## Activities\n",
    "\n",
    "### Activity 8.37\n",
    "\n",
    "Check this! Check that $AP=PD$ and that $|P| \\neq 0$. Why do these two checks enable you to find any errors?\n",
    "\n",
    "$$A = \\begin{bmatrix} 3 & -1 & 1 \\\\ 0 & 2 & 0 \\\\ 1 & -1 & 3 \\end{bmatrix}, \\space \\space \\space P = \\begin{bmatrix} 1 & 1 & -1 \\\\ 0 & 1 & 0 \\\\ 1 & 0 & 1 \\end{bmatrix}. $$\n",
    "\n",
    "$$P^{-1}AP = D = \\begin{bmatrix} 4 & 0 & 0 \\\\ 0 & 2 & 0 \\\\ 0 & 0 & 2 \\end{bmatrix}.$$"
   ]
  },
  {
   "cell_type": "markdown",
   "metadata": {},
   "source": [
    "$$AP=\\begin{bmatrix} 3 & -1 & 1 \\\\ 0 & 2 & 0 \\\\ 1 & -1 & 3 \\end{bmatrix}\\begin{bmatrix} 1 & 1 & -1 \\\\ 0 & 1 & 0 \\\\ 1 & 0 & 1 \\end{bmatrix} = \\begin{bmatrix} 4 & 2 & -2 \\\\ 0 & 2 & 0 \\\\ 4 & 0 & 2 \\end{bmatrix}$$"
   ]
  },
  {
   "cell_type": "markdown",
   "metadata": {},
   "source": [
    "$$PD=\\begin{bmatrix} 1 & 1 & -1 \\\\ 0 & 1 & 0 \\\\ 1 & 0 & 1 \\end{bmatrix}\\begin{bmatrix} 4 & 0 & 0 \\\\ 0 & 2 & 0 \\\\ 0 & 0 & 2 \\end{bmatrix} = \\begin{bmatrix} 4 & 2 & -2 \\\\ 0 & 2 & 0 \\\\ 4 & 0 & 2 \\end{bmatrix}$$"
   ]
  },
  {
   "cell_type": "markdown",
   "metadata": {},
   "source": [
    "$$|P| = 1 \\left| \\begin{matrix} 1 & 0 \\\\ 0 & 1 \\end{matrix} \\right| - 1 \\left| \\begin{matrix} 0 & 0 \\\\ 1 & 1 \\end{matrix} \\right| - 1 \\left| \\begin{matrix} 0 & 1 \\\\ 1 & 0 \\end{matrix} \\right| = 2$$"
   ]
  },
  {
   "cell_type": "markdown",
   "metadata": {},
   "source": [
    "If you know that $AP=PD$, then you know that the eigenvectors are correct and that the eigenvalues are in the correct positions in $D$. If you also check that $|P| \\neq 0$, then you know that you have chosen three linearly indepedent eigenvectors, so $P^{-1}$ exists and then $P^{-1}AP=D$. If any of the checks fail, then you should be able to find any errors in your choice of eigenvectors and eigenvalues."
   ]
  },
  {
   "cell_type": "markdown",
   "metadata": {},
   "source": [
    "## Exercises\n",
    "\n",
    "### Exercise 8.6\n",
    "\n",
    "Show that the vector $x$ is an eigenvector of $A$, where:\n",
    "\n",
    "$$A = \\begin{bmatrix} -1 & 1 & 2 \\\\ -6 & 2 & 6 \\\\ 0 & 1 & 1 \\end{bmatrix}, \\space \\space \\space x = \\begin{bmatrix} 1 \\\\ 1 \\\\ 1 \\end{bmatrix}$$\n",
    "\n",
    "What is the corresponding eigenvalue?"
   ]
  },
  {
   "cell_type": "markdown",
   "metadata": {},
   "source": [
    "$$Ax = \\lambda x$$\n",
    "\n",
    "$$\\begin{bmatrix} -1 & 1 & 2 \\\\ -6 & 2 & 6 \\\\ 0 & 1 & 1 \\end{bmatrix} \\begin{bmatrix} 1 \\\\ 1 \\\\ 1 \\end{bmatrix} = \\begin{bmatrix} 2 \\\\ 2 \\\\ 2 \\end{bmatrix}$$\n",
    "\n",
    "$$\\lambda=2$$"
   ]
  },
  {
   "cell_type": "markdown",
   "metadata": {},
   "source": [
    "Find the other eigenvalues of $A$, and an eigenvector for each of them. Find an invertible matrix $P$ and a diagonal matrix $D$ such that $P^{-1}AP=D$. Check that $AP=PD$."
   ]
  },
  {
   "cell_type": "markdown",
   "metadata": {},
   "source": [
    "$$|A-\\lambda I| = -\\lambda^3 +2\\lambda^2 +\\lambda -2$$"
   ]
  },
  {
   "cell_type": "markdown",
   "metadata": {},
   "source": [
    "Then factorise with maple in order to find the eigenvalues:"
   ]
  },
  {
   "cell_type": "markdown",
   "metadata": {},
   "source": [
    "$$-(\\lambda-1)(\\lambda-2)(1+\\lambda)$$"
   ]
  },
  {
   "cell_type": "markdown",
   "metadata": {},
   "source": [
    "$$\\lambda_1 = 1, \\space \\lambda_2 = 2, \\space \\lambda_3 = -1$$"
   ]
  },
  {
   "cell_type": "markdown",
   "metadata": {},
   "source": [
    "$$A-I = \\begin{bmatrix} -2 & 1 & 2 \\\\ -6 & 1 & 6 \\\\ 0 & 1 & 0 \\end{bmatrix}$$"
   ]
  },
  {
   "cell_type": "markdown",
   "metadata": {},
   "source": [
    "$$\\xrightarrow{-\\frac{1}{2}R_1}R_1$$\n",
    "\n",
    "$$\\begin{bmatrix} 1 & -\\frac{1}{2} & -1 \\\\ -6 & 1 & 6 \\\\ 0 & 1 & 0 \\end{bmatrix}$$"
   ]
  },
  {
   "cell_type": "markdown",
   "metadata": {},
   "source": [
    "$$\\xrightarrow{R_2+6R_1}R_2$$\n",
    "\n",
    "$$\\begin{bmatrix} 1 & -\\frac{1}{2} & -1 \\\\ 0 & -2 & 0 \\\\ 0 & 1 & 0 \\end{bmatrix}$$"
   ]
  },
  {
   "cell_type": "markdown",
   "metadata": {},
   "source": [
    "$$\\xrightarrow{R_2 \\Leftrightarrow R_3}$$\n",
    "\n",
    "$$\\begin{bmatrix} 1 & -\\frac{1}{2} & -1 \\\\ 0 & 1 & 0 \\\\ 0 & -2 & 0 \\end{bmatrix}$$"
   ]
  },
  {
   "cell_type": "markdown",
   "metadata": {},
   "source": [
    "$$\\xrightarrow{R_3+2R_2}R_3$$\n",
    "\n",
    "$$\\begin{bmatrix} 1 & -\\frac{1}{2} & -1 \\\\ 0 & 1 & 0 \\\\ 0 & 0 & 0 \\end{bmatrix}$$"
   ]
  },
  {
   "cell_type": "markdown",
   "metadata": {},
   "source": [
    "$$\\xrightarrow{R_1+\\frac{1}{2}R_2}R_1$$\n",
    "\n",
    "$$\\begin{bmatrix} 1 & 0 & -1 \\\\ 0 & 1 & 0 \\\\ 0 & 0 & 0 \\end{bmatrix}$$"
   ]
  },
  {
   "cell_type": "markdown",
   "metadata": {},
   "source": [
    "$$ x = t \\begin{bmatrix} 1 \\\\ 0 \\\\ 1 \\end{bmatrix}, \\space t \\in \\mathbb{R}$$"
   ]
  },
  {
   "cell_type": "markdown",
   "metadata": {},
   "source": [
    "$$A+I = \\begin{bmatrix} 0 & 1 & 2 \\\\ -6 & 3 & 6 \\\\ 0 & 1 & 2 \\end{bmatrix}$$"
   ]
  },
  {
   "cell_type": "markdown",
   "metadata": {},
   "source": [
    "$$\\xrightarrow{R_1 \\Leftrightarrow R_2}$$\n",
    "$$\\xrightarrow{-\\frac{1}{6}R_1}R_1$$\n",
    "\n",
    "$$\\begin{bmatrix} 1 & -\\frac{1}{2} & -1 \\\\ 0 & 1 & 2 \\\\ 0 & 1 & 2 \\end{bmatrix}$$"
   ]
  },
  {
   "cell_type": "markdown",
   "metadata": {},
   "source": [
    "$$\\xrightarrow{R_3-1R_2}R_3$$\n",
    "\n",
    "$$\\begin{bmatrix} 1 & -\\frac{1}{2} & -1 \\\\ 0 & 1 & 2 \\\\ 0 & 0 & 0 \\end{bmatrix}$$"
   ]
  },
  {
   "cell_type": "markdown",
   "metadata": {},
   "source": [
    "$$\\xrightarrow{R_1+\\frac{1}{2}R_2}R_1$$\n",
    "\n",
    "$$\\begin{bmatrix} 1 & 0 & 0 \\\\ 0 & 1 & 2 \\\\ 0 & 0 & 0 \\end{bmatrix}$$"
   ]
  },
  {
   "cell_type": "markdown",
   "metadata": {},
   "source": [
    "$$x = t \\begin{bmatrix} 0 \\\\ -2 \\\\ 1 \\end{bmatrix}, \\space t \\in \\mathbb{R}$$"
   ]
  },
  {
   "cell_type": "markdown",
   "metadata": {},
   "source": [
    "$$P = \\begin{bmatrix} 1 & 1 & 0 \\\\ 0 & 1 & -2 \\\\ 1 & 1 & 1 \\end{bmatrix}$$"
   ]
  },
  {
   "cell_type": "markdown",
   "metadata": {},
   "source": [
    "$$P^{-1} = \\left[ \\begin{array}{ccc|ccc} 1 & 1 & 0 & 1 & 0 & 0 \\\\ 0 & 1 & -2 & 0 & 1 & 0 \\\\ 1 & 1 & 1 & 0 & 0 & 1 \\end{array} \\right]$$"
   ]
  },
  {
   "cell_type": "markdown",
   "metadata": {},
   "source": [
    "$$\\xrightarrow{R_3-R_1}R_3$$\n",
    "\n",
    "$$P^{-1} = \\left[ \\begin{array}{ccc|ccc} 1 & 1 & 0 & 1 & 0 & 0 \\\\ 0 & 1 & -2 & 0 & 1 & 0 \\\\ 0 & 0 & 1 & -1 & 0 & 1 \\end{array} \\right]$$"
   ]
  },
  {
   "cell_type": "markdown",
   "metadata": {},
   "source": [
    "$$\\xrightarrow{R_2+2R_3}R_2$$\n",
    "\n",
    "$$P^{-1} = \\left[ \\begin{array}{ccc|ccc} 1 & 1 & 0 & 1 & 0 & 0 \\\\ 0 & 1 & 0 & -2 & 1 & 2 \\\\ 0 & 0 & 1 & -1 & 0 & 1 \\end{array} \\right]$$"
   ]
  },
  {
   "cell_type": "markdown",
   "metadata": {},
   "source": [
    "$$\\xrightarrow{R_1-R_2}R_1$$\n",
    "\n",
    "$$P^{-1} = \\left[ \\begin{array}{ccc|ccc} 1 & 0 & 0 & 3 & -1 & -2 \\\\ 0 & 1 & 0 & -2 & 1 & 2 \\\\ 0 & 0 & 1 & -1 & 0 & 1 \\end{array} \\right]$$"
   ]
  },
  {
   "cell_type": "markdown",
   "metadata": {},
   "source": [
    "$$D = P^{-1}AP$$"
   ]
  },
  {
   "cell_type": "markdown",
   "metadata": {},
   "source": [
    "$$AP = \\begin{bmatrix} -1 & 1 & 2 \\\\ -6 & 2 & 6 \\\\ 0 & 1 & 1 \\end{bmatrix}\\begin{bmatrix} 1 & 1 & 0 \\\\ 0 & 1 & -2 \\\\ 1 & 1 & 1 \\end{bmatrix} = \\begin{bmatrix} 1 & 2 & 0 \\\\ 0 & 2 & 2 \\\\ 1 & 2 & -1 \\end{bmatrix} $$"
   ]
  },
  {
   "cell_type": "markdown",
   "metadata": {},
   "source": [
    "$$D=P^{-1}AP = \\begin{bmatrix} 3 & -1 & -2 \\\\ -2 & 1 & 2 \\\\ -1 & 0 & 1 \\end{bmatrix}\\begin{bmatrix} 1 & 2 & 0 \\\\ 0 & 2 & 2 \\\\ 1 & 2 & -1 \\end{bmatrix} = \\begin{bmatrix} 1 & 0 & 0 \\\\ 0 & 2 & 0 \\\\ 0 & 0 & -1 \\end{bmatrix}$$"
   ]
  },
  {
   "cell_type": "markdown",
   "metadata": {},
   "source": [
    "$$PD = \\begin{bmatrix} 1 & 1 & 0 \\\\ 0 & 1 & -2 \\\\ 1 & 1 & 1 \\end{bmatrix} \\begin{bmatrix} 1 & 0 & 0 \\\\ 0 & 2 & 0 \\\\ 0 & 0 & -1 \\end{bmatrix} = \\begin{bmatrix} 1 & 2 & 0 \\\\ 0 & 2 & 2 \\\\ 1 & 2 & -1 \\end{bmatrix}$$"
   ]
  },
  {
   "cell_type": "code",
   "execution_count": null,
   "metadata": {},
   "outputs": [],
   "source": []
  }
 ],
 "metadata": {
  "kernelspec": {
   "display_name": "Python 3",
   "language": "python",
   "name": "python3"
  },
  "language_info": {
   "codemirror_mode": {
    "name": "ipython",
    "version": 3
   },
   "file_extension": ".py",
   "mimetype": "text/x-python",
   "name": "python",
   "nbconvert_exporter": "python",
   "pygments_lexer": "ipython3",
   "version": "3.8.5"
  }
 },
 "nbformat": 4,
 "nbformat_minor": 4
}
