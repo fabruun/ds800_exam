{
 "cells": [
  {
   "cell_type": "markdown",
   "metadata": {},
   "source": [
    "# Week 46\n",
    "\n",
    "## Activities\n",
    "\n",
    "### Activity 3.11\n",
    "\n",
    "Find the inverse, if it exists, of each of the following matrices\n",
    "\n",
    "$$A= \\begin{bmatrix} -2 & 1 & 3 \\\\ 0 & -1 & 1 \\\\ 1 & 2 & 0 \\end{bmatrix}$$, $$B=\\begin{bmatrix} 2 & 1 & 3 \\\\ 0 & -1 & 1 \\\\ 1 & 2 & 0 \\end{bmatrix}$$\n",
    "\n",
    "We find the inverse by using using the identity matrix and using Gauss-Jordan elimination:\n",
    "\n",
    "$$A^{-1}=\\left[\\begin{array}{ccc|ccc}-2 & 1 & 3 & 1 & 0 & 0 \\\\ 0 & -1 & 1 & 0 & 1 & 0 \\\\ 1 & 2 & 0 & 0 & 0 & 1 \\end{array}\\right]$$\n",
    "\n"
   ]
  },
  {
   "cell_type": "markdown",
   "metadata": {},
   "source": [
    "$$\\xrightarrow{R_1\\Leftrightarrow R_3}$$\n",
    "\n",
    "$$A^{-1}=\\left[\\begin{array}{ccc|ccc}1 & 2 & 0 & 0 & 0 & 1 \\\\ 0 & -1 & 1 & 0 & 1 & 0 \\\\ -2 & 1 & 3 & 1 & 0 & 0 \\end{array}\\right]$$"
   ]
  },
  {
   "cell_type": "markdown",
   "metadata": {},
   "source": [
    "$$\\xrightarrow{R_2+2R_1}$$\n",
    "\n",
    "$$A^{-1}=\\left[\\begin{array}{ccc|ccc}1 & 2 & 0 & 0 & 0 & 1 \\\\ 0 & -1 & 1 & 0 & 1 & 0 \\\\ 0 & 5 & 3 & 1 & 0 & 2 \\end{array}\\right]$$"
   ]
  },
  {
   "cell_type": "markdown",
   "metadata": {},
   "source": [
    "$$\\xrightarrow{-1R_2}$$\n",
    "\n",
    "$$A^{-1}=\\left[\\begin{array}{ccc|ccc}1 & 2 & 0 & 0 & 0 & 1 \\\\ 0 & 1 & -1 & 0 & -1 & 0 \\\\ 0 & 5 & 3 & 1 & 0 & 2 \\end{array}\\right]$$"
   ]
  },
  {
   "cell_type": "markdown",
   "metadata": {},
   "source": [
    "$$\\xrightarrow{R_3-5R_2}R_3$$\n",
    "\n",
    "$$A^{-1}=\\left[\\begin{array}{ccc|ccc}1 & 2 & 0 & 0 & 0 & 1 \\\\ 0 & 1 & -1 & 0 & -1 & 0 \\\\ 0 & 0 & 8 & 1 & 5 & 2 \\end{array}\\right]$$"
   ]
  },
  {
   "cell_type": "markdown",
   "metadata": {},
   "source": [
    "$$\\xrightarrow{\\frac{1}{8}R_3}R_3$$\n",
    "\n",
    "$$A^{-1}=\\left[\\begin{array}{ccc|ccc}1 & 2 & 0 & 0 & 0 & 1 \\\\ 0 & 1 & -1 & 0 & -1 & 0 \\\\ 0 & 0 & 1 & \\frac{1}{8} & \\frac{5}{8} & \\frac{1}{4} \\end{array}\\right]$$"
   ]
  },
  {
   "cell_type": "markdown",
   "metadata": {},
   "source": [
    "$$\\xrightarrow{R_2+1R_3}R_2$$\n",
    "\n",
    "$$A^{-1}=\\left[\\begin{array}{ccc|ccc}1 & 2 & 0 & 0 & 0 & 1 \\\\ 0 & 1 & 0 & \\frac{1}{8} & -\\frac{3}{8} & \\frac{1}{4} \\\\ 0 & 0 & 1 & \\frac{1}{8} & \\frac{5}{8} & \\frac{1}{4} \\end{array}\\right]$$"
   ]
  },
  {
   "cell_type": "markdown",
   "metadata": {},
   "source": [
    "$$\\xrightarrow{R_1-2R_2}R_1$$\n",
    "\n",
    "$$A^{-1}=\\left[\\begin{array}{ccc|ccc}1 & 0 & 0 & -\\frac{1}{4} & \\frac{3}{4} & \\frac{1}{2} \\\\ 0 & 1 & 0 & \\frac{1}{8} & -\\frac{3}{8} & \\frac{1}{4} \\\\ 0 & 0 & 1 & \\frac{1}{8} & \\frac{5}{8} & \\frac{1}{4} \\end{array}\\right]$$"
   ]
  },
  {
   "cell_type": "code",
   "execution_count": 2,
   "metadata": {},
   "outputs": [
    {
     "name": "stdout",
     "output_type": "stream",
     "text": [
      "[[-0.25   0.75   0.5  ]\n",
      " [ 0.125 -0.375  0.25 ]\n",
      " [ 0.125  0.625  0.25 ]]\n"
     ]
    }
   ],
   "source": [
    "import numpy as np\n",
    "\n",
    "A = np.matrix([[-2, 1, 3], [0, -1, 1], [1, 2, 0]])\n",
    "A_inv = np.linalg.inv(A)\n",
    "\n",
    "print(A_inv)"
   ]
  },
  {
   "cell_type": "markdown",
   "metadata": {},
   "source": [
    "$$B^{-1}=\\left[\\begin{array}{ccc|ccc}2 & 1 & 3 & 1 & 0 & 0 \\\\ 0 & -1 & 1 & 0 & 1 & 0 \\\\ 1 & 2 & 0 & 0 & 0 & 1 \\end{array}\\right]$$"
   ]
  },
  {
   "cell_type": "markdown",
   "metadata": {},
   "source": [
    "$$\\xrightarrow{R_1 \\Leftrightarrow R_3}$$\n",
    "\n",
    "$$B^{-1}=\\left[\\begin{array}{ccc|ccc}1 & 2 & 0 & 0 & 0 & 1 \\\\ 0 & -1 & 1 & 0 & 1 & 0 \\\\ 2 & 1 & 3 & 1 & 0 & 0 \\end{array}\\right]$$"
   ]
  },
  {
   "cell_type": "markdown",
   "metadata": {},
   "source": [
    "$$\\xrightarrow{R_3-2R_1}$$\n",
    "\n",
    "$$B^{-1}=\\left[\\begin{array}{ccc|ccc}1 & 2 & 0 & 0 & 0 & 1 \\\\ 0 & -1 & 1 & 0 & 1 & 0 \\\\ 0 & -3 & 3 & 1 & 0 & -2 \\end{array}\\right]$$"
   ]
  },
  {
   "cell_type": "markdown",
   "metadata": {},
   "source": [
    "$$\\xrightarrow{-1R_2}$$\n",
    "\n",
    "$$B^{-1}=\\left[\\begin{array}{ccc|ccc}1 & 2 & 0 & 0 & 0 & 1 \\\\ 0 & 1 & -1 & 0 & 1 & 0 \\\\ 0 & -3 & 3 & 1 & 0 & -2 \\end{array}\\right]$$"
   ]
  },
  {
   "cell_type": "markdown",
   "metadata": {},
   "source": [
    "$$\\xrightarrow{R_3+3_R2}$$\n",
    "\n",
    "$$B^{-1}=\\left[\\begin{array}{ccc|ccc}1 & 2 & 0 & 0 & 0 & 1 \\\\ 0 & 1 & -1 & 0 & 1 & 0 \\\\ 0 & 0 & 0 & 1 & 2 & -2 \\end{array}\\right]$$"
   ]
  },
  {
   "cell_type": "code",
   "execution_count": 3,
   "metadata": {},
   "outputs": [
    {
     "ename": "LinAlgError",
     "evalue": "Singular matrix",
     "output_type": "error",
     "traceback": [
      "\u001b[1;31m---------------------------------------------------------------------------\u001b[0m",
      "\u001b[1;31mLinAlgError\u001b[0m                               Traceback (most recent call last)",
      "\u001b[1;32m<ipython-input-3-2c674c1763c0>\u001b[0m in \u001b[0;36m<module>\u001b[1;34m\u001b[0m\n\u001b[0;32m      1\u001b[0m \u001b[0mB\u001b[0m \u001b[1;33m=\u001b[0m \u001b[0mnp\u001b[0m\u001b[1;33m.\u001b[0m\u001b[0mmatrix\u001b[0m\u001b[1;33m(\u001b[0m\u001b[1;33m[\u001b[0m\u001b[1;33m[\u001b[0m\u001b[1;36m2\u001b[0m\u001b[1;33m,\u001b[0m \u001b[1;36m1\u001b[0m\u001b[1;33m,\u001b[0m \u001b[1;36m3\u001b[0m\u001b[1;33m]\u001b[0m\u001b[1;33m,\u001b[0m \u001b[1;33m[\u001b[0m\u001b[1;36m0\u001b[0m\u001b[1;33m,\u001b[0m \u001b[1;33m-\u001b[0m\u001b[1;36m1\u001b[0m\u001b[1;33m,\u001b[0m \u001b[1;36m1\u001b[0m\u001b[1;33m]\u001b[0m\u001b[1;33m,\u001b[0m \u001b[1;33m[\u001b[0m\u001b[1;36m1\u001b[0m\u001b[1;33m,\u001b[0m \u001b[1;36m2\u001b[0m\u001b[1;33m,\u001b[0m \u001b[1;36m0\u001b[0m\u001b[1;33m]\u001b[0m\u001b[1;33m]\u001b[0m\u001b[1;33m)\u001b[0m\u001b[1;33m\u001b[0m\u001b[1;33m\u001b[0m\u001b[0m\n\u001b[1;32m----> 2\u001b[1;33m \u001b[0mB_inv\u001b[0m \u001b[1;33m=\u001b[0m \u001b[0mnp\u001b[0m\u001b[1;33m.\u001b[0m\u001b[0mlinalg\u001b[0m\u001b[1;33m.\u001b[0m\u001b[0minv\u001b[0m\u001b[1;33m(\u001b[0m\u001b[0mB\u001b[0m\u001b[1;33m)\u001b[0m\u001b[1;33m\u001b[0m\u001b[1;33m\u001b[0m\u001b[0m\n\u001b[0m\u001b[0;32m      3\u001b[0m \u001b[1;33m\u001b[0m\u001b[0m\n\u001b[0;32m      4\u001b[0m \u001b[0mprint\u001b[0m\u001b[1;33m(\u001b[0m\u001b[0mB_inv\u001b[0m\u001b[1;33m)\u001b[0m\u001b[1;33m\u001b[0m\u001b[1;33m\u001b[0m\u001b[0m\n",
      "\u001b[1;32m<__array_function__ internals>\u001b[0m in \u001b[0;36minv\u001b[1;34m(*args, **kwargs)\u001b[0m\n",
      "\u001b[1;32m~\\AppData\\Roaming\\Python\\Python38\\site-packages\\numpy\\linalg\\linalg.py\u001b[0m in \u001b[0;36minv\u001b[1;34m(a)\u001b[0m\n\u001b[0;32m    544\u001b[0m     \u001b[0msignature\u001b[0m \u001b[1;33m=\u001b[0m \u001b[1;34m'D->D'\u001b[0m \u001b[1;32mif\u001b[0m \u001b[0misComplexType\u001b[0m\u001b[1;33m(\u001b[0m\u001b[0mt\u001b[0m\u001b[1;33m)\u001b[0m \u001b[1;32melse\u001b[0m \u001b[1;34m'd->d'\u001b[0m\u001b[1;33m\u001b[0m\u001b[1;33m\u001b[0m\u001b[0m\n\u001b[0;32m    545\u001b[0m     \u001b[0mextobj\u001b[0m \u001b[1;33m=\u001b[0m \u001b[0mget_linalg_error_extobj\u001b[0m\u001b[1;33m(\u001b[0m\u001b[0m_raise_linalgerror_singular\u001b[0m\u001b[1;33m)\u001b[0m\u001b[1;33m\u001b[0m\u001b[1;33m\u001b[0m\u001b[0m\n\u001b[1;32m--> 546\u001b[1;33m     \u001b[0mainv\u001b[0m \u001b[1;33m=\u001b[0m \u001b[0m_umath_linalg\u001b[0m\u001b[1;33m.\u001b[0m\u001b[0minv\u001b[0m\u001b[1;33m(\u001b[0m\u001b[0ma\u001b[0m\u001b[1;33m,\u001b[0m \u001b[0msignature\u001b[0m\u001b[1;33m=\u001b[0m\u001b[0msignature\u001b[0m\u001b[1;33m,\u001b[0m \u001b[0mextobj\u001b[0m\u001b[1;33m=\u001b[0m\u001b[0mextobj\u001b[0m\u001b[1;33m)\u001b[0m\u001b[1;33m\u001b[0m\u001b[1;33m\u001b[0m\u001b[0m\n\u001b[0m\u001b[0;32m    547\u001b[0m     \u001b[1;32mreturn\u001b[0m \u001b[0mwrap\u001b[0m\u001b[1;33m(\u001b[0m\u001b[0mainv\u001b[0m\u001b[1;33m.\u001b[0m\u001b[0mastype\u001b[0m\u001b[1;33m(\u001b[0m\u001b[0mresult_t\u001b[0m\u001b[1;33m,\u001b[0m \u001b[0mcopy\u001b[0m\u001b[1;33m=\u001b[0m\u001b[1;32mFalse\u001b[0m\u001b[1;33m)\u001b[0m\u001b[1;33m)\u001b[0m\u001b[1;33m\u001b[0m\u001b[1;33m\u001b[0m\u001b[0m\n\u001b[0;32m    548\u001b[0m \u001b[1;33m\u001b[0m\u001b[0m\n",
      "\u001b[1;32m~\\AppData\\Roaming\\Python\\Python38\\site-packages\\numpy\\linalg\\linalg.py\u001b[0m in \u001b[0;36m_raise_linalgerror_singular\u001b[1;34m(err, flag)\u001b[0m\n\u001b[0;32m     86\u001b[0m \u001b[1;33m\u001b[0m\u001b[0m\n\u001b[0;32m     87\u001b[0m \u001b[1;32mdef\u001b[0m \u001b[0m_raise_linalgerror_singular\u001b[0m\u001b[1;33m(\u001b[0m\u001b[0merr\u001b[0m\u001b[1;33m,\u001b[0m \u001b[0mflag\u001b[0m\u001b[1;33m)\u001b[0m\u001b[1;33m:\u001b[0m\u001b[1;33m\u001b[0m\u001b[1;33m\u001b[0m\u001b[0m\n\u001b[1;32m---> 88\u001b[1;33m     \u001b[1;32mraise\u001b[0m \u001b[0mLinAlgError\u001b[0m\u001b[1;33m(\u001b[0m\u001b[1;34m\"Singular matrix\"\u001b[0m\u001b[1;33m)\u001b[0m\u001b[1;33m\u001b[0m\u001b[1;33m\u001b[0m\u001b[0m\n\u001b[0m\u001b[0;32m     89\u001b[0m \u001b[1;33m\u001b[0m\u001b[0m\n\u001b[0;32m     90\u001b[0m \u001b[1;32mdef\u001b[0m \u001b[0m_raise_linalgerror_nonposdef\u001b[0m\u001b[1;33m(\u001b[0m\u001b[0merr\u001b[0m\u001b[1;33m,\u001b[0m \u001b[0mflag\u001b[0m\u001b[1;33m)\u001b[0m\u001b[1;33m:\u001b[0m\u001b[1;33m\u001b[0m\u001b[1;33m\u001b[0m\u001b[0m\n",
      "\u001b[1;31mLinAlgError\u001b[0m: Singular matrix"
     ]
    }
   ],
   "source": [
    "B = np.matrix([[2, 1, 3], [0, -1, 1], [1, 2, 0]])\n",
    "B_inv = np.linalg.inv(B)\n",
    "\n",
    "print(B_inv)"
   ]
  },
  {
   "cell_type": "markdown",
   "metadata": {},
   "source": [
    "B is not invertible."
   ]
  },
  {
   "cell_type": "markdown",
   "metadata": {},
   "source": [
    "### Activity 4.8\n",
    "\n",
    "$$x_1+2x_2+x_3=1$$\n",
    "\n",
    "$$2x_1+3x_2=5$$\n",
    "\n",
    "$$3x_1+5x_2+x_3=6$$\n",
    "\n",
    "$$A=\\left[\\begin{array}{ccc|c}1 & 2 & 1 & 1 \\\\ 2 & 3 & 0 & 5 \\\\ 3 & 5 & 1 & 6 \\end{array}\\right]$$"
   ]
  },
  {
   "cell_type": "markdown",
   "metadata": {},
   "source": [
    "$$\\xrightarrow{R_2-2R_1}R_2$$\n",
    "\n",
    "$$A=\\left[\\begin{array}{ccc|c}1 & 2 & 1 & 1 \\\\ 0 & -1 & -2 & 3 \\\\ 3 & 5 & 1 & 6 \\end{array}\\right]$$"
   ]
  },
  {
   "cell_type": "markdown",
   "metadata": {},
   "source": [
    "$$\\xrightarrow{R_3-3R_1}R_3$$\n",
    "\n",
    "$$A=\\left[\\begin{array}{ccc|c}1 & 2 & 1 & 1 \\\\ 0 & -1 & -2 & 3 \\\\ 0 & -1 & -2 & 3 \\end{array}\\right]$$"
   ]
  },
  {
   "cell_type": "markdown",
   "metadata": {},
   "source": [
    "$$\\xrightarrow{-1R_2}R_2$$\n",
    "\n",
    "$$A=\\left[\\begin{array}{ccc|c}1 & 2 & 1 & 1 \\\\ 0 & 1 & 2 & -3 \\\\ 0 & -1 & -2 & 3 \\end{array}\\right]$$"
   ]
  },
  {
   "cell_type": "markdown",
   "metadata": {},
   "source": [
    "$$\\xrightarrow{R_3+1R_2}R_2$$\n",
    "\n",
    "$$A=\\left[\\begin{array}{ccc|c}1 & 2 & 1 & 1 \\\\ 0 & 1 & 2 & -3 \\\\ 0 & 0 & 0 & 0 \\end{array}\\right]$$"
   ]
  },
  {
   "cell_type": "markdown",
   "metadata": {},
   "source": [
    "$$\\xrightarrow{R_1-1R_2}R_1$$\n",
    "\n",
    "$$A=\\left[\\begin{array}{ccc|c}1 & 1 & -3 & 7 \\\\ 0 & 1 & 2 & -3 \\\\ 0 & 0 & 0 & 0 \\end{array}\\right]$$"
   ]
  },
  {
   "cell_type": "markdown",
   "metadata": {},
   "source": [
    "$$x=\\begin{bmatrix}7 \\\\ -3 \\\\ 0 \\end{bmatrix} + t \\begin{bmatrix}3 \\\\ -2 \\\\ 1 \\end{bmatrix}, \\space t \\in \\mathbb{R}$$"
   ]
  },
  {
   "cell_type": "markdown",
   "metadata": {},
   "source": [
    "### Activity 5.20\n",
    "\n",
    "$$U = \\Bigg\\{ \\begin{pmatrix} x \\\\ y \\end{pmatrix} \\Bigg| \\space y = 2x+1, \\space x \\in \\mathbb{R} \\space \\Bigg| \\Bigg\\}$$"
   ]
  },
  {
   "cell_type": "markdown",
   "metadata": {},
   "source": [
    "If you take any vector say $v = \\begin{pmatrix} 0 \\\\ 1 \\end{pmatrix}$ and multiply it with a scalar of $0$\n",
    "\n",
    "$$0v = \\begin{pmatrix} 0 \\\\ 0 \\end{pmatrix} \\notin U$$"
   ]
  },
  {
   "cell_type": "markdown",
   "metadata": {},
   "source": [
    "#### Exercises\n",
    "\n",
    "### Exercise 3.6\n",
    "\n",
    "For which values of $\\lambda$ is the matrix\n",
    "\n",
    "$$A= \\begin{bmatrix} 7-\\lambda & -15 \\\\ 2 & -4-\\lambda \\end{bmatrix}$$\n",
    "\n",
    "not invertible?\n",
    "\n"
   ]
  },
  {
   "cell_type": "markdown",
   "metadata": {},
   "source": [
    "$$detA = (7-\\lambda)(-4-\\lambda)(30)$$\n",
    "\n",
    "$$detA = -28 - 7\\lambda + 4\\lambda + \\lambda^2 + 30$$\n",
    "\n",
    "$$det A = \\lambda^2 -3\\lambda + 2$$\n",
    "\n",
    "$$\\lambda^2 - 3\\lambda + 2 = 0$$\n",
    "\n",
    "$$\\frac{-b \\pm \\sqrt{b^2 -4ac}}{2a}$$\n",
    "\n"
   ]
  },
  {
   "cell_type": "markdown",
   "metadata": {},
   "source": [
    "$$\\frac{3 \\pm \\sqrt{3^2 - 4 \\times 1 \\times 2}}{2 \\times 1}$$"
   ]
  },
  {
   "cell_type": "markdown",
   "metadata": {},
   "source": [
    "$$\\lambda_1 =\\frac{3 + \\sqrt{3^2 - 4 \\times 1 \\times 2}}{2 \\times 1} = 2 $$\n",
    "\n",
    "$$\\lambda_2 =\\frac{3 - \\sqrt{3^2 - 4 \\times 1 \\times 2}}{2 \\times 1} = 1$$"
   ]
  },
  {
   "cell_type": "markdown",
   "metadata": {},
   "source": [
    "$$(\\lambda - 2)(\\lambda - 1)$$"
   ]
  },
  {
   "cell_type": "markdown",
   "metadata": {},
   "source": [
    "### Exercise 4.6\n",
    "\n",
    "Consider the matrices\n",
    "\n",
    "$$A = \\begin{pmatrix} 1 & 1 & 1 \\\\ 0 & 1 & -2 \\\\ 2 & -1 & 8 \\\\ 3 & 1 & 7 \\end{pmatrix}$$\n",
    "\n",
    "$$B = \\begin{pmatrix} -2 & 3 & -2 & 5 \\\\ 3 & -6 & 9 & -6 \\\\ -2 & 9 & -1 & 9 \\\\ 5 & -6 & 9 & -4 \\end{pmatrix}$$\n",
    "\n",
    "$$b = \\begin{pmatrix} 4 \\\\ 1 \\\\ a \\\\ b \\end{pmatrix}$$\n",
    "\n",
    "Find the rank of matrix $A$. Find a general solution of $Ax = 0$. \n",
    "\n",
    "Either write down anon-trivial linear combination of the column vectors of $A$ which is equal to the zero vector, $0$, or justify why this is not possible.\n",
    "\n",
    "First we use gauss elimination to put $A$ in RREF to find the rank of the matrix and also find the solution to $Ax=0$\n",
    "\n",
    "$$A = \\left(\\begin{array}{ccc|c} 1 & 1 & 1 & 0 \\\\ 0 & 1 & -2 & 0 \\\\ 2 & -1 & 8 & 0 \\\\ 3 & 1 & 7 & 0 \\end{array}\\right)$$"
   ]
  },
  {
   "cell_type": "markdown",
   "metadata": {},
   "source": [
    "$$\\xrightarrow{R_3-2R_1}R_3$$\n",
    "\n",
    "$$A = \\left(\\begin{array}{ccc|c} 1 & 1 & 1 & 0 \\\\ 0 & 1 & -2 & 0 \\\\ 0 & -3 & 6 & 0 \\\\ 3 & 1 & 7 & 0 \\end{array}\\right)$$"
   ]
  },
  {
   "cell_type": "markdown",
   "metadata": {},
   "source": [
    "$$\\xrightarrow{R_4-3R_1}R_4$$\n",
    "\n",
    "$$A = \\left(\\begin{array}{ccc|c} 1 & 1 & 1 & 0 \\\\ 0 & 1 & -2 & 0 \\\\ 0 & -3 & 6 & 0 \\\\ 0 & -2 & 4 & 0 \\end{array}\\right)$$"
   ]
  },
  {
   "cell_type": "markdown",
   "metadata": {},
   "source": [
    "$$\\xrightarrow{R_3+3R_2}R_3$$\n",
    "\n",
    "$$A = \\left(\\begin{array}{ccc|c} 1 & 1 & 1 & 0 \\\\ 0 & 1 & -2 & 0 \\\\ 0 & 0 & 0 & 0 \\\\ 0 & -2 & 4 & 0 \\end{array}\\right)$$"
   ]
  },
  {
   "cell_type": "markdown",
   "metadata": {},
   "source": [
    "$$\\xrightarrow{R_4+2R_2}R_4$$\n",
    "\n",
    "$$A = \\left(\\begin{array}{ccc|c} 1 & 1 & 1 & 0 \\\\ 0 & 1 & -2 & 0 \\\\ 0 & 0 & 0 & 0 \\\\ 0 & 0 & 0 & 0 \\end{array}\\right)$$"
   ]
  },
  {
   "cell_type": "markdown",
   "metadata": {},
   "source": [
    "$$\\xrightarrow{R_1-1R_2}R_1$$\n",
    "\n",
    "$$A = \\left(\\begin{array}{ccc|c} 1 & 0 & 3 & 0 \\\\ 0 & 1 & -2 & 0 \\\\ 0 & 0 & 0 & 0 \\\\ 0 & 0 & 0 & 0 \\end{array}\\right)$$"
   ]
  },
  {
   "cell_type": "markdown",
   "metadata": {},
   "source": [
    "$$rank(A)=2$$\n",
    "\n",
    "$$x = t \\begin{pmatrix} -3 \\\\ 2 \\\\ 1 \\end{pmatrix}, \\space t \\in \\mathbb{R}$$\n"
   ]
  },
  {
   "cell_type": "markdown",
   "metadata": {},
   "source": [
    "$$R(A)=\\{Ax | x \\in \\mathbb{R}^n \\}$$\n",
    "\n",
    "$$Ax = b$$\n",
    "\n"
   ]
  },
  {
   "cell_type": "markdown",
   "metadata": {},
   "source": [
    "$$\\left(\\begin{array}{ccc|c} 1 & 1 & 1 & 4 \\\\ 0 & 1 & -2 & 1 \\\\ 2 & -1 & 8 & a \\\\ 3 & 1 & 7 & b \\end{array}\\right)$$"
   ]
  },
  {
   "cell_type": "markdown",
   "metadata": {},
   "source": [
    "$$\\xrightarrow{R_3-2R_1}R_3$$\n",
    "\n",
    "$$\\left(\\begin{array}{ccc|c} 1 & 1 & 1 & 4 \\\\ 0 & 1 & -2 & 1 \\\\ 0 & -3 & 6 & a-8 \\\\ 3 & 1 & 7 & b \\end{array}\\right)$$"
   ]
  },
  {
   "cell_type": "markdown",
   "metadata": {},
   "source": [
    "$$\\xrightarrow{R4-3R_1}R_4$$\n",
    "\n",
    "$$\\left(\\begin{array}{ccc|c} 1 & 1 & 1 & 4 \\\\ 0 & 1 & -2 & 1 \\\\ 0 & -3 & 6 & a-8 \\\\ 0 & -2 & 4 & b-12 \\end{array}\\right)$$"
   ]
  },
  {
   "cell_type": "markdown",
   "metadata": {},
   "source": [
    "$$\\xrightarrow{R3+3R_2}R_3$$\n",
    "\n",
    "$$\\left(\\begin{array}{ccc|c} 1 & 1 & 1 & 4 \\\\ 0 & 1 & -2 & 1 \\\\ 0 & 0 & 0 & a-5 \\\\ 0 & -2 & 4 & b-12 \\end{array}\\right)$$"
   ]
  },
  {
   "cell_type": "markdown",
   "metadata": {},
   "source": [
    "$$\\xrightarrow{R4+2R_2}R_4$$\n",
    "\n",
    "$$\\left(\\begin{array}{ccc|c} 1 & 1 & 1 & 4 \\\\ 0 & 1 & -2 & 1 \\\\ 0 & 0 & 0 & a-5 \\\\ 0 & 0 & 0 & b-10 \\end{array}\\right)$$"
   ]
  },
  {
   "cell_type": "markdown",
   "metadata": {},
   "source": [
    "$$\\xrightarrow{R1-1R_2}R_1$$\n",
    "\n",
    "$$\\left(\\begin{array}{ccc|c} 1 & 0 & 3 & 3 \\\\ 0 & 1 & -2 & 1 \\\\ 0 & 0 & 0 & a-5 \\\\ 0 & 0 & 0 & b-10 \\end{array}\\right)$$"
   ]
  },
  {
   "cell_type": "markdown",
   "metadata": {},
   "source": [
    "$$x=\\begin{pmatrix}3 \\\\ 1 \\\\ 0 \\end{pmatrix} + t \\begin{pmatrix} -3 \\\\ 2 \\\\ 1 \\end{pmatrix}$$"
   ]
  },
  {
   "cell_type": "markdown",
   "metadata": {},
   "source": [
    "### Exercise 5.3\n",
    "\n",
    "Consider the following vectors\n",
    "\n",
    "$v_1 = \\begin{pmatrix} -1 \\\\ 0 \\\\ 1 \\end{pmatrix}, \\space \\space \\space$ $v_2 = \\begin{pmatrix} 1 \\\\ 2 \\\\ 3 \\end{pmatrix}, \\space \\space \\space$$u = \\begin{pmatrix} -1 \\\\ 2 \\\\ 5 \\end{pmatrix}, \\space \\space \\space$$w = \\begin{pmatrix} 1 \\\\ 2 \\\\ 5 \\end{pmatrix}$"
   ]
  },
  {
   "cell_type": "markdown",
   "metadata": {},
   "source": [
    "Show that $u$ can be expressed as a linear combination of $v_1$ and $v_2$, and write down the linear combination; but that $w$ cannot be expressed as a linear combination of $v_1$ and $v_2$\n",
    "\n"
   ]
  },
  {
   "cell_type": "markdown",
   "metadata": {},
   "source": [
    "$$u = \\alpha v_1 + \\beta v_2$$\n",
    "\n",
    "$$\\alpha = 2$$\n",
    "$$\\beta = 1$$\n",
    "\n",
    "$$u = 2 \\begin{pmatrix} -1 \\\\ 0 \\\\ 1 \\end{pmatrix} + 1 \\begin{pmatrix} 1 \\\\ 2 \\\\ 3 \\end{pmatrix} = \\begin{pmatrix} -1 \\\\ 2 \\\\ 5 \\end{pmatrix}$$"
   ]
  },
  {
   "cell_type": "markdown",
   "metadata": {},
   "source": [
    "## Problems\n",
    "\n",
    "### Problem 3.2\n",
    "\n",
    "Given a system of equations $Ax=b$ for several different values of $b$, it is often more practical to find $A^{-1}$, if it exists, and then to find the solutions using $x=A^{-1}b$.\n",
    "\n",
    "Use this method to solve $Ax=b_r$ for the matrix \n",
    "\n",
    "$$A=\\begin{pmatrix} 1 & 2 & 3 \\\\ 2 & 3 & 0 \\\\ 0 & 1 & 2 \\end{pmatrix},$$\n",
    "\n",
    "and for each of the following vectors $b_r$, $r=1, 2, 3$:\n",
    "\n",
    "$$b_1=\\begin{pmatrix} 1 \\\\ 0 \\\\ 3 \\end{pmatrix}$$\n",
    "\n",
    "$$b_2=\\begin{pmatrix} 1 \\\\ 1 \\\\ 1 \\end{pmatrix}$$\n",
    "\n",
    "$$b_3=\\begin{pmatrix} 0 \\\\ 1 \\\\ 0 \\end{pmatrix}$$\n",
    "\n",
    "$$A^{-1}= \\left[\\begin{array}{ccc|ccc} 1 & 2 & 3 & 1 & 0 & 0 \\\\ 2 & 3 & 0 & 0 & 1 & 0 \\\\ 0 & 1 & 2 & 0 & 0 & 1 \\end{array}\\right]$$"
   ]
  },
  {
   "cell_type": "markdown",
   "metadata": {},
   "source": [
    "$$\\xrightarrow{R_2-2R_1}R_2$$\n",
    "\n",
    "$$A^{-1}= \\left[\\begin{array}{ccc|ccc} 1 & 2 & 3 & 1 & 0 & 0 \\\\ 0 & -1 & -6 & -2 & 1 & 0 \\\\ 0 & 1 & 2 & 0 & 0 & 1 \\end{array}\\right]$$"
   ]
  },
  {
   "cell_type": "markdown",
   "metadata": {},
   "source": [
    "$$\\xrightarrow{-1R_2}R_2$$\n",
    "\n",
    "$$A^{-1}= \\left[\\begin{array}{ccc|ccc} 1 & 2 & 3 & 1 & 0 & 0 \\\\ 0 & 1 & 6 & 2 & -1 & 0 \\\\ 0 & 1 & 2 & 0 & 0 & 1 \\end{array}\\right]$$"
   ]
  },
  {
   "cell_type": "markdown",
   "metadata": {},
   "source": [
    "$$\\xrightarrow{R_3-1R_2}R_3$$\n",
    "\n",
    "$$A^{-1}= \\left[\\begin{array}{ccc|ccc} 1 & 2 & 3 & 1 & 0 & 0 \\\\ 0 & 1 & 6 & 2 & -1 & 0 \\\\ 0 & 0 & -4 & -2 & 1 & 1 \\end{array}\\right]$$"
   ]
  },
  {
   "cell_type": "markdown",
   "metadata": {},
   "source": [
    "$$\\xrightarrow{-\\frac{1}{4}R_3}R_3$$\n",
    "\n",
    "$$A^{-1}= \\left[\\begin{array}{ccc|ccc} 1 & 2 & 3 & 1 & 0 & 0 \\\\ 0 & 1 & 6 & 2 & -1 & 0 \\\\ 0 & 0 & 1 & \\frac{1}{2} & -\\frac{1}{4} & -\\frac{1}{4} \\end{array}\\right]$$"
   ]
  },
  {
   "cell_type": "markdown",
   "metadata": {},
   "source": [
    "$$\\xrightarrow{R_2-6R_3}R_2$$\n",
    "\n",
    "$$A^{-1}= \\left[\\begin{array}{ccc|ccc} 1 & 2 & 3 & 1 & 0 & 0 \\\\ 0 & 1 & 0 & -1 & \\frac{1}{2} & \\frac{3}{2} \\\\ 0 & 0 & 1 & \\frac{1}{2} & -\\frac{1}{4} & -\\frac{1}{4} \\end{array}\\right]$$"
   ]
  },
  {
   "cell_type": "markdown",
   "metadata": {},
   "source": [
    "$$\\xrightarrow{R_1-3R_3}R_1$$\n",
    "\n",
    "$$A^{-1}= \\left[\\begin{array}{ccc|ccc} 1 & 2 & 0 & -\\frac{1}{2} & \\frac{3}{4} & \\frac{3}{4} \\\\ 0 & 1 & 0 & -1 & \\frac{1}{2} & \\frac{3}{2} \\\\ 0 & 0 & 1 & \\frac{1}{2} & -\\frac{1}{4} & -\\frac{1}{4} \\end{array}\\right]$$"
   ]
  },
  {
   "cell_type": "markdown",
   "metadata": {},
   "source": [
    "$$\\xrightarrow{R_1-2R_2}R_1$$\n",
    "\n",
    "$$A^{-1}= \\left[\\begin{array}{ccc|ccc} 1 & 0 & 0 & \\frac{3}{2} & -\\frac{1}{4} & -\\frac{9}{4} \\\\ 0 & 1 & 0 & -1 & \\frac{1}{2} & \\frac{3}{2} \\\\ 0 & 0 & 1 & \\frac{1}{2} & -\\frac{1}{4} & -\\frac{1}{4} \\end{array}\\right]$$"
   ]
  },
  {
   "cell_type": "markdown",
   "metadata": {},
   "source": [
    "$$A^{-1}b_1=\\begin{pmatrix} 1 & 2 & 3 \\\\ 2 & 3 & 0 \\\\ 0 & 1 & 2 \\end{pmatrix} \\begin{pmatrix} 1 \\\\ 0 \\\\ 3 \\end{pmatrix}=\\begin{pmatrix} 10 \\\\ 2 \\\\ 6 \\end{pmatrix} $$\n",
    "\n",
    "$$A^{-1}b_2=\\begin{pmatrix} 1 & 2 & 3 \\\\ 2 & 3 & 0 \\\\ 0 & 1 & 2 \\end{pmatrix} \\begin{pmatrix} 1 \\\\ 1 \\\\ 1 \\end{pmatrix}=\\begin{pmatrix} 6 \\\\ 5 \\\\ 3 \\end{pmatrix} $$\n",
    "\n",
    "$$A^{-1}b_3=\\begin{pmatrix} 1 & 2 & 3 \\\\ 2 & 3 & 0 \\\\ 0 & 1 & 2 \\end{pmatrix} \\begin{pmatrix} 0 \\\\ 1 \\\\ 0 \\end{pmatrix}=\\begin{pmatrix} 2 \\\\ 3 \\\\ 1 \\end{pmatrix} $$"
   ]
  },
  {
   "cell_type": "markdown",
   "metadata": {},
   "source": []
  },
  {
   "cell_type": "code",
   "execution_count": null,
   "metadata": {},
   "outputs": [],
   "source": []
  }
 ],
 "metadata": {
  "kernelspec": {
   "display_name": "Python 3",
   "language": "python",
   "name": "python3"
  },
  "language_info": {
   "codemirror_mode": {
    "name": "ipython",
    "version": 3
   },
   "file_extension": ".py",
   "mimetype": "text/x-python",
   "name": "python",
   "nbconvert_exporter": "python",
   "pygments_lexer": "ipython3",
   "version": "3.8.5"
  }
 },
 "nbformat": 4,
 "nbformat_minor": 4
}
