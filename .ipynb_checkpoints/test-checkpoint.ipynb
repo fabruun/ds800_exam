{
 "cells": [
  {
   "cell_type": "markdown",
   "metadata": {},
   "source": [
    "$AB=A*B=\\begin{bmatrix} 2 & 1 & 3 \\\\ 1 & 2 & 1 \\end{bmatrix}\\begin{bmatrix} 3 & 1 \\\\ 1 & 0 \\\\ 1 & 1 \\end{bmatrix}=\\begin{bmatrix} 10 & 5 \\\\ 6 & 2 \\end{bmatrix} $"
   ]
  },
  {
   "cell_type": "code",
   "execution_count": null,
   "metadata": {},
   "outputs": [],
   "source": []
  }
 ],
 "metadata": {
  "kernelspec": {
   "display_name": "Python 3",
   "language": "python",
   "name": "python3"
  },
  "language_info": {
   "codemirror_mode": {
    "name": "ipython",
    "version": 3
   },
   "file_extension": ".py",
   "mimetype": "text/x-python",
   "name": "python",
   "nbconvert_exporter": "python",
   "pygments_lexer": "ipython3",
   "version": "3.7.6"
  }
 },
 "nbformat": 4,
 "nbformat_minor": 4
}
