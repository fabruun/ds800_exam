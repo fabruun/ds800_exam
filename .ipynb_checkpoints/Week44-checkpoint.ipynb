{
 "cells": [
  {
   "cell_type": "markdown",
   "metadata": {},
   "source": [
    "# Activities\n",
    "\n",
    "## Activity 1.3\n",
    "\n",
    "$A= \n",
    "\\begin{bmatrix}\n",
    "    2 & 1 & 7 & 8 \\\\\n",
    "    0 & -2 & 5 & -1 \\\\\n",
    "    4 & 9 & 3 & 0\n",
    "\\end{bmatrix}\n",
    "$\n",
    "\n",
    "$a_{32} = 9$\n",
    "\n",
    "## Activity 1.4\n",
    "\n",
    "The matrix below is the only one that is diagonal\n",
    "\n",
    "$\n",
    "\\begin{bmatrix}\n",
    "    0 & 0 & 0 \\\\\n",
    "    0 & -1 & 0 \\\\\n",
    "    0 & 0 & 2\n",
    "\\end{bmatrix}\n",
    "$\n",
    "\n",
    "## Activity 1.11\n",
    "\n",
    "The matrices\n",
    "$\n",
    "A = \n",
    "\\begin{bmatrix}\n",
    "    2 & 1 & 3 \\\\\n",
    "    1 & 2 & 1\n",
    "\\end{bmatrix} \\\\\n",
    "B = \n",
    "\\begin{bmatrix}\n",
    "    3 & 1 \\\\\n",
    "    1 & 0 \\\\\n",
    "    1 & 1\n",
    "\\end{bmatrix}\n",
    "$\n",
    "\n",
    "Matrix $A$ has the dimensions $2*3$ and matrix $B$ has the dimensions $3*2$, therefore matrix $AB$ will have the dimensions $2*2$ and the matrix $BA$ will have the dimensions $3*3$.\n",
    "\n",
    "Multiply the matrices to find the two product matrices, $AB$ and $BA$."
   ]
  },
  {
   "cell_type": "markdown",
   "metadata": {},
   "source": [
    "$AB=A*B=\\begin{bmatrix} 2 & 1 & 3 \\\\ 1 & 2 & 1 \\end{bmatrix}\\begin{bmatrix} 3 & 1 \\\\ 1 & 0 \\\\ 1 & 1 \\end{bmatrix}=\\begin{bmatrix} 10 & 5 \\\\ 6 & 2 \\end{bmatrix} $"
   ]
  },
  {
   "cell_type": "markdown",
   "metadata": {},
   "source": [
    "$BA = B * A =\\begin{bmatrix}3 & 1 \\\\1 & 0 \\\\1 & 1\\end{bmatrix}\\begin{bmatrix}2 & 1 & 3 \\\\1 & 2 & 1\\end{bmatrix}\\begin{bmatrix}7 & 5 & 10 \\\\2 & 1 & 3 \\\\3 & 3 & 4\\end{bmatrix}$"
   ]
  },
  {
   "cell_type": "code",
   "execution_count": 11,
   "metadata": {},
   "outputs": [
    {
     "name": "stdout",
     "output_type": "stream",
     "text": [
      "AB:\n",
      "[[10  5]\n",
      " [ 6  2]]\n",
      "BA:\n",
      "[[ 7  5 10]\n",
      " [ 2  1  3]\n",
      " [ 3  3  4]]\n"
     ]
    }
   ],
   "source": [
    "import numpy as np\n",
    "print(\"AB:\")\n",
    "print(np.matrix([[2, 1, 3], [1, 2, 1]])*np.matrix([[3, 1], [1, 0], [1, 1]]))\n",
    "print(\"BA:\")\n",
    "print(np.matrix([[3,1],[1,0],[1,1]])*np.matrix([[2,1,3],[1,2,1]]))"
   ]
  },
  {
   "cell_type": "markdown",
   "metadata": {},
   "source": [
    "## Activity 1.12\n",
    "\n",
    "Show that $AB \\ne BA$ by multityplying $AB$ and $BA$ and comparing them with each other.\n",
    "$\n",
    "A = \n",
    "\\begin{bmatrix}\n",
    "    1 & 2 \\\\\n",
    "    3 & 4\n",
    "\\end{bmatrix} \\\\\n",
    "B =\n",
    "\\begin{bmatrix}\n",
    "    1 & 1 \\\\\n",
    "    0 & 1\n",
    "\\end{bmatrix}\n",
    "$"
   ]
  },
  {
   "cell_type": "markdown",
   "metadata": {},
   "source": [
    "$AB =\\begin{bmatrix}1 & 2 \\\\3 & 4\\end{bmatrix}\\begin{bmatrix}1 & 1 \\\\0 & 1\\end{bmatrix}=\\begin{bmatrix}1 & 3 \\\\3 & 7\n",
    "\\end{bmatrix}\\\\BA =\\begin{bmatrix}1 & 1 \\\\0 & 1\\end{bmatrix}\\begin{bmatrix}1 & 2 \\\\3 & 4\\end{bmatrix}=\\begin{bmatrix}4 & 6 \\\\3 & 4\\end{bmatrix}$"
   ]
  },
  {
   "cell_type": "code",
   "execution_count": 13,
   "metadata": {},
   "outputs": [
    {
     "name": "stdout",
     "output_type": "stream",
     "text": [
      "AB:\n",
      "[[1 3]\n",
      " [3 7]]\n",
      "BA:\n",
      "[[4 6]\n",
      " [3 4]]\n"
     ]
    }
   ],
   "source": [
    "import numpy as np\n",
    "print(\"AB:\")\n",
    "print(np.matrix([[1, 2], [3, 4]])*np.matrix([[1,1],[0,1]]))\n",
    "print(\"BA:\")\n",
    "print(np.matrix([[1,1],[0,1]])*np.matrix([[1,2],[3,4]]))"
   ]
  },
  {
   "cell_type": "markdown",
   "metadata": {},
   "source": [
    "## Activity 1.32\n",
    "Fill in the missing numbers if the Matrix $A$ is symmetric:\n",
    "\n",
    "$A =\\begin{bmatrix}1 & 4 & x \\\\x & 2 & x \\\\5 & x & 3\\end{bmatrix}=\\begin{bmatrix}1 & x & 5 \\\\4 & 2 & -1 \\\\x & x & 3\n",
    "\\end{bmatrix}$"
   ]
  },
  {
   "cell_type": "markdown",
   "metadata": {},
   "source": [
    "# Exercises\n",
    "\n",
    "## Exercise 1.1\n",
    "\n",
    "Given the matrices:\n",
    "$\n",
    "A =\n",
    "\\begin{bmatrix}\n",
    "    1 & 3 & 5 \\\\\n",
    "    -1 & 1 & 0\n",
    "\\end{bmatrix}\n",
    "\\\\\n",
    "B =\n",
    "\\begin{bmatrix}\n",
    "    1 & 0 & 1 \\\\\n",
    "    2 & 1 & 1 \\\\\n",
    "    1 & 1 & -1\n",
    "\\end{bmatrix}\n",
    "\\\\\n",
    "C = \n",
    "\\begin{bmatrix}\n",
    "    1 & 1 \\\\\n",
    "    3 & 2 \\\\\n",
    "    -1 & 4\n",
    "\\end{bmatrix}\n",
    "\\\\\n",
    "\\textbf{d} =\n",
    "\\begin{bmatrix}\n",
    "    2 \\\\\n",
    "    -1 \\\\\n",
    "    1\n",
    "\\end{bmatrix}\n",
    "$\n",
    "which of the following matrix expressions are defined? Compute those which are defined.\n",
    "\n",
    "a. $A\\textbf{d}$\n",
    "b. $AB+C$\n",
    "c. $A+C^{T}$\n",
    "d. $C^{T}C$\n",
    "e. $BC$\n",
    "f. $\\textbf{d}^{T}B$\n",
    "g. $C\\textbf{d}$\n",
    "h. $\\textbf{d}^{T}\\textbf{d}$\n",
    "i. $\\textbf{d}\\textbf{d}^{T}$"
   ]
  },
  {
   "cell_type": "markdown",
   "metadata": {},
   "source": [
    "a) Not defined. \n",
    "\n",
    "\n",
    "b) Not defined. \n",
    "\n",
    "\n",
    "c) $\n",
    "A+C^T =\\begin{bmatrix}1 & 3 & 5 \\\\-1 & 1 & 0\\end{bmatrix}+ \\begin{bmatrix}1 & 3 & -1 \\\\1 & 2 & 4\\end{bmatrix}= \\begin{bmatrix}2 & 6 & 4 \\\\0 & 3 & 4\\end{bmatrix}$\n",
    "\n",
    "\n",
    "d) \n",
    "$ C^{T}C =\\begin{bmatrix}1 & 3 & -1 \\\\ 1 & 2 & 4 \\end{bmatrix} \\begin{bmatrix} 1 & 1 \\\\ 3 & 2 \\\\ -1 & 4\n",
    "\\end{bmatrix}= \\begin{bmatrix} 11 & 3 \\\\ 3 & 21 \\end{bmatrix}$\n",
    "\n",
    "\n",
    "e) \n",
    "$ BC=\\begin{bmatrix}1 & 0 & 1 \\\\ 2 & 1 & 1 \\\\ 1 & 1 -1 \\end{bmatrix}\\begin{bmatrix}1 & 1 \\\\3 & 2 \\\\-1 & 4\n",
    "\\end{bmatrix}=\\begin{bmatrix}0 & 5 \\\\4 & 8 \\\\5 & -1\\end{bmatrix}$\n",
    "\n",
    "\n",
    "f)\n",
    "$\\textbf{d}^{T}B =\\begin{bmatrix}2 & -1 & 1\\end{bmatrix}\\begin{bmatrix}1 & 0 & 1 \\\\2 & 1 & 1 \\\\1 & 1 & -1\n",
    "\\end{bmatrix}=\\begin{bmatrix}1 & 0 & 0 \\\\ \\end{bmatrix}$\n",
    "\n",
    "\n",
    "g) Not defined.\n",
    "\n",
    "\n",
    "h) \n",
    "$\\textbf{d}^{T}\\textbf{d} =\\begin{bmatrix}2 & -1 & 1\\end{bmatrix}\\begin{bmatrix}2 \\\\-1 \\\\1\\end{bmatrix}=\\begin{bmatrix}6\\end{bmatrix}$\n",
    "\n",
    "\n",
    "i)\n",
    "$\\textbf{d}\\textbf{d}^T =\\begin{bmatrix}2 \\\\-1 \\\\1\\end{bmatrix}\\begin{bmatrix}2 & -1 & 1\\end{bmatrix}= \\begin{bmatrix}4 & -2 & 1 \\\\-2 & 1 & -1 \\\\2 & 1 & 1\\end{bmatrix}$"
   ]
  },
  {
   "cell_type": "markdown",
   "metadata": {},
   "source": [
    "# Problems\n",
    "\n",
    "## Problem 1.5\n",
    "\n",
    "A square matrix $M$ is said to be *skew symmetrix* if $M = -M^T$.\n",
    "Given that the $3*3$ matrix $A = (a_{ij})$ is symmetric and the $3*3$ matrix $B=(b_{ij})$ is skew symmetric, find the missing entries in the following matrices: \n",
    "\n",
    "\n",
    "$A = \\begin{bmatrix}1 & -4 & 7 \\\\ -4 & 6 & 0 \\\\ 7 & 0 & 2\\end{bmatrix}$\n",
    "\n",
    "$B = \\begin{bmatrix}0 & -3 & 5 \\\\3 & 0 & 2 \\\\-5 & -2 & 0\\end{bmatrix}$"
   ]
  },
  {
   "cell_type": "code",
   "execution_count": null,
   "metadata": {},
   "outputs": [],
   "source": []
  }
 ],
 "metadata": {
  "kernelspec": {
   "display_name": "Python 3",
   "language": "python",
   "name": "python3"
  },
  "language_info": {
   "codemirror_mode": {
    "name": "ipython",
    "version": 3
   },
   "file_extension": ".py",
   "mimetype": "text/x-python",
   "name": "python",
   "nbconvert_exporter": "python",
   "pygments_lexer": "ipython3",
   "version": "3.7.6"
  }
 },
 "nbformat": 4,
 "nbformat_minor": 4
}
