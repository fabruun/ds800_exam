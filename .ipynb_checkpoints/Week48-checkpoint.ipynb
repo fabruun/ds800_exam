{
 "cells": [
  {
   "cell_type": "markdown",
   "metadata": {},
   "source": [
    "# Week 48\n",
    "\n",
    "## Activities\n",
    "\n",
    "### Activity 8.6\n",
    "\n",
    "Determine the eigenvectors for $0$ and $12$. Check your answers: verify that $Av = \\lambda v$ for each eigenvalue and one corresponding eigenvector.\n",
    "\n",
    "$$A = \\begin{bmatrix} 4 & 0 & 4 \\\\ 0 & 4 & 4 \\\\ 4 & 4 & 8 \\end{bmatrix}$$\n",
    "\n",
    "$$|A-\\lambda I| = (4-\\lambda)\\lambda(\\lambda-12)$$\n",
    "\n",
    "First calculate the eigenvectors for the eigenvalue of $0$:"
   ]
  },
  {
   "cell_type": "markdown",
   "metadata": {},
   "source": [
    "$$|A-0I| = A$$\n",
    "\n",
    "$$\\begin{bmatrix} 4 & 0 & 4 \\\\ 0 & 4 & 4 \\\\ 4 & 4 & 8 \\end{bmatrix}-0\\begin{bmatrix} 1 & 0 & 0 \\\\ 0 & 1 & 0 \\\\ 0 & 0 & 1 \\end{bmatrix}$$\n",
    "\n",
    "$$\\Updownarrow$$\n",
    "\n",
    "$$\\begin{bmatrix} 4 & 0 & 4 \\\\ 0 & 4 & 4 \\\\ 4 & 4 & 8 \\end{bmatrix}-\\begin{bmatrix} 0 & 0 & 0 \\\\ 0 & 0 & 0 \\\\ 0 & 0 & 0 \\end{bmatrix} = \\begin{bmatrix} 4 & 0 & 4 \\\\ 0 & 4 & 4 \\\\ 4 & 4 & 8 \\end{bmatrix}$$\n",
    "\n",
    "Put matrix $A$ in REF\n",
    "\n",
    "$$\\begin{bmatrix} 4 & 0 & 4 \\\\ 0 & 4 & 4 \\\\ 4 & 4 & 8 \\end{bmatrix}$$\n",
    "\n",
    "$$\\xrightarrow{\\frac{1}{4}R_1}R_1$$"
   ]
  },
  {
   "cell_type": "markdown",
   "metadata": {},
   "source": [
    "$$\\begin{bmatrix} 1 & 0 & 1 \\\\ 0 & 4 & 4 \\\\ 4 & 4 & 8 \\end{bmatrix}$$\n",
    "\n",
    "$$\\xrightarrow{R_3-4R_1}R_3$$"
   ]
  },
  {
   "cell_type": "markdown",
   "metadata": {},
   "source": [
    "$$\\begin{bmatrix} 1 & 0 & 1 \\\\ 0 & 4 & 4 \\\\ 0 & 4 & 4 \\end{bmatrix}$$\n",
    "\n",
    "$$\\xrightarrow{\\frac{1}{4}R_2}R_2$$"
   ]
  },
  {
   "cell_type": "markdown",
   "metadata": {},
   "source": [
    "$$\\begin{bmatrix} 1 & 0 & 1 \\\\ 0 & 1 & 1 \\\\ 0 & 4 & 4 \\end{bmatrix}$$\n",
    "\n",
    "$$\\xrightarrow{R_3-4R_2}R_3$$"
   ]
  },
  {
   "cell_type": "markdown",
   "metadata": {},
   "source": [
    "$$\\begin{bmatrix} 1 & 0 & 1 \\\\ 0 & 1 & 1 \\\\ 0 & 0 & 0 \\end{bmatrix}$$"
   ]
  },
  {
   "cell_type": "markdown",
   "metadata": {},
   "source": [
    "$$x = t \\begin{bmatrix} -1 \\\\ -1 \\\\ 1 \\end{bmatrix}, \\space t \\in \\mathbb{R}$$"
   ]
  },
  {
   "cell_type": "markdown",
   "metadata": {},
   "source": [
    "Then we calculate the eigenvector for the eigenvalue of 12:\n",
    "\n",
    "$$|A-12I| = A$$\n",
    "\n",
    "$$\\begin{bmatrix} 4 & 0 & 4 \\\\ 0 & 4 & 4 \\\\ 4 & 4 & 8 \\end{bmatrix}-12\\begin{bmatrix} 1 & 0 & 0 \\\\ 0 & 1 & 0 \\\\ 0 & 0 & 1 \\end{bmatrix}$$\n",
    "\n",
    "$$\\Updownarrow$$\n",
    "\n",
    "$$\\begin{bmatrix} 4 & 0 & 4 \\\\ 0 & 4 & 4 \\\\ 4 & 4 & 8 \\end{bmatrix}-\\begin{bmatrix} 12 & 0 & 0 \\\\ 0 & 12 & 0 \\\\ 0 & 0 & 12 \\end{bmatrix} = \\begin{bmatrix} 4 & 0 & 4 \\\\ 0 & 4 & 4 \\\\ 4 & 4 & 8 \\end{bmatrix}$$\n",
    "\n",
    "Put matrix $A$ in REF\n",
    "\n",
    "$$\\begin{bmatrix} -8 & 0 & 4 \\\\ 0 & -8 & 4 \\\\ 4 & 4 & -4 \\end{bmatrix}$$\n",
    "\n",
    "$$\\xrightarrow{-\\frac{1}{8}R_1}R_1$$"
   ]
  },
  {
   "cell_type": "markdown",
   "metadata": {},
   "source": [
    "$$\\begin{bmatrix} 1 & 0 & -\\frac{1}{2} \\\\ 0 & -8 & 4 \\\\ 4 & 4 & -4 \\end{bmatrix}$$\n",
    "\n",
    "$$\\xrightarrow{R_3-4R_1}R_3$$"
   ]
  },
  {
   "cell_type": "markdown",
   "metadata": {},
   "source": [
    "$$\\begin{bmatrix} 1 & 0 & -\\frac{1}{2} \\\\ 0 & -8 & 4 \\\\ 0 & 4 & -2 \\end{bmatrix}$$\n",
    "\n",
    "$$\\xrightarrow{-\\frac{1}{8}R_2}R_2$$"
   ]
  },
  {
   "cell_type": "markdown",
   "metadata": {},
   "source": [
    "$$\\begin{bmatrix} 1 & 0 & -\\frac{1}{2} \\\\ 0 & 1 & -\\frac{1}{2} \\\\ 0 & 4 & -2 \\end{bmatrix}$$\n",
    "\n",
    "$$\\xrightarrow{R_3-4R_2}R_3$$"
   ]
  },
  {
   "cell_type": "markdown",
   "metadata": {},
   "source": [
    "$$\\begin{bmatrix} 1 & 0 & -\\frac{1}{2} \\\\ 0 & 1 & -\\frac{1}{2} \\\\ 0 & 0 & 0 \\end{bmatrix}$$"
   ]
  },
  {
   "cell_type": "markdown",
   "metadata": {},
   "source": [
    "$$x = t \\begin{bmatrix} 1 \\\\ 1 \\\\ 2 \\end{bmatrix}, \\space t \\in \\mathbb{R}$$"
   ]
  },
  {
   "cell_type": "markdown",
   "metadata": {},
   "source": [
    "### Activity 8.8\n",
    "\n",
    "$$-(\\lambda+1)(\\lambda^2+b\\lambda + 2)$$\n",
    "\n",
    "$$-(\\lambda^2+b\\lambda^2)$$\n",
    "\n",
    "$$-\\lambda^2 - b\\lambda^2 = -4\\lambda^2$$\n",
    "\n",
    "$$b=3$$"
   ]
  },
  {
   "cell_type": "markdown",
   "metadata": {},
   "source": [
    "### Activity 8.19 \n",
    "\n",
    "$$A = \\begin{bmatrix} 7 & -15 \\\\ 2 & -4 \\end{bmatrix}, \\space \\space \\space P = \\begin{bmatrix} 5 & 3 \\\\ 2 & 1 \\end{bmatrix}$$"
   ]
  },
  {
   "cell_type": "markdown",
   "metadata": {},
   "source": [
    "$$P^{-1}AP=D=\\begin{bmatrix} 1 & 0 \\\\ 0 & 2 \\end{bmatrix}$$"
   ]
  },
  {
   "cell_type": "markdown",
   "metadata": {},
   "source": [
    "$$AP = \\begin{bmatrix} 7 & -15 \\\\ 2 & -4 \\end{bmatrix} \\begin{bmatrix} 5 & 3 \\\\ 2 & 1 \\end{bmatrix} =\\begin{bmatrix} 5 & 6 \\\\ 2 & 2 \\end{bmatrix} $$"
   ]
  },
  {
   "cell_type": "markdown",
   "metadata": {},
   "source": [
    "$$P^{-1} = -1 \\begin{bmatrix} 1 & -3 \\\\ -2 & 5 \\end{bmatrix} = \\begin{bmatrix} -1 & 3 \\\\ 2 & -5 \\end{bmatrix}$$"
   ]
  },
  {
   "cell_type": "markdown",
   "metadata": {},
   "source": [
    "$$P^{-1}AP = \\begin{bmatrix} -1 & 3 \\\\ 2 & -5 \\end{bmatrix}\\begin{bmatrix} 5 & 6 \\\\ 2 & 2 \\end{bmatrix} = \\begin{bmatrix} 1 & 0 \\\\ 0 & 2 \\end{bmatrix}$$"
   ]
  },
  {
   "cell_type": "markdown",
   "metadata": {},
   "source": [
    "## Exercises \n",
    "\n",
    "### Exercise 8.5\n",
    "\n",
    "$$A = \\begin{bmatrix} 6 & 13 & -8 \\\\ 2 & 5 & -2 \\\\ 7 & 17 & -9 \\end{bmatrix}, \\space \\space \\space v = \\begin{bmatrix} 1 \\\\ 0 \\\\ 1 \\end{bmatrix}$$"
   ]
  },
  {
   "cell_type": "markdown",
   "metadata": {},
   "source": [
    "$$\\begin{bmatrix} 6 & 13 & -8 \\\\ 2 & 5 & -2 \\\\ 7 & 17 & -9 \\end{bmatrix}\\begin{bmatrix} 1 \\\\ 0 \\\\ 1 \\end{bmatrix} = \\begin{bmatrix} -2 \\\\ 0 \\\\ -2 \\end{bmatrix}$$\n",
    "\n",
    "Eigenvalue is $-2$."
   ]
  },
  {
   "cell_type": "markdown",
   "metadata": {},
   "source": [
    "The transformation shows us that there is an eigenvalue of $1$ therefor we can write:\n",
    "\n",
    "$$A-I = \\begin{bmatrix} 6 & 13 & -8 \\\\ 2 & 5 & -2 \\\\ 7 & 17 & -9 \\end{bmatrix}-\\begin{bmatrix} 1 & 0 & 0 \\\\ 0 & 1 & 0 \\\\ 0 & 0 & 1 \\end{bmatrix} = \\begin{bmatrix} 5 & 13 & -8 \\\\ 2 & 4 & -2 \\\\ 7 & 17 & -10 \\end{bmatrix}$$"
   ]
  },
  {
   "cell_type": "markdown",
   "metadata": {},
   "source": [
    "$$\\xrightarrow{R_1 \\Leftrightarrow R_2}R_1$$\n",
    "$$\\xrightarrow{\\frac{1}{2}R_1}R_1$$\n",
    "\n",
    "\n",
    "$$\\begin{bmatrix} 1 & 2 & -1 \\\\ 5 & 13 & -8 \\\\ 7 & 17 & -10 \\end{bmatrix}$$"
   ]
  },
  {
   "cell_type": "markdown",
   "metadata": {},
   "source": [
    "$$\\xrightarrow{R_2-5R_1}R_2$$\n",
    "\n",
    "$$\\begin{bmatrix} 1 & 2 & -1 \\\\ 0 & 3 & -3 \\\\ 7 & 17 & -10 \\end{bmatrix}$$"
   ]
  },
  {
   "cell_type": "markdown",
   "metadata": {},
   "source": [
    "$$\\xrightarrow{R_3-7R_1}R_3$$\n",
    "\n",
    "$$\\begin{bmatrix} 1 & 2 & -1 \\\\ 0 & 3 & -3 \\\\ 0 & 3 & -3 \\end{bmatrix}$$"
   ]
  },
  {
   "cell_type": "markdown",
   "metadata": {},
   "source": [
    "$$\\xrightarrow{\\frac{1}{3}R_2}R_2$$\n",
    "\n",
    "$$\\begin{bmatrix} 1 & 2 & -1 \\\\ 0 & 1 & -1 \\\\ 0 & 3 & -3 \\end{bmatrix}$$"
   ]
  },
  {
   "cell_type": "markdown",
   "metadata": {},
   "source": [
    "$$\\xrightarrow{R_3-3R_2}R_3$$\n",
    "\n",
    "$$\\begin{bmatrix} 1 & 2 & -1 \\\\ 0 & 1 & -1 \\\\ 0 & 0 & 0 \\end{bmatrix}$$"
   ]
  },
  {
   "cell_type": "markdown",
   "metadata": {},
   "source": [
    "$$\\xrightarrow{R_1-2R_2}R_1$$\n",
    "\n",
    "$$\\begin{bmatrix} 1 & 0 & 1 \\\\ 0 & 1 & -1 \\\\ 0 & 0 & 0 \\end{bmatrix}$$"
   ]
  },
  {
   "cell_type": "markdown",
   "metadata": {},
   "source": [
    "$$x = t \\begin{bmatrix} -1 \\\\ 1 \\\\ 1 \\end{bmatrix}, \\space t \\in \\mathbb{R}$$"
   ]
  },
  {
   "cell_type": "markdown",
   "metadata": {},
   "source": [
    "## Problems \n",
    "\n",
    "### Problem 8.1\n",
    "\n",
    "Determine which, if any, of the following vectors are eigenvectors for the given matrix $A$:\n",
    "\n",
    "$$x= \\begin{bmatrix} 1 \\\\ -1 \\\\ 3 \\end{bmatrix}, \\space \\space \\space y= \\begin{bmatrix} 1 \\\\ 5 \\\\ 3 \\end{bmatrix}, \\space \\space \\space z= \\begin{bmatrix} 5 \\\\ 0 \\\\ 1 \\end{bmatrix}; \\space \\space \\space A= \\begin{bmatrix} 1 & 1 & 0 \\\\ 1 & 4 & 3 \\\\ 0 & 3 & 1 \\end{bmatrix}.$$"
   ]
  },
  {
   "cell_type": "markdown",
   "metadata": {},
   "source": [
    "$$Ax = \\begin{bmatrix} 1 & 1 & 0 \\\\ 1 & 4 & 3 \\\\ 0 & 3 & 1 \\end{bmatrix}\\begin{bmatrix} 1 \\\\ -1 \\\\ 3 \\end{bmatrix} = \\begin{bmatrix} 0 \\\\ 6 \\\\ 0 \\end{bmatrix}$$"
   ]
  },
  {
   "cell_type": "markdown",
   "metadata": {},
   "source": [
    "$$Ay = \\begin{bmatrix} 1 & 1 & 0 \\\\ 1 & 4 & 3 \\\\ 0 & 3 & 1 \\end{bmatrix}\\begin{bmatrix} 1 \\\\ 5 \\\\ 3 \\end{bmatrix} = \\begin{bmatrix} 6 \\\\ 30 \\\\ 18 \\end{bmatrix}$$"
   ]
  },
  {
   "cell_type": "markdown",
   "metadata": {},
   "source": [
    "$$Az = \\begin{bmatrix} 1 & 1 & 0 \\\\ 1 & 4 & 3 \\\\ 0 & 3 & 1 \\end{bmatrix}\\begin{bmatrix} 5 \\\\ 0 \\\\ 1 \\end{bmatrix} = \\begin{bmatrix} 5 \\\\ 8 \\\\ 1 \\end{bmatrix}$$"
   ]
  },
  {
   "cell_type": "code",
   "execution_count": 52,
   "metadata": {},
   "outputs": [
    {
     "name": "stdout",
     "output_type": "stream",
     "text": [
      "[[0]\n",
      " [6]\n",
      " [0]]\n",
      "[[ 6]\n",
      " [30]\n",
      " [18]]\n",
      "[[5]\n",
      " [8]\n",
      " [1]]\n"
     ]
    }
   ],
   "source": [
    "A = np.matrix([[1, 1, 0], [1 ,4, 3], [0, 3, 1]])\n",
    "x = np.transpose(np.matrix([[1, -1, 3]]))\n",
    "y = np.transpose(np.matrix([[1, 5, 3]]))\n",
    "z = np.transpose(np.matrix([[5, 0, 1]]))\n",
    "\n",
    "print(A*x)\n",
    "print(A*y)\n",
    "print(A*z)"
   ]
  },
  {
   "cell_type": "code",
   "execution_count": null,
   "metadata": {},
   "outputs": [],
   "source": []
  }
 ],
 "metadata": {
  "kernelspec": {
   "display_name": "Python 3",
   "language": "python",
   "name": "python3"
  },
  "language_info": {
   "codemirror_mode": {
    "name": "ipython",
    "version": 3
   },
   "file_extension": ".py",
   "mimetype": "text/x-python",
   "name": "python",
   "nbconvert_exporter": "python",
   "pygments_lexer": "ipython3",
   "version": "3.8.5"
  }
 },
 "nbformat": 4,
 "nbformat_minor": 4
}
