{
 "cells": [
  {
   "cell_type": "markdown",
   "metadata": {},
   "source": [
    "# DS800 - Introduction to Data Processing\n",
    "\n",
    "## 1 Linear Algebra: Problem 1\n",
    "\n",
    "Consider a set of three linear equations in three unknowns that can be written in matrix form as\n",
    "\n",
    "$\\begin{bmatrix} 1 & 2 & 6 \\\\ 1 & 4 & 2b \\\\ 1 & 4 & 2a \\end{bmatrix}\\begin{bmatrix} x_1 \\\\ x_2 \\\\ x_3 \\end{bmatrix} = \\begin{bmatrix}2\\\\2\\\\2\\end{bmatrix}$\n",
    "\n",
    "where the coefficient matrix (shown above) is denoted $K$ and the augmented matrix is denoted $T$.\n",
    "\n",
    "a) Show that the augmented matrix $T$ may be reduced using elementary row operatuibs to the following matrix:\n",
    "\n",
    "$\\begin{bmatrix} 1 & 2 & 6 & 2 \\\\ 0 & 1 & b-3 & 0 \\\\ 0 & 0 & a-b & 0 \\end{bmatrix}$\n",
    "\n",
    "What is the rank of the coefficient matrix $K$ and the augmented matrix $T$, and how does the rank depend on the values of $a$ and $b$?\n",
    "\n",
    "We start by denoting our augmented matrix $T$ and using gauss elimination find $x_1$, $x_2$ and $x_3$:\n",
    "\n",
    "$\\left[\\begin{array}{ccc|c}1 & 2 & 6 & 2 \\\\ 1 & 4 & 2b & 2 \\\\ 1 & 4 & 2a & 2 \\end{array}\\right]$\n",
    "\n",
    "$\\xrightarrow[]{R_{2}-R_{1}} R_2$\n",
    "\n",
    "$\\left[\\begin{array}{ccc|c}1 & 2 & 6 & 2 \\\\ 0 & 2 & 2b-6 & 0 \\\\ 1 & 4 & 2a & 2 \\end{array}\\right]$\n",
    "\n",
    "$\\xrightarrow[]{R_{3}-R_{1}} R_3$\n",
    "\n",
    "$\\left[\\begin{array}{ccc|c}1 & 2 & 6 & 2 \\\\ 0 & 2 & 2b-6 & 0 \\\\ 0 & 2 & 2a-6 & 0 \\end{array}\\right]$\n",
    "\n",
    "$\\xrightarrow[]{R_{2}*\\frac{1}{2}} R_2$\n",
    "\n",
    "$\\left[\\begin{array}{ccc|c}1 & 2 & 6 & 2 \\\\ 0 & 1 & b-3 & 0 \\\\ 0 & 2 & 2a-6 & 0 \\end{array}\\right]$\n",
    "\n",
    "$\\xrightarrow[]{R_{3}-2R_2} R_3$\n",
    "\n",
    "$\\left[\\begin{array}{ccc|c}1 & 2 & 6 & 2 \\\\ 0 & 1 & b-3 & 0 \\\\ 0 & 0 & 2a-2b-3 & 0 \\end{array}\\right]$"
   ]
  },
  {
   "cell_type": "code",
   "execution_count": null,
   "metadata": {},
   "outputs": [],
   "source": []
  }
 ],
 "metadata": {
  "kernelspec": {
   "display_name": "Python 3",
   "language": "python",
   "name": "python3"
  },
  "language_info": {
   "codemirror_mode": {
    "name": "ipython",
    "version": 3
   },
   "file_extension": ".py",
   "mimetype": "text/x-python",
   "name": "python",
   "nbconvert_exporter": "python",
   "pygments_lexer": "ipython3",
   "version": "3.7.6"
  }
 },
 "nbformat": 4,
 "nbformat_minor": 4
}
